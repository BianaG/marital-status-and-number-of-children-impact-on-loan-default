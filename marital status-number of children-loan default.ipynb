{
 "cells": [
  {
   "cell_type": "markdown",
   "metadata": {},
   "source": [
    "# Marital Status and Number of Children Impact on Loan Default"
   ]
  },
  {
   "cell_type": "markdown",
   "metadata": {},
   "source": [
    "## Introducation\n",
    "\n",
    "The objective of this project is to prepare a report for the bank's loan division, which determines whether the customer's marital status and number of children have an impact on whether they will default on a loan. The insights of the report will be considered later on when building a credit score for a potential customer."
   ]
  },
  {
   "cell_type": "markdown",
   "metadata": {},
   "source": [
    "## Open the data file and have a look at the general information. "
   ]
  },
  {
   "cell_type": "code",
   "execution_count": 1,
   "metadata": {},
   "outputs": [],
   "source": [
    "import pandas as pd\n",
    "from pymystem3 import Mystem\n",
    "from collections import Counter"
   ]
  },
  {
   "cell_type": "code",
   "execution_count": 2,
   "metadata": {
    "scrolled": true
   },
   "outputs": [
    {
     "name": "stdout",
     "output_type": "stream",
     "text": [
      "<class 'pandas.core.frame.DataFrame'>\n",
      "RangeIndex: 21525 entries, 0 to 21524\n",
      "Data columns (total 12 columns):\n",
      " #   Column            Non-Null Count  Dtype  \n",
      "---  ------            --------------  -----  \n",
      " 0   children          21525 non-null  int64  \n",
      " 1   days_employed     19351 non-null  float64\n",
      " 2   dob_years         21525 non-null  int64  \n",
      " 3   education         21525 non-null  object \n",
      " 4   education_id      21525 non-null  int64  \n",
      " 5   family_status     21525 non-null  object \n",
      " 6   family_status_id  21525 non-null  int64  \n",
      " 7   gender            21525 non-null  object \n",
      " 8   income_type       21525 non-null  object \n",
      " 9   debt              21525 non-null  int64  \n",
      " 10  total_income      19351 non-null  float64\n",
      " 11  purpose           21525 non-null  object \n",
      "dtypes: float64(2), int64(5), object(5)\n",
      "memory usage: 2.0+ MB\n"
     ]
    }
   ],
   "source": [
    "credit_scoring = pd.read_csv('credit_scoring_eng.csv')\n",
    "credit_scoring.info()"
   ]
  },
  {
   "cell_type": "markdown",
   "metadata": {},
   "source": [
    "### Conclusion"
   ]
  },
  {
   "cell_type": "markdown",
   "metadata": {},
   "source": [
    "1. There are 21521 rows, and 12 columns.\n",
    "2. The days_employed column and the total_income column has  missing values. Also, we see that they are both quantitative.\n",
    "3. We don't have null values."
   ]
  },
  {
   "cell_type": "markdown",
   "metadata": {},
   "source": [
    "## Data preprocessing"
   ]
  },
  {
   "cell_type": "markdown",
   "metadata": {},
   "source": [
    "### Processing missing values"
   ]
  },
  {
   "cell_type": "markdown",
   "metadata": {},
   "source": [
    "**First, let't see the first ten rows of the data**"
   ]
  },
  {
   "cell_type": "code",
   "execution_count": 3,
   "metadata": {
    "scrolled": true
   },
   "outputs": [
    {
     "data": {
      "text/html": [
       "<div>\n",
       "<style scoped>\n",
       "    .dataframe tbody tr th:only-of-type {\n",
       "        vertical-align: middle;\n",
       "    }\n",
       "\n",
       "    .dataframe tbody tr th {\n",
       "        vertical-align: top;\n",
       "    }\n",
       "\n",
       "    .dataframe thead th {\n",
       "        text-align: right;\n",
       "    }\n",
       "</style>\n",
       "<table border=\"1\" class=\"dataframe\">\n",
       "  <thead>\n",
       "    <tr style=\"text-align: right;\">\n",
       "      <th></th>\n",
       "      <th>children</th>\n",
       "      <th>days_employed</th>\n",
       "      <th>dob_years</th>\n",
       "      <th>education</th>\n",
       "      <th>education_id</th>\n",
       "      <th>family_status</th>\n",
       "      <th>family_status_id</th>\n",
       "      <th>gender</th>\n",
       "      <th>income_type</th>\n",
       "      <th>debt</th>\n",
       "      <th>total_income</th>\n",
       "      <th>purpose</th>\n",
       "    </tr>\n",
       "  </thead>\n",
       "  <tbody>\n",
       "    <tr>\n",
       "      <th>0</th>\n",
       "      <td>1</td>\n",
       "      <td>-8437.673028</td>\n",
       "      <td>42</td>\n",
       "      <td>bachelor's degree</td>\n",
       "      <td>0</td>\n",
       "      <td>married</td>\n",
       "      <td>0</td>\n",
       "      <td>F</td>\n",
       "      <td>employee</td>\n",
       "      <td>0</td>\n",
       "      <td>40620.102</td>\n",
       "      <td>purchase of the house</td>\n",
       "    </tr>\n",
       "    <tr>\n",
       "      <th>1</th>\n",
       "      <td>1</td>\n",
       "      <td>-4024.803754</td>\n",
       "      <td>36</td>\n",
       "      <td>secondary education</td>\n",
       "      <td>1</td>\n",
       "      <td>married</td>\n",
       "      <td>0</td>\n",
       "      <td>F</td>\n",
       "      <td>employee</td>\n",
       "      <td>0</td>\n",
       "      <td>17932.802</td>\n",
       "      <td>car purchase</td>\n",
       "    </tr>\n",
       "    <tr>\n",
       "      <th>2</th>\n",
       "      <td>0</td>\n",
       "      <td>-5623.422610</td>\n",
       "      <td>33</td>\n",
       "      <td>Secondary Education</td>\n",
       "      <td>1</td>\n",
       "      <td>married</td>\n",
       "      <td>0</td>\n",
       "      <td>M</td>\n",
       "      <td>employee</td>\n",
       "      <td>0</td>\n",
       "      <td>23341.752</td>\n",
       "      <td>purchase of the house</td>\n",
       "    </tr>\n",
       "    <tr>\n",
       "      <th>3</th>\n",
       "      <td>3</td>\n",
       "      <td>-4124.747207</td>\n",
       "      <td>32</td>\n",
       "      <td>secondary education</td>\n",
       "      <td>1</td>\n",
       "      <td>married</td>\n",
       "      <td>0</td>\n",
       "      <td>M</td>\n",
       "      <td>employee</td>\n",
       "      <td>0</td>\n",
       "      <td>42820.568</td>\n",
       "      <td>supplementary education</td>\n",
       "    </tr>\n",
       "    <tr>\n",
       "      <th>4</th>\n",
       "      <td>0</td>\n",
       "      <td>340266.072047</td>\n",
       "      <td>53</td>\n",
       "      <td>secondary education</td>\n",
       "      <td>1</td>\n",
       "      <td>civil partnership</td>\n",
       "      <td>1</td>\n",
       "      <td>F</td>\n",
       "      <td>retiree</td>\n",
       "      <td>0</td>\n",
       "      <td>25378.572</td>\n",
       "      <td>to have a wedding</td>\n",
       "    </tr>\n",
       "  </tbody>\n",
       "</table>\n",
       "</div>"
      ],
      "text/plain": [
       "   children  days_employed  dob_years            education  education_id  \\\n",
       "0         1   -8437.673028         42    bachelor's degree             0   \n",
       "1         1   -4024.803754         36  secondary education             1   \n",
       "2         0   -5623.422610         33  Secondary Education             1   \n",
       "3         3   -4124.747207         32  secondary education             1   \n",
       "4         0  340266.072047         53  secondary education             1   \n",
       "\n",
       "       family_status  family_status_id gender income_type  debt  total_income  \\\n",
       "0            married                 0      F    employee     0     40620.102   \n",
       "1            married                 0      F    employee     0     17932.802   \n",
       "2            married                 0      M    employee     0     23341.752   \n",
       "3            married                 0      M    employee     0     42820.568   \n",
       "4  civil partnership                 1      F     retiree     0     25378.572   \n",
       "\n",
       "                   purpose  \n",
       "0    purchase of the house  \n",
       "1             car purchase  \n",
       "2    purchase of the house  \n",
       "3  supplementary education  \n",
       "4        to have a wedding  "
      ]
     },
     "execution_count": 3,
     "metadata": {},
     "output_type": "execute_result"
    }
   ],
   "source": [
    "credit_scoring.head(5)"
   ]
  },
  {
   "cell_type": "markdown",
   "metadata": {},
   "source": [
    "We see that the education column contains case-sensitive values. Let's give it a quick treatment. 😊"
   ]
  },
  {
   "cell_type": "code",
   "execution_count": 4,
   "metadata": {},
   "outputs": [
    {
     "data": {
      "text/plain": [
       "0      bachelor's degree\n",
       "1    secondary education\n",
       "2    secondary education\n",
       "3    secondary education\n",
       "4    secondary education\n",
       "5      bachelor's degree\n",
       "6      bachelor's degree\n",
       "7    secondary education\n",
       "8      bachelor's degree\n",
       "9    secondary education\n",
       "Name: education_clean, dtype: object"
      ]
     },
     "execution_count": 4,
     "metadata": {},
     "output_type": "execute_result"
    }
   ],
   "source": [
    "credit_scoring['education_clean'] = credit_scoring['education'].str.lower()\n",
    "credit_scoring['education_clean'].head(10)"
   ]
  },
  {
   "cell_type": "markdown",
   "metadata": {},
   "source": [
    "**Than let's check the number of missing values in each column**"
   ]
  },
  {
   "cell_type": "code",
   "execution_count": 5,
   "metadata": {},
   "outputs": [
    {
     "data": {
      "text/plain": [
       "children               0\n",
       "days_employed       2174\n",
       "dob_years              0\n",
       "education              0\n",
       "education_id           0\n",
       "family_status          0\n",
       "family_status_id       0\n",
       "gender                 0\n",
       "income_type            0\n",
       "debt                   0\n",
       "total_income        2174\n",
       "purpose                0\n",
       "education_clean        0\n",
       "dtype: int64"
      ]
     },
     "execution_count": 5,
     "metadata": {},
     "output_type": "execute_result"
    }
   ],
   "source": [
    "credit_scoring.isnull().sum()\n"
   ]
  },
  {
   "cell_type": "markdown",
   "metadata": {},
   "source": [
    "**Now, we will check the percentage of missing values** "
   ]
  },
  {
   "cell_type": "code",
   "execution_count": 6,
   "metadata": {},
   "outputs": [
    {
     "data": {
      "text/plain": [
       "days_employed    0.100999\n",
       "total_income     0.100999\n",
       "dtype: float64"
      ]
     },
     "execution_count": 6,
     "metadata": {},
     "output_type": "execute_result"
    }
   ],
   "source": [
    "data_size = len(credit_scoring)\n",
    "missing_per_column = credit_scoring[['days_employed', 'total_income']].isnull().sum()\n",
    "missing_per_column / data_size"
   ]
  },
  {
   "cell_type": "markdown",
   "metadata": {},
   "source": [
    "The percentage of the missing values in each column is around 10%. Although it is common to consider deleting the rows that contain missing data, if it's around or less than 10%, we will not do so. This is because those rows have information about other areas of interest."
   ]
  },
  {
   "cell_type": "markdown",
   "metadata": {},
   "source": [
    "**Let's check if there is a pattern or a connection between the 2 columns that can explain the cause for having the same amount of missing values.**"
   ]
  },
  {
   "cell_type": "markdown",
   "metadata": {},
   "source": [
    "To do this, we will find the rows with the missing values in each column and examine them."
   ]
  },
  {
   "cell_type": "markdown",
   "metadata": {},
   "source": [
    "*days_employed column*\n",
    "***"
   ]
  },
  {
   "cell_type": "code",
   "execution_count": 7,
   "metadata": {},
   "outputs": [
    {
     "data": {
      "text/html": [
       "<div>\n",
       "<style scoped>\n",
       "    .dataframe tbody tr th:only-of-type {\n",
       "        vertical-align: middle;\n",
       "    }\n",
       "\n",
       "    .dataframe tbody tr th {\n",
       "        vertical-align: top;\n",
       "    }\n",
       "\n",
       "    .dataframe thead th {\n",
       "        text-align: right;\n",
       "    }\n",
       "</style>\n",
       "<table border=\"1\" class=\"dataframe\">\n",
       "  <thead>\n",
       "    <tr style=\"text-align: right;\">\n",
       "      <th></th>\n",
       "      <th>children</th>\n",
       "      <th>days_employed</th>\n",
       "      <th>dob_years</th>\n",
       "      <th>education</th>\n",
       "      <th>education_id</th>\n",
       "      <th>family_status</th>\n",
       "      <th>family_status_id</th>\n",
       "      <th>gender</th>\n",
       "      <th>income_type</th>\n",
       "      <th>debt</th>\n",
       "      <th>total_income</th>\n",
       "      <th>purpose</th>\n",
       "      <th>education_clean</th>\n",
       "    </tr>\n",
       "  </thead>\n",
       "  <tbody>\n",
       "    <tr>\n",
       "      <th>12</th>\n",
       "      <td>0</td>\n",
       "      <td>NaN</td>\n",
       "      <td>65</td>\n",
       "      <td>secondary education</td>\n",
       "      <td>1</td>\n",
       "      <td>civil partnership</td>\n",
       "      <td>1</td>\n",
       "      <td>M</td>\n",
       "      <td>retiree</td>\n",
       "      <td>0</td>\n",
       "      <td>NaN</td>\n",
       "      <td>to have a wedding</td>\n",
       "      <td>secondary education</td>\n",
       "    </tr>\n",
       "    <tr>\n",
       "      <th>26</th>\n",
       "      <td>0</td>\n",
       "      <td>NaN</td>\n",
       "      <td>41</td>\n",
       "      <td>secondary education</td>\n",
       "      <td>1</td>\n",
       "      <td>married</td>\n",
       "      <td>0</td>\n",
       "      <td>M</td>\n",
       "      <td>civil servant</td>\n",
       "      <td>0</td>\n",
       "      <td>NaN</td>\n",
       "      <td>education</td>\n",
       "      <td>secondary education</td>\n",
       "    </tr>\n",
       "    <tr>\n",
       "      <th>29</th>\n",
       "      <td>0</td>\n",
       "      <td>NaN</td>\n",
       "      <td>63</td>\n",
       "      <td>secondary education</td>\n",
       "      <td>1</td>\n",
       "      <td>unmarried</td>\n",
       "      <td>4</td>\n",
       "      <td>F</td>\n",
       "      <td>retiree</td>\n",
       "      <td>0</td>\n",
       "      <td>NaN</td>\n",
       "      <td>building a real estate</td>\n",
       "      <td>secondary education</td>\n",
       "    </tr>\n",
       "    <tr>\n",
       "      <th>41</th>\n",
       "      <td>0</td>\n",
       "      <td>NaN</td>\n",
       "      <td>50</td>\n",
       "      <td>secondary education</td>\n",
       "      <td>1</td>\n",
       "      <td>married</td>\n",
       "      <td>0</td>\n",
       "      <td>F</td>\n",
       "      <td>civil servant</td>\n",
       "      <td>0</td>\n",
       "      <td>NaN</td>\n",
       "      <td>second-hand car purchase</td>\n",
       "      <td>secondary education</td>\n",
       "    </tr>\n",
       "    <tr>\n",
       "      <th>55</th>\n",
       "      <td>0</td>\n",
       "      <td>NaN</td>\n",
       "      <td>54</td>\n",
       "      <td>secondary education</td>\n",
       "      <td>1</td>\n",
       "      <td>civil partnership</td>\n",
       "      <td>1</td>\n",
       "      <td>F</td>\n",
       "      <td>retiree</td>\n",
       "      <td>1</td>\n",
       "      <td>NaN</td>\n",
       "      <td>to have a wedding</td>\n",
       "      <td>secondary education</td>\n",
       "    </tr>\n",
       "    <tr>\n",
       "      <th>65</th>\n",
       "      <td>0</td>\n",
       "      <td>NaN</td>\n",
       "      <td>21</td>\n",
       "      <td>secondary education</td>\n",
       "      <td>1</td>\n",
       "      <td>unmarried</td>\n",
       "      <td>4</td>\n",
       "      <td>M</td>\n",
       "      <td>business</td>\n",
       "      <td>0</td>\n",
       "      <td>NaN</td>\n",
       "      <td>transactions with commercial real estate</td>\n",
       "      <td>secondary education</td>\n",
       "    </tr>\n",
       "    <tr>\n",
       "      <th>67</th>\n",
       "      <td>0</td>\n",
       "      <td>NaN</td>\n",
       "      <td>52</td>\n",
       "      <td>bachelor's degree</td>\n",
       "      <td>0</td>\n",
       "      <td>married</td>\n",
       "      <td>0</td>\n",
       "      <td>F</td>\n",
       "      <td>retiree</td>\n",
       "      <td>0</td>\n",
       "      <td>NaN</td>\n",
       "      <td>purchase of the house for my family</td>\n",
       "      <td>bachelor's degree</td>\n",
       "    </tr>\n",
       "    <tr>\n",
       "      <th>72</th>\n",
       "      <td>1</td>\n",
       "      <td>NaN</td>\n",
       "      <td>32</td>\n",
       "      <td>bachelor's degree</td>\n",
       "      <td>0</td>\n",
       "      <td>married</td>\n",
       "      <td>0</td>\n",
       "      <td>M</td>\n",
       "      <td>civil servant</td>\n",
       "      <td>0</td>\n",
       "      <td>NaN</td>\n",
       "      <td>transactions with commercial real estate</td>\n",
       "      <td>bachelor's degree</td>\n",
       "    </tr>\n",
       "    <tr>\n",
       "      <th>82</th>\n",
       "      <td>2</td>\n",
       "      <td>NaN</td>\n",
       "      <td>50</td>\n",
       "      <td>bachelor's degree</td>\n",
       "      <td>0</td>\n",
       "      <td>married</td>\n",
       "      <td>0</td>\n",
       "      <td>F</td>\n",
       "      <td>employee</td>\n",
       "      <td>0</td>\n",
       "      <td>NaN</td>\n",
       "      <td>housing</td>\n",
       "      <td>bachelor's degree</td>\n",
       "    </tr>\n",
       "    <tr>\n",
       "      <th>83</th>\n",
       "      <td>0</td>\n",
       "      <td>NaN</td>\n",
       "      <td>52</td>\n",
       "      <td>secondary education</td>\n",
       "      <td>1</td>\n",
       "      <td>married</td>\n",
       "      <td>0</td>\n",
       "      <td>M</td>\n",
       "      <td>employee</td>\n",
       "      <td>0</td>\n",
       "      <td>NaN</td>\n",
       "      <td>housing</td>\n",
       "      <td>secondary education</td>\n",
       "    </tr>\n",
       "  </tbody>\n",
       "</table>\n",
       "</div>"
      ],
      "text/plain": [
       "    children  days_employed  dob_years            education  education_id  \\\n",
       "12         0            NaN         65  secondary education             1   \n",
       "26         0            NaN         41  secondary education             1   \n",
       "29         0            NaN         63  secondary education             1   \n",
       "41         0            NaN         50  secondary education             1   \n",
       "55         0            NaN         54  secondary education             1   \n",
       "65         0            NaN         21  secondary education             1   \n",
       "67         0            NaN         52    bachelor's degree             0   \n",
       "72         1            NaN         32    bachelor's degree             0   \n",
       "82         2            NaN         50    bachelor's degree             0   \n",
       "83         0            NaN         52  secondary education             1   \n",
       "\n",
       "        family_status  family_status_id gender    income_type  debt  \\\n",
       "12  civil partnership                 1      M        retiree     0   \n",
       "26            married                 0      M  civil servant     0   \n",
       "29          unmarried                 4      F        retiree     0   \n",
       "41            married                 0      F  civil servant     0   \n",
       "55  civil partnership                 1      F        retiree     1   \n",
       "65          unmarried                 4      M       business     0   \n",
       "67            married                 0      F        retiree     0   \n",
       "72            married                 0      M  civil servant     0   \n",
       "82            married                 0      F       employee     0   \n",
       "83            married                 0      M       employee     0   \n",
       "\n",
       "    total_income                                   purpose  \\\n",
       "12           NaN                         to have a wedding   \n",
       "26           NaN                                 education   \n",
       "29           NaN                    building a real estate   \n",
       "41           NaN                  second-hand car purchase   \n",
       "55           NaN                         to have a wedding   \n",
       "65           NaN  transactions with commercial real estate   \n",
       "67           NaN       purchase of the house for my family   \n",
       "72           NaN  transactions with commercial real estate   \n",
       "82           NaN                                   housing   \n",
       "83           NaN                                   housing   \n",
       "\n",
       "        education_clean  \n",
       "12  secondary education  \n",
       "26  secondary education  \n",
       "29  secondary education  \n",
       "41  secondary education  \n",
       "55  secondary education  \n",
       "65  secondary education  \n",
       "67    bachelor's degree  \n",
       "72    bachelor's degree  \n",
       "82    bachelor's degree  \n",
       "83  secondary education  "
      ]
     },
     "execution_count": 7,
     "metadata": {},
     "output_type": "execute_result"
    }
   ],
   "source": [
    "credit_scoring[credit_scoring['days_employed'].isnull()].head(10)"
   ]
  },
  {
   "cell_type": "markdown",
   "metadata": {},
   "source": [
    "We see above that many of the missing values belong to customers with secondary degrees. Let's investigate it further."
   ]
  },
  {
   "cell_type": "code",
   "execution_count": 8,
   "metadata": {},
   "outputs": [
    {
     "data": {
      "text/plain": [
       "secondary education    1540\n",
       "bachelor's degree       544\n",
       "some college             69\n",
       "primary education        21\n",
       "Name: education_clean, dtype: int64"
      ]
     },
     "execution_count": 8,
     "metadata": {},
     "output_type": "execute_result"
    }
   ],
   "source": [
    "credit_scoring[credit_scoring['days_employed'].isnull()]['education_clean'].value_counts()"
   ]
  },
  {
   "cell_type": "markdown",
   "metadata": {},
   "source": [
    "Indeed we see that most of the missing values belong to customers with a secondary degree. Now let's go check the 'total_income' to see if there is the same pattern. "
   ]
  },
  {
   "cell_type": "markdown",
   "metadata": {},
   "source": [
    "*total_income columne*\n",
    "***"
   ]
  },
  {
   "cell_type": "code",
   "execution_count": 9,
   "metadata": {},
   "outputs": [
    {
     "data": {
      "text/html": [
       "<div>\n",
       "<style scoped>\n",
       "    .dataframe tbody tr th:only-of-type {\n",
       "        vertical-align: middle;\n",
       "    }\n",
       "\n",
       "    .dataframe tbody tr th {\n",
       "        vertical-align: top;\n",
       "    }\n",
       "\n",
       "    .dataframe thead th {\n",
       "        text-align: right;\n",
       "    }\n",
       "</style>\n",
       "<table border=\"1\" class=\"dataframe\">\n",
       "  <thead>\n",
       "    <tr style=\"text-align: right;\">\n",
       "      <th></th>\n",
       "      <th>children</th>\n",
       "      <th>days_employed</th>\n",
       "      <th>dob_years</th>\n",
       "      <th>education</th>\n",
       "      <th>education_id</th>\n",
       "      <th>family_status</th>\n",
       "      <th>family_status_id</th>\n",
       "      <th>gender</th>\n",
       "      <th>income_type</th>\n",
       "      <th>debt</th>\n",
       "      <th>total_income</th>\n",
       "      <th>purpose</th>\n",
       "      <th>education_clean</th>\n",
       "    </tr>\n",
       "  </thead>\n",
       "  <tbody>\n",
       "    <tr>\n",
       "      <th>12</th>\n",
       "      <td>0</td>\n",
       "      <td>NaN</td>\n",
       "      <td>65</td>\n",
       "      <td>secondary education</td>\n",
       "      <td>1</td>\n",
       "      <td>civil partnership</td>\n",
       "      <td>1</td>\n",
       "      <td>M</td>\n",
       "      <td>retiree</td>\n",
       "      <td>0</td>\n",
       "      <td>NaN</td>\n",
       "      <td>to have a wedding</td>\n",
       "      <td>secondary education</td>\n",
       "    </tr>\n",
       "    <tr>\n",
       "      <th>26</th>\n",
       "      <td>0</td>\n",
       "      <td>NaN</td>\n",
       "      <td>41</td>\n",
       "      <td>secondary education</td>\n",
       "      <td>1</td>\n",
       "      <td>married</td>\n",
       "      <td>0</td>\n",
       "      <td>M</td>\n",
       "      <td>civil servant</td>\n",
       "      <td>0</td>\n",
       "      <td>NaN</td>\n",
       "      <td>education</td>\n",
       "      <td>secondary education</td>\n",
       "    </tr>\n",
       "    <tr>\n",
       "      <th>29</th>\n",
       "      <td>0</td>\n",
       "      <td>NaN</td>\n",
       "      <td>63</td>\n",
       "      <td>secondary education</td>\n",
       "      <td>1</td>\n",
       "      <td>unmarried</td>\n",
       "      <td>4</td>\n",
       "      <td>F</td>\n",
       "      <td>retiree</td>\n",
       "      <td>0</td>\n",
       "      <td>NaN</td>\n",
       "      <td>building a real estate</td>\n",
       "      <td>secondary education</td>\n",
       "    </tr>\n",
       "    <tr>\n",
       "      <th>41</th>\n",
       "      <td>0</td>\n",
       "      <td>NaN</td>\n",
       "      <td>50</td>\n",
       "      <td>secondary education</td>\n",
       "      <td>1</td>\n",
       "      <td>married</td>\n",
       "      <td>0</td>\n",
       "      <td>F</td>\n",
       "      <td>civil servant</td>\n",
       "      <td>0</td>\n",
       "      <td>NaN</td>\n",
       "      <td>second-hand car purchase</td>\n",
       "      <td>secondary education</td>\n",
       "    </tr>\n",
       "    <tr>\n",
       "      <th>55</th>\n",
       "      <td>0</td>\n",
       "      <td>NaN</td>\n",
       "      <td>54</td>\n",
       "      <td>secondary education</td>\n",
       "      <td>1</td>\n",
       "      <td>civil partnership</td>\n",
       "      <td>1</td>\n",
       "      <td>F</td>\n",
       "      <td>retiree</td>\n",
       "      <td>1</td>\n",
       "      <td>NaN</td>\n",
       "      <td>to have a wedding</td>\n",
       "      <td>secondary education</td>\n",
       "    </tr>\n",
       "    <tr>\n",
       "      <th>65</th>\n",
       "      <td>0</td>\n",
       "      <td>NaN</td>\n",
       "      <td>21</td>\n",
       "      <td>secondary education</td>\n",
       "      <td>1</td>\n",
       "      <td>unmarried</td>\n",
       "      <td>4</td>\n",
       "      <td>M</td>\n",
       "      <td>business</td>\n",
       "      <td>0</td>\n",
       "      <td>NaN</td>\n",
       "      <td>transactions with commercial real estate</td>\n",
       "      <td>secondary education</td>\n",
       "    </tr>\n",
       "    <tr>\n",
       "      <th>67</th>\n",
       "      <td>0</td>\n",
       "      <td>NaN</td>\n",
       "      <td>52</td>\n",
       "      <td>bachelor's degree</td>\n",
       "      <td>0</td>\n",
       "      <td>married</td>\n",
       "      <td>0</td>\n",
       "      <td>F</td>\n",
       "      <td>retiree</td>\n",
       "      <td>0</td>\n",
       "      <td>NaN</td>\n",
       "      <td>purchase of the house for my family</td>\n",
       "      <td>bachelor's degree</td>\n",
       "    </tr>\n",
       "    <tr>\n",
       "      <th>72</th>\n",
       "      <td>1</td>\n",
       "      <td>NaN</td>\n",
       "      <td>32</td>\n",
       "      <td>bachelor's degree</td>\n",
       "      <td>0</td>\n",
       "      <td>married</td>\n",
       "      <td>0</td>\n",
       "      <td>M</td>\n",
       "      <td>civil servant</td>\n",
       "      <td>0</td>\n",
       "      <td>NaN</td>\n",
       "      <td>transactions with commercial real estate</td>\n",
       "      <td>bachelor's degree</td>\n",
       "    </tr>\n",
       "    <tr>\n",
       "      <th>82</th>\n",
       "      <td>2</td>\n",
       "      <td>NaN</td>\n",
       "      <td>50</td>\n",
       "      <td>bachelor's degree</td>\n",
       "      <td>0</td>\n",
       "      <td>married</td>\n",
       "      <td>0</td>\n",
       "      <td>F</td>\n",
       "      <td>employee</td>\n",
       "      <td>0</td>\n",
       "      <td>NaN</td>\n",
       "      <td>housing</td>\n",
       "      <td>bachelor's degree</td>\n",
       "    </tr>\n",
       "    <tr>\n",
       "      <th>83</th>\n",
       "      <td>0</td>\n",
       "      <td>NaN</td>\n",
       "      <td>52</td>\n",
       "      <td>secondary education</td>\n",
       "      <td>1</td>\n",
       "      <td>married</td>\n",
       "      <td>0</td>\n",
       "      <td>M</td>\n",
       "      <td>employee</td>\n",
       "      <td>0</td>\n",
       "      <td>NaN</td>\n",
       "      <td>housing</td>\n",
       "      <td>secondary education</td>\n",
       "    </tr>\n",
       "  </tbody>\n",
       "</table>\n",
       "</div>"
      ],
      "text/plain": [
       "    children  days_employed  dob_years            education  education_id  \\\n",
       "12         0            NaN         65  secondary education             1   \n",
       "26         0            NaN         41  secondary education             1   \n",
       "29         0            NaN         63  secondary education             1   \n",
       "41         0            NaN         50  secondary education             1   \n",
       "55         0            NaN         54  secondary education             1   \n",
       "65         0            NaN         21  secondary education             1   \n",
       "67         0            NaN         52    bachelor's degree             0   \n",
       "72         1            NaN         32    bachelor's degree             0   \n",
       "82         2            NaN         50    bachelor's degree             0   \n",
       "83         0            NaN         52  secondary education             1   \n",
       "\n",
       "        family_status  family_status_id gender    income_type  debt  \\\n",
       "12  civil partnership                 1      M        retiree     0   \n",
       "26            married                 0      M  civil servant     0   \n",
       "29          unmarried                 4      F        retiree     0   \n",
       "41            married                 0      F  civil servant     0   \n",
       "55  civil partnership                 1      F        retiree     1   \n",
       "65          unmarried                 4      M       business     0   \n",
       "67            married                 0      F        retiree     0   \n",
       "72            married                 0      M  civil servant     0   \n",
       "82            married                 0      F       employee     0   \n",
       "83            married                 0      M       employee     0   \n",
       "\n",
       "    total_income                                   purpose  \\\n",
       "12           NaN                         to have a wedding   \n",
       "26           NaN                                 education   \n",
       "29           NaN                    building a real estate   \n",
       "41           NaN                  second-hand car purchase   \n",
       "55           NaN                         to have a wedding   \n",
       "65           NaN  transactions with commercial real estate   \n",
       "67           NaN       purchase of the house for my family   \n",
       "72           NaN  transactions with commercial real estate   \n",
       "82           NaN                                   housing   \n",
       "83           NaN                                   housing   \n",
       "\n",
       "        education_clean  \n",
       "12  secondary education  \n",
       "26  secondary education  \n",
       "29  secondary education  \n",
       "41  secondary education  \n",
       "55  secondary education  \n",
       "65  secondary education  \n",
       "67    bachelor's degree  \n",
       "72    bachelor's degree  \n",
       "82    bachelor's degree  \n",
       "83  secondary education  "
      ]
     },
     "execution_count": 9,
     "metadata": {},
     "output_type": "execute_result"
    }
   ],
   "source": [
    "credit_scoring[credit_scoring['total_income'].isnull()].head(10)"
   ]
  },
  {
   "cell_type": "markdown",
   "metadata": {},
   "source": [
    "As is it was in 'days_emloyed', we see that many of the missing values in total_income column belong to customers with a secondary degree. Let's go check the numbers."
   ]
  },
  {
   "cell_type": "code",
   "execution_count": 10,
   "metadata": {},
   "outputs": [
    {
     "data": {
      "text/plain": [
       "secondary education    1540\n",
       "bachelor's degree       544\n",
       "some college             69\n",
       "primary education        21\n",
       "Name: education_clean, dtype: int64"
      ]
     },
     "execution_count": 10,
     "metadata": {},
     "output_type": "execute_result"
    }
   ],
   "source": [
    "credit_scoring[credit_scoring['total_income'].isnull()]['education_clean'].value_counts()"
   ]
  },
  {
   "cell_type": "markdown",
   "metadata": {},
   "source": [
    "The numbers are exactly the same in the 'days_employed' column. This means that there was probably a technical fault with the customers that have a secondary degree."
   ]
  },
  {
   "cell_type": "markdown",
   "metadata": {},
   "source": [
    "**Cleaning the days_employed and the total_income columns**\n"
   ]
  },
  {
   "cell_type": "markdown",
   "metadata": {},
   "source": [
    "When we examined above the first 10 rows of credit_scoring DataFrame we saw that the 'days_employed' column has negative values. This implies that we need to check the values of these column."
   ]
  },
  {
   "cell_type": "markdown",
   "metadata": {},
   "source": [
    "*days_employed column*\n",
    "***"
   ]
  },
  {
   "cell_type": "markdown",
   "metadata": {},
   "source": [
    "The values in this column are in days. Let's first transform them to years for convenience and look at the results. "
   ]
  },
  {
   "cell_type": "code",
   "execution_count": 11,
   "metadata": {},
   "outputs": [
    {
     "data": {
      "text/plain": [
       "0    -23.116912\n",
       "1    -11.026860\n",
       "2    -15.406637\n",
       "3    -11.300677\n",
       "4    932.235814\n",
       "5     -2.537495\n",
       "6     -7.888225\n",
       "7     -0.418574\n",
       "8    -18.985932\n",
       "9     -5.996593\n",
       "Name: days_employed, dtype: float64"
      ]
     },
     "execution_count": 11,
     "metadata": {},
     "output_type": "execute_result"
    }
   ],
   "source": [
    "year = 365\n",
    "credit_scoring['days_employed'] = credit_scoring['days_employed'] / year\n",
    "credit_scoring['days_employed'].head(10)"
   ]
  },
  {
   "cell_type": "markdown",
   "metadata": {},
   "source": [
    "Here we see that the data in the 'days employed' are problematic.There are negative values (as we have seen before) and also big and unreasonable values (like 942 years) that make no sense. The 'days_employed' parameter does not influence our analysis, and we don't need it for it, so the best option in such case will be to leave the column as it is."
   ]
  },
  {
   "cell_type": "markdown",
   "metadata": {},
   "source": [
    "*total_income column*\n",
    "***"
   ]
  },
  {
   "cell_type": "markdown",
   "metadata": {},
   "source": [
    "Let's check the values in this column. Although the 10 first rows seem to be o.k, let's check the whole column just to be sure.\n",
    "We know that this column is quantitative and a float type, so let's check if there are any negative values. For that purpose, we will use the min() method."
   ]
  },
  {
   "cell_type": "code",
   "execution_count": 12,
   "metadata": {},
   "outputs": [
    {
     "data": {
      "text/plain": [
       "3306.762"
      ]
     },
     "execution_count": 12,
     "metadata": {},
     "output_type": "execute_result"
    }
   ],
   "source": [
    "credit_scoring['total_income'].min()"
   ]
  },
  {
   "cell_type": "markdown",
   "metadata": {},
   "source": [
    "Here we see that the smallest value is 3306.762, and it's positive - Yey! 😁\n",
    "    That means that the values that aren't missing are good to use for our analysis, and that is excellent news because the total_income column is one of our main variables of interest. 🥳  Now we \"just\" need to fill in the missing values."
   ]
  },
  {
   "cell_type": "markdown",
   "metadata": {},
   "source": [
    "**Before filling in the missing values in total_income, we need to see if other variables can help us understand how we should fill it.**"
   ]
  },
  {
   "cell_type": "markdown",
   "metadata": {},
   "source": [
    "It's known that the level of income is related to the line of business. If you are unemployed or a student, logically your income will be smaller,  but if you are an entrepreneur or businesswoman, most chances are that your income will be high.\n",
    "Let's use income_type to see if it's applied in our dataset. "
   ]
  },
  {
   "cell_type": "markdown",
   "metadata": {},
   "source": [
    "As we saw earlier, the total_income is a quantitative variable so we will group the data by income_type and find the mean and the median of each income_type, sorted in descending order for ours convenience."
   ]
  },
  {
   "cell_type": "code",
   "execution_count": 13,
   "metadata": {},
   "outputs": [
    {
     "name": "stdout",
     "output_type": "stream",
     "text": [
      "These are the means of each type of income:\n"
     ]
    },
    {
     "data": {
      "text/plain": [
       "income_type\n",
       "entrepreneur                   79866.103000\n",
       "business                       32386.793835\n",
       "civil servant                  27343.729582\n",
       "employee                       25820.841683\n",
       "retiree                        21940.394503\n",
       "unemployed                     21014.360500\n",
       "student                        15712.260000\n",
       "paternity / maternity leave     8612.661000\n",
       "Name: total_income, dtype: float64"
      ]
     },
     "execution_count": 13,
     "metadata": {},
     "output_type": "execute_result"
    }
   ],
   "source": [
    "print('These are the means of each type of income:')\n",
    "credit_scoring.groupby('income_type')['total_income'].mean().sort_values(ascending = False)"
   ]
  },
  {
   "cell_type": "code",
   "execution_count": 14,
   "metadata": {},
   "outputs": [
    {
     "name": "stdout",
     "output_type": "stream",
     "text": [
      "These are the medians of each type of income:\n"
     ]
    },
    {
     "data": {
      "text/plain": [
       "income_type\n",
       "entrepreneur                   79866.1030\n",
       "business                       27577.2720\n",
       "civil servant                  24071.6695\n",
       "employee                       22815.1035\n",
       "unemployed                     21014.3605\n",
       "retiree                        18962.3180\n",
       "student                        15712.2600\n",
       "paternity / maternity leave     8612.6610\n",
       "Name: total_income, dtype: float64"
      ]
     },
     "execution_count": 14,
     "metadata": {},
     "output_type": "execute_result"
    }
   ],
   "source": [
    "print('These are the medians of each type of income:')\n",
    "credit_scoring.groupby('income_type')['total_income'].median().sort_values(ascending = False)"
   ]
  },
  {
   "cell_type": "markdown",
   "metadata": {},
   "source": [
    "We see from the outputs that students, retirees, and parents who are in paternity/maternity leaves earn the least, while entrepreneurs earn the most. Clearly, the type of income impacts the monthly income. Lucky we checked it out.  😎 "
   ]
  },
  {
   "cell_type": "markdown",
   "metadata": {},
   "source": [
    "Also, we see that the mean of business, civil servant, employee, and retiree are higher than its median, while the other income types are equal. That means that these income types have outliers.  "
   ]
  },
  {
   "cell_type": "markdown",
   "metadata": {},
   "source": [
    "Now let's check the missing values in total_income by income_type. We will use the Value_counts method to receive a descending list with the number of missing values for each type of income. "
   ]
  },
  {
   "cell_type": "code",
   "execution_count": 15,
   "metadata": {},
   "outputs": [
    {
     "name": "stdout",
     "output_type": "stream",
     "text": [
      "Count of missing values in every type of income:\n"
     ]
    },
    {
     "data": {
      "text/plain": [
       "employee         1105\n",
       "business          508\n",
       "retiree           413\n",
       "civil servant     147\n",
       "entrepreneur        1\n",
       "Name: income_type, dtype: int64"
      ]
     },
     "execution_count": 15,
     "metadata": {},
     "output_type": "execute_result"
    }
   ],
   "source": [
    "print('Count of missing values in every type of income:')\n",
    "credit_scoring.loc[credit_scoring['total_income'].isnull(), 'income_type'].value_counts()"
   ]
  },
  {
   "cell_type": "markdown",
   "metadata": {},
   "source": [
    "The output above matches the results of the median and the mean we found earlier. The employee, business, retiree and civil servant income types had high outliers, so we will use the median to fill in the missing values. "
   ]
  },
  {
   "cell_type": "markdown",
   "metadata": {},
   "source": [
    "**Filling in the missing values**"
   ]
  },
  {
   "cell_type": "markdown",
   "metadata": {},
   "source": [
    "First, let's find the rows with the missing values to check afterward if the filling was done correctly."
   ]
  },
  {
   "cell_type": "code",
   "execution_count": 16,
   "metadata": {},
   "outputs": [
    {
     "data": {
      "text/html": [
       "<div>\n",
       "<style scoped>\n",
       "    .dataframe tbody tr th:only-of-type {\n",
       "        vertical-align: middle;\n",
       "    }\n",
       "\n",
       "    .dataframe tbody tr th {\n",
       "        vertical-align: top;\n",
       "    }\n",
       "\n",
       "    .dataframe thead th {\n",
       "        text-align: right;\n",
       "    }\n",
       "</style>\n",
       "<table border=\"1\" class=\"dataframe\">\n",
       "  <thead>\n",
       "    <tr style=\"text-align: right;\">\n",
       "      <th></th>\n",
       "      <th>children</th>\n",
       "      <th>days_employed</th>\n",
       "      <th>dob_years</th>\n",
       "      <th>education</th>\n",
       "      <th>education_id</th>\n",
       "      <th>family_status</th>\n",
       "      <th>family_status_id</th>\n",
       "      <th>gender</th>\n",
       "      <th>income_type</th>\n",
       "      <th>debt</th>\n",
       "      <th>total_income</th>\n",
       "      <th>purpose</th>\n",
       "      <th>education_clean</th>\n",
       "    </tr>\n",
       "  </thead>\n",
       "  <tbody>\n",
       "    <tr>\n",
       "      <th>12</th>\n",
       "      <td>0</td>\n",
       "      <td>NaN</td>\n",
       "      <td>65</td>\n",
       "      <td>secondary education</td>\n",
       "      <td>1</td>\n",
       "      <td>civil partnership</td>\n",
       "      <td>1</td>\n",
       "      <td>M</td>\n",
       "      <td>retiree</td>\n",
       "      <td>0</td>\n",
       "      <td>NaN</td>\n",
       "      <td>to have a wedding</td>\n",
       "      <td>secondary education</td>\n",
       "    </tr>\n",
       "    <tr>\n",
       "      <th>26</th>\n",
       "      <td>0</td>\n",
       "      <td>NaN</td>\n",
       "      <td>41</td>\n",
       "      <td>secondary education</td>\n",
       "      <td>1</td>\n",
       "      <td>married</td>\n",
       "      <td>0</td>\n",
       "      <td>M</td>\n",
       "      <td>civil servant</td>\n",
       "      <td>0</td>\n",
       "      <td>NaN</td>\n",
       "      <td>education</td>\n",
       "      <td>secondary education</td>\n",
       "    </tr>\n",
       "    <tr>\n",
       "      <th>29</th>\n",
       "      <td>0</td>\n",
       "      <td>NaN</td>\n",
       "      <td>63</td>\n",
       "      <td>secondary education</td>\n",
       "      <td>1</td>\n",
       "      <td>unmarried</td>\n",
       "      <td>4</td>\n",
       "      <td>F</td>\n",
       "      <td>retiree</td>\n",
       "      <td>0</td>\n",
       "      <td>NaN</td>\n",
       "      <td>building a real estate</td>\n",
       "      <td>secondary education</td>\n",
       "    </tr>\n",
       "    <tr>\n",
       "      <th>41</th>\n",
       "      <td>0</td>\n",
       "      <td>NaN</td>\n",
       "      <td>50</td>\n",
       "      <td>secondary education</td>\n",
       "      <td>1</td>\n",
       "      <td>married</td>\n",
       "      <td>0</td>\n",
       "      <td>F</td>\n",
       "      <td>civil servant</td>\n",
       "      <td>0</td>\n",
       "      <td>NaN</td>\n",
       "      <td>second-hand car purchase</td>\n",
       "      <td>secondary education</td>\n",
       "    </tr>\n",
       "    <tr>\n",
       "      <th>55</th>\n",
       "      <td>0</td>\n",
       "      <td>NaN</td>\n",
       "      <td>54</td>\n",
       "      <td>secondary education</td>\n",
       "      <td>1</td>\n",
       "      <td>civil partnership</td>\n",
       "      <td>1</td>\n",
       "      <td>F</td>\n",
       "      <td>retiree</td>\n",
       "      <td>1</td>\n",
       "      <td>NaN</td>\n",
       "      <td>to have a wedding</td>\n",
       "      <td>secondary education</td>\n",
       "    </tr>\n",
       "  </tbody>\n",
       "</table>\n",
       "</div>"
      ],
      "text/plain": [
       "    children  days_employed  dob_years            education  education_id  \\\n",
       "12         0            NaN         65  secondary education             1   \n",
       "26         0            NaN         41  secondary education             1   \n",
       "29         0            NaN         63  secondary education             1   \n",
       "41         0            NaN         50  secondary education             1   \n",
       "55         0            NaN         54  secondary education             1   \n",
       "\n",
       "        family_status  family_status_id gender    income_type  debt  \\\n",
       "12  civil partnership                 1      M        retiree     0   \n",
       "26            married                 0      M  civil servant     0   \n",
       "29          unmarried                 4      F        retiree     0   \n",
       "41            married                 0      F  civil servant     0   \n",
       "55  civil partnership                 1      F        retiree     1   \n",
       "\n",
       "    total_income                   purpose      education_clean  \n",
       "12           NaN         to have a wedding  secondary education  \n",
       "26           NaN                 education  secondary education  \n",
       "29           NaN    building a real estate  secondary education  \n",
       "41           NaN  second-hand car purchase  secondary education  \n",
       "55           NaN         to have a wedding  secondary education  "
      ]
     },
     "execution_count": 16,
     "metadata": {},
     "output_type": "execute_result"
    }
   ],
   "source": [
    "credit_scoring[credit_scoring['total_income'].isnull()].head(5)"
   ]
  },
  {
   "cell_type": "code",
   "execution_count": 17,
   "metadata": {},
   "outputs": [
    {
     "data": {
      "text/html": [
       "<div>\n",
       "<style scoped>\n",
       "    .dataframe tbody tr th:only-of-type {\n",
       "        vertical-align: middle;\n",
       "    }\n",
       "\n",
       "    .dataframe tbody tr th {\n",
       "        vertical-align: top;\n",
       "    }\n",
       "\n",
       "    .dataframe thead th {\n",
       "        text-align: right;\n",
       "    }\n",
       "</style>\n",
       "<table border=\"1\" class=\"dataframe\">\n",
       "  <thead>\n",
       "    <tr style=\"text-align: right;\">\n",
       "      <th></th>\n",
       "      <th>children</th>\n",
       "      <th>days_employed</th>\n",
       "      <th>dob_years</th>\n",
       "      <th>education</th>\n",
       "      <th>education_id</th>\n",
       "      <th>family_status</th>\n",
       "      <th>family_status_id</th>\n",
       "      <th>gender</th>\n",
       "      <th>income_type</th>\n",
       "      <th>debt</th>\n",
       "      <th>total_income</th>\n",
       "      <th>purpose</th>\n",
       "      <th>education_clean</th>\n",
       "    </tr>\n",
       "  </thead>\n",
       "  <tbody>\n",
       "    <tr>\n",
       "      <th>21489</th>\n",
       "      <td>2</td>\n",
       "      <td>NaN</td>\n",
       "      <td>47</td>\n",
       "      <td>Secondary Education</td>\n",
       "      <td>1</td>\n",
       "      <td>married</td>\n",
       "      <td>0</td>\n",
       "      <td>M</td>\n",
       "      <td>business</td>\n",
       "      <td>0</td>\n",
       "      <td>NaN</td>\n",
       "      <td>purchase of a car</td>\n",
       "      <td>secondary education</td>\n",
       "    </tr>\n",
       "    <tr>\n",
       "      <th>21495</th>\n",
       "      <td>1</td>\n",
       "      <td>NaN</td>\n",
       "      <td>50</td>\n",
       "      <td>secondary education</td>\n",
       "      <td>1</td>\n",
       "      <td>civil partnership</td>\n",
       "      <td>1</td>\n",
       "      <td>F</td>\n",
       "      <td>employee</td>\n",
       "      <td>0</td>\n",
       "      <td>NaN</td>\n",
       "      <td>wedding ceremony</td>\n",
       "      <td>secondary education</td>\n",
       "    </tr>\n",
       "    <tr>\n",
       "      <th>21497</th>\n",
       "      <td>0</td>\n",
       "      <td>NaN</td>\n",
       "      <td>48</td>\n",
       "      <td>BACHELOR'S DEGREE</td>\n",
       "      <td>0</td>\n",
       "      <td>married</td>\n",
       "      <td>0</td>\n",
       "      <td>F</td>\n",
       "      <td>business</td>\n",
       "      <td>0</td>\n",
       "      <td>NaN</td>\n",
       "      <td>building a property</td>\n",
       "      <td>bachelor's degree</td>\n",
       "    </tr>\n",
       "    <tr>\n",
       "      <th>21502</th>\n",
       "      <td>1</td>\n",
       "      <td>NaN</td>\n",
       "      <td>42</td>\n",
       "      <td>secondary education</td>\n",
       "      <td>1</td>\n",
       "      <td>married</td>\n",
       "      <td>0</td>\n",
       "      <td>F</td>\n",
       "      <td>employee</td>\n",
       "      <td>0</td>\n",
       "      <td>NaN</td>\n",
       "      <td>building a real estate</td>\n",
       "      <td>secondary education</td>\n",
       "    </tr>\n",
       "    <tr>\n",
       "      <th>21510</th>\n",
       "      <td>2</td>\n",
       "      <td>NaN</td>\n",
       "      <td>28</td>\n",
       "      <td>secondary education</td>\n",
       "      <td>1</td>\n",
       "      <td>married</td>\n",
       "      <td>0</td>\n",
       "      <td>F</td>\n",
       "      <td>employee</td>\n",
       "      <td>0</td>\n",
       "      <td>NaN</td>\n",
       "      <td>car purchase</td>\n",
       "      <td>secondary education</td>\n",
       "    </tr>\n",
       "  </tbody>\n",
       "</table>\n",
       "</div>"
      ],
      "text/plain": [
       "       children  days_employed  dob_years            education  education_id  \\\n",
       "21489         2            NaN         47  Secondary Education             1   \n",
       "21495         1            NaN         50  secondary education             1   \n",
       "21497         0            NaN         48    BACHELOR'S DEGREE             0   \n",
       "21502         1            NaN         42  secondary education             1   \n",
       "21510         2            NaN         28  secondary education             1   \n",
       "\n",
       "           family_status  family_status_id gender income_type  debt  \\\n",
       "21489            married                 0      M    business     0   \n",
       "21495  civil partnership                 1      F    employee     0   \n",
       "21497            married                 0      F    business     0   \n",
       "21502            married                 0      F    employee     0   \n",
       "21510            married                 0      F    employee     0   \n",
       "\n",
       "       total_income                 purpose      education_clean  \n",
       "21489           NaN       purchase of a car  secondary education  \n",
       "21495           NaN        wedding ceremony  secondary education  \n",
       "21497           NaN     building a property    bachelor's degree  \n",
       "21502           NaN  building a real estate  secondary education  \n",
       "21510           NaN            car purchase  secondary education  "
      ]
     },
     "execution_count": 17,
     "metadata": {},
     "output_type": "execute_result"
    }
   ],
   "source": [
    "credit_scoring[credit_scoring['total_income'].isnull()].tail(5)"
   ]
  },
  {
   "cell_type": "markdown",
   "metadata": {},
   "source": [
    "Here we see that rows number 12, 26, and 21495 have missing values. We will remember that for later. "
   ]
  },
  {
   "cell_type": "markdown",
   "metadata": {},
   "source": [
    "Now will use the tranform method to fill in the missing values of the total_income column and create a new column for that with the name clean_income.  \n",
    "\n"
   ]
  },
  {
   "cell_type": "code",
   "execution_count": 18,
   "metadata": {},
   "outputs": [],
   "source": [
    "credit_scoring['clean_income'] = credit_scoring['total_income'].fillna(credit_scoring.groupby('income_type')['total_income'].transform('median'))"
   ]
  },
  {
   "cell_type": "markdown",
   "metadata": {},
   "source": [
    "Now we will check if the filling process was done correctly by examining the rows with the missing values that we found earlier."
   ]
  },
  {
   "cell_type": "code",
   "execution_count": 19,
   "metadata": {},
   "outputs": [
    {
     "data": {
      "text/html": [
       "<div>\n",
       "<style scoped>\n",
       "    .dataframe tbody tr th:only-of-type {\n",
       "        vertical-align: middle;\n",
       "    }\n",
       "\n",
       "    .dataframe tbody tr th {\n",
       "        vertical-align: top;\n",
       "    }\n",
       "\n",
       "    .dataframe thead th {\n",
       "        text-align: right;\n",
       "    }\n",
       "</style>\n",
       "<table border=\"1\" class=\"dataframe\">\n",
       "  <thead>\n",
       "    <tr style=\"text-align: right;\">\n",
       "      <th></th>\n",
       "      <th>children</th>\n",
       "      <th>days_employed</th>\n",
       "      <th>dob_years</th>\n",
       "      <th>education</th>\n",
       "      <th>education_id</th>\n",
       "      <th>family_status</th>\n",
       "      <th>family_status_id</th>\n",
       "      <th>gender</th>\n",
       "      <th>income_type</th>\n",
       "      <th>debt</th>\n",
       "      <th>total_income</th>\n",
       "      <th>purpose</th>\n",
       "      <th>education_clean</th>\n",
       "      <th>clean_income</th>\n",
       "    </tr>\n",
       "  </thead>\n",
       "  <tbody>\n",
       "    <tr>\n",
       "      <th>12</th>\n",
       "      <td>0</td>\n",
       "      <td>NaN</td>\n",
       "      <td>65</td>\n",
       "      <td>secondary education</td>\n",
       "      <td>1</td>\n",
       "      <td>civil partnership</td>\n",
       "      <td>1</td>\n",
       "      <td>M</td>\n",
       "      <td>retiree</td>\n",
       "      <td>0</td>\n",
       "      <td>NaN</td>\n",
       "      <td>to have a wedding</td>\n",
       "      <td>secondary education</td>\n",
       "      <td>18962.3180</td>\n",
       "    </tr>\n",
       "    <tr>\n",
       "      <th>26</th>\n",
       "      <td>0</td>\n",
       "      <td>NaN</td>\n",
       "      <td>41</td>\n",
       "      <td>secondary education</td>\n",
       "      <td>1</td>\n",
       "      <td>married</td>\n",
       "      <td>0</td>\n",
       "      <td>M</td>\n",
       "      <td>civil servant</td>\n",
       "      <td>0</td>\n",
       "      <td>NaN</td>\n",
       "      <td>education</td>\n",
       "      <td>secondary education</td>\n",
       "      <td>24071.6695</td>\n",
       "    </tr>\n",
       "    <tr>\n",
       "      <th>21495</th>\n",
       "      <td>1</td>\n",
       "      <td>NaN</td>\n",
       "      <td>50</td>\n",
       "      <td>secondary education</td>\n",
       "      <td>1</td>\n",
       "      <td>civil partnership</td>\n",
       "      <td>1</td>\n",
       "      <td>F</td>\n",
       "      <td>employee</td>\n",
       "      <td>0</td>\n",
       "      <td>NaN</td>\n",
       "      <td>wedding ceremony</td>\n",
       "      <td>secondary education</td>\n",
       "      <td>22815.1035</td>\n",
       "    </tr>\n",
       "  </tbody>\n",
       "</table>\n",
       "</div>"
      ],
      "text/plain": [
       "       children  days_employed  dob_years            education  education_id  \\\n",
       "12            0            NaN         65  secondary education             1   \n",
       "26            0            NaN         41  secondary education             1   \n",
       "21495         1            NaN         50  secondary education             1   \n",
       "\n",
       "           family_status  family_status_id gender    income_type  debt  \\\n",
       "12     civil partnership                 1      M        retiree     0   \n",
       "26               married                 0      M  civil servant     0   \n",
       "21495  civil partnership                 1      F       employee     0   \n",
       "\n",
       "       total_income            purpose      education_clean  clean_income  \n",
       "12              NaN  to have a wedding  secondary education    18962.3180  \n",
       "26              NaN          education  secondary education    24071.6695  \n",
       "21495           NaN   wedding ceremony  secondary education    22815.1035  "
      ]
     },
     "execution_count": 19,
     "metadata": {},
     "output_type": "execute_result"
    }
   ],
   "source": [
    "credit_scoring.loc[(12,26, 21495), ]"
   ]
  },
  {
   "cell_type": "markdown",
   "metadata": {},
   "source": [
    "We see here that filling the missing numbers by the median of income type was done successfully."
   ]
  },
  {
   "cell_type": "markdown",
   "metadata": {},
   "source": [
    "Now let's check and make sure that all the missing values have been filled:"
   ]
  },
  {
   "cell_type": "code",
   "execution_count": 20,
   "metadata": {},
   "outputs": [
    {
     "data": {
      "text/plain": [
       "children               0\n",
       "days_employed       2174\n",
       "dob_years              0\n",
       "education              0\n",
       "education_id           0\n",
       "family_status          0\n",
       "family_status_id       0\n",
       "gender                 0\n",
       "income_type            0\n",
       "debt                   0\n",
       "total_income        2174\n",
       "purpose                0\n",
       "education_clean        0\n",
       "clean_income           0\n",
       "dtype: int64"
      ]
     },
     "execution_count": 20,
     "metadata": {},
     "output_type": "execute_result"
    }
   ],
   "source": [
    "credit_scoring.isnull().sum()"
   ]
  },
  {
   "cell_type": "markdown",
   "metadata": {},
   "source": [
    "No missing values in the clean_income column! 🥳 "
   ]
  },
  {
   "cell_type": "markdown",
   "metadata": {},
   "source": [
    "### Conclusion"
   ]
  },
  {
   "cell_type": "markdown",
   "metadata": {},
   "source": [
    "* The missing values that we detected in the total_income and days_employes columns were float type, meaning both of the variables are quantitative. So the filling of the missing values was done be with representative value -  median.\n",
    "* A possible reason for the presence of missing values is that while transferring the data, some of them were omitted due to some technical glitch. The data shows that there probably was a technical fault with the customers that have a secondary degree.\n",
    "* When checking the values in the days_employed column and transferring them to years, we saw that the data is problematic. It has negative numbers and unreasonable numbers (like 900+ years of work). Due to the reason we do not need this data for our analysis because it's not one of the variables of main interest, I decided to leave the values in the column as is and not touch it. \n",
    "* Filling the missing values in total_income column was made with the following steps:\n",
    "1. Checking the data for negative values - all the values are positive 🎉 \n",
    "2. Checking if the income type influences the total income in our data as it is in the real world - it is! The total income for every income type is different.\n",
    "3. Finding the mean and the median of the total_income column by income_type column. The findings showed that the mean is higher than the median in 5 of 8 income_type groups, which tells us that there are high outliers that pulling the mean up. Therefore, the median is the right way to fill in the missing values. \n",
    "4. Filling the missing values of the total_income column in a new 'clean_income' column with median by a group of income_type with the transfer method. \n"
   ]
  },
  {
   "cell_type": "markdown",
   "metadata": {},
   "source": [
    "### Data type replacement"
   ]
  },
  {
   "cell_type": "markdown",
   "metadata": {},
   "source": [
    "We saw in the first step of this analysis the general information of the data, which contains the types of every column. The type of the following columns is incorrect:\n",
    "1. **children** - it's need to be of an integer type (nobody has half a kid 😅), but in the DataFrame it's float type. \n",
    "2. **dob_years** - Customer age. It may sometimes be important to present the exact age in months and days, but in this case, the age in years will suffice. So this variable also need to be integer.\n",
    "3. **education_id** - contains whole numbers that represent different education levels. Also need to be an integer.\n",
    "4. **family_status_id** - contains whole numbers that represent different family status. Also need to be an integer.\n",
    "5. **debt** - contains whole numbers that tell us whether the customer has ever defaulted on a loan. "
   ]
  },
  {
   "cell_type": "markdown",
   "metadata": {},
   "source": [
    "**Let's turn them to integers! 🤩**"
   ]
  },
  {
   "cell_type": "code",
   "execution_count": 21,
   "metadata": {},
   "outputs": [
    {
     "name": "stdout",
     "output_type": "stream",
     "text": [
      "<class 'pandas.core.frame.DataFrame'>\n",
      "RangeIndex: 21525 entries, 0 to 21524\n",
      "Data columns (total 14 columns):\n",
      " #   Column            Non-Null Count  Dtype  \n",
      "---  ------            --------------  -----  \n",
      " 0   children          21525 non-null  int64  \n",
      " 1   days_employed     19351 non-null  float64\n",
      " 2   dob_years         21525 non-null  int64  \n",
      " 3   education         21525 non-null  object \n",
      " 4   education_id      21525 non-null  int64  \n",
      " 5   family_status     21525 non-null  object \n",
      " 6   family_status_id  21525 non-null  int64  \n",
      " 7   gender            21525 non-null  object \n",
      " 8   income_type       21525 non-null  object \n",
      " 9   debt              21525 non-null  int64  \n",
      " 10  total_income      19351 non-null  float64\n",
      " 11  purpose           21525 non-null  object \n",
      " 12  education_clean   21525 non-null  object \n",
      " 13  clean_income      21525 non-null  float64\n",
      "dtypes: float64(3), int64(5), object(6)\n",
      "memory usage: 2.3+ MB\n"
     ]
    }
   ],
   "source": [
    "credit_scoring['children'] = credit_scoring['children'].astype(int)\n",
    "credit_scoring['dob_years'] = credit_scoring['dob_years'].astype(int)\n",
    "credit_scoring['education_id'] = credit_scoring['education_id'].astype(int)\n",
    "credit_scoring['family_status_id'] = credit_scoring['family_status_id'].astype(int)\n",
    "credit_scoring['debt'] = credit_scoring['debt'].astype(int)\n",
    "credit_scoring.info()"
   ]
  },
  {
   "cell_type": "markdown",
   "metadata": {},
   "source": [
    "### Conclusion"
   ]
  },
  {
   "cell_type": "markdown",
   "metadata": {},
   "source": [
    "As we can see from the output above, we replaced the original data types to integer type in the relevant columns.Now it's reflects in the best way the reality, and we will be no problem making arithmetic actions with the values for our analysis. "
   ]
  },
  {
   "cell_type": "markdown",
   "metadata": {},
   "source": [
    "### Processing duplicates"
   ]
  },
  {
   "cell_type": "markdown",
   "metadata": {},
   "source": [
    "The data in the file does not contain a unique variable that differentiates one client (or row) from another. So we can not really know if 2 identical rows are of the same person (i.e. duplicate data), or of two different people who happen to have the same data.That is, it is impossible to process duplicates on this data."
   ]
  },
  {
   "cell_type": "markdown",
   "metadata": {},
   "source": [
    "### Conclusion"
   ]
  },
  {
   "cell_type": "markdown",
   "metadata": {},
   "source": [
    "Because it's impossible to handle duplicated in this data file, there might be a chance that our analysis will be biased and inaccurate. In real life, we will probably contact the bank and talk with the developers to check it out and send a new file with customers_id column.  "
   ]
  },
  {
   "cell_type": "markdown",
   "metadata": {},
   "source": [
    "### Categorizing Data"
   ]
  },
  {
   "cell_type": "markdown",
   "metadata": {},
   "source": [
    "In this section we will categorize the following columns:\n",
    " 1. clean_income (a copy of total_income, but with fiiled values)\n",
    " 2. purpose\n",
    " \n",
    "We will also check the other relevant variables to see if there is a need to categorize them. "
   ]
  },
  {
   "cell_type": "markdown",
   "metadata": {},
   "source": [
    "*clean_income*\n",
    "***"
   ]
  },
  {
   "cell_type": "markdown",
   "metadata": {},
   "source": [
    "Let's divide the clean_income column into its quarterly distribution. To do so we will use the describe method, build a function and use the apply metohd to our data."
   ]
  },
  {
   "cell_type": "code",
   "execution_count": 22,
   "metadata": {},
   "outputs": [
    {
     "data": {
      "text/plain": [
       "count     21525.000000\n",
       "mean      26436.051922\n",
       "std       15686.986477\n",
       "min        3306.762000\n",
       "25%       17247.708000\n",
       "50%       22815.103500\n",
       "75%       31287.991000\n",
       "max      362496.645000\n",
       "Name: clean_income, dtype: float64"
      ]
     },
     "execution_count": 22,
     "metadata": {},
     "output_type": "execute_result"
    }
   ],
   "source": [
    "credit_scoring['clean_income'].describe()"
   ]
  },
  {
   "cell_type": "code",
   "execution_count": 23,
   "metadata": {},
   "outputs": [
    {
     "data": {
      "text/plain": [
       "middle class    5523\n",
       "poor            5382\n",
       "millionaire     5381\n",
       "rich            5239\n",
       "Name: grouped_income, dtype: int64"
      ]
     },
     "execution_count": 23,
     "metadata": {},
     "output_type": "execute_result"
    }
   ],
   "source": [
    "def income_category (x):\n",
    "    if  0 <= x <= 17247.708000:\n",
    "        return 'poor'\n",
    "    elif 17247.708000 < x <= 22815.103500:\n",
    "        return 'middle class'\n",
    "    elif 22815.103500 < x <=  31287.991000:\n",
    "        return 'rich'\n",
    "    elif 31287.991000 < x:\n",
    "        return 'millionaire'\n",
    "    else:\n",
    "        return 'other'\n",
    "\n",
    "credit_scoring['grouped_income'] = credit_scoring['clean_income'].apply(income_category)    \n",
    "credit_scoring['grouped_income'].value_counts()\n"
   ]
  },
  {
   "cell_type": "markdown",
   "metadata": {},
   "source": [
    "We see that the categories size are roughly the same and that the function worked. That's good! 🥳 "
   ]
  },
  {
   "cell_type": "code",
   "execution_count": 24,
   "metadata": {},
   "outputs": [
    {
     "data": {
      "text/html": [
       "<div>\n",
       "<style scoped>\n",
       "    .dataframe tbody tr th:only-of-type {\n",
       "        vertical-align: middle;\n",
       "    }\n",
       "\n",
       "    .dataframe tbody tr th {\n",
       "        vertical-align: top;\n",
       "    }\n",
       "\n",
       "    .dataframe thead th {\n",
       "        text-align: right;\n",
       "    }\n",
       "</style>\n",
       "<table border=\"1\" class=\"dataframe\">\n",
       "  <thead>\n",
       "    <tr style=\"text-align: right;\">\n",
       "      <th></th>\n",
       "      <th>children</th>\n",
       "      <th>days_employed</th>\n",
       "      <th>dob_years</th>\n",
       "      <th>education</th>\n",
       "      <th>education_id</th>\n",
       "      <th>family_status</th>\n",
       "      <th>family_status_id</th>\n",
       "      <th>gender</th>\n",
       "      <th>income_type</th>\n",
       "      <th>debt</th>\n",
       "      <th>total_income</th>\n",
       "      <th>purpose</th>\n",
       "      <th>education_clean</th>\n",
       "      <th>clean_income</th>\n",
       "      <th>grouped_income</th>\n",
       "    </tr>\n",
       "  </thead>\n",
       "  <tbody>\n",
       "    <tr>\n",
       "      <th>0</th>\n",
       "      <td>1</td>\n",
       "      <td>-23.116912</td>\n",
       "      <td>42</td>\n",
       "      <td>bachelor's degree</td>\n",
       "      <td>0</td>\n",
       "      <td>married</td>\n",
       "      <td>0</td>\n",
       "      <td>F</td>\n",
       "      <td>employee</td>\n",
       "      <td>0</td>\n",
       "      <td>40620.102</td>\n",
       "      <td>purchase of the house</td>\n",
       "      <td>bachelor's degree</td>\n",
       "      <td>40620.102</td>\n",
       "      <td>millionaire</td>\n",
       "    </tr>\n",
       "    <tr>\n",
       "      <th>1</th>\n",
       "      <td>1</td>\n",
       "      <td>-11.026860</td>\n",
       "      <td>36</td>\n",
       "      <td>secondary education</td>\n",
       "      <td>1</td>\n",
       "      <td>married</td>\n",
       "      <td>0</td>\n",
       "      <td>F</td>\n",
       "      <td>employee</td>\n",
       "      <td>0</td>\n",
       "      <td>17932.802</td>\n",
       "      <td>car purchase</td>\n",
       "      <td>secondary education</td>\n",
       "      <td>17932.802</td>\n",
       "      <td>middle class</td>\n",
       "    </tr>\n",
       "    <tr>\n",
       "      <th>2</th>\n",
       "      <td>0</td>\n",
       "      <td>-15.406637</td>\n",
       "      <td>33</td>\n",
       "      <td>Secondary Education</td>\n",
       "      <td>1</td>\n",
       "      <td>married</td>\n",
       "      <td>0</td>\n",
       "      <td>M</td>\n",
       "      <td>employee</td>\n",
       "      <td>0</td>\n",
       "      <td>23341.752</td>\n",
       "      <td>purchase of the house</td>\n",
       "      <td>secondary education</td>\n",
       "      <td>23341.752</td>\n",
       "      <td>rich</td>\n",
       "    </tr>\n",
       "    <tr>\n",
       "      <th>3</th>\n",
       "      <td>3</td>\n",
       "      <td>-11.300677</td>\n",
       "      <td>32</td>\n",
       "      <td>secondary education</td>\n",
       "      <td>1</td>\n",
       "      <td>married</td>\n",
       "      <td>0</td>\n",
       "      <td>M</td>\n",
       "      <td>employee</td>\n",
       "      <td>0</td>\n",
       "      <td>42820.568</td>\n",
       "      <td>supplementary education</td>\n",
       "      <td>secondary education</td>\n",
       "      <td>42820.568</td>\n",
       "      <td>millionaire</td>\n",
       "    </tr>\n",
       "    <tr>\n",
       "      <th>4</th>\n",
       "      <td>0</td>\n",
       "      <td>932.235814</td>\n",
       "      <td>53</td>\n",
       "      <td>secondary education</td>\n",
       "      <td>1</td>\n",
       "      <td>civil partnership</td>\n",
       "      <td>1</td>\n",
       "      <td>F</td>\n",
       "      <td>retiree</td>\n",
       "      <td>0</td>\n",
       "      <td>25378.572</td>\n",
       "      <td>to have a wedding</td>\n",
       "      <td>secondary education</td>\n",
       "      <td>25378.572</td>\n",
       "      <td>rich</td>\n",
       "    </tr>\n",
       "    <tr>\n",
       "      <th>5</th>\n",
       "      <td>0</td>\n",
       "      <td>-2.537495</td>\n",
       "      <td>27</td>\n",
       "      <td>bachelor's degree</td>\n",
       "      <td>0</td>\n",
       "      <td>civil partnership</td>\n",
       "      <td>1</td>\n",
       "      <td>M</td>\n",
       "      <td>business</td>\n",
       "      <td>0</td>\n",
       "      <td>40922.170</td>\n",
       "      <td>purchase of the house</td>\n",
       "      <td>bachelor's degree</td>\n",
       "      <td>40922.170</td>\n",
       "      <td>millionaire</td>\n",
       "    </tr>\n",
       "    <tr>\n",
       "      <th>6</th>\n",
       "      <td>0</td>\n",
       "      <td>-7.888225</td>\n",
       "      <td>43</td>\n",
       "      <td>bachelor's degree</td>\n",
       "      <td>0</td>\n",
       "      <td>married</td>\n",
       "      <td>0</td>\n",
       "      <td>F</td>\n",
       "      <td>business</td>\n",
       "      <td>0</td>\n",
       "      <td>38484.156</td>\n",
       "      <td>housing transactions</td>\n",
       "      <td>bachelor's degree</td>\n",
       "      <td>38484.156</td>\n",
       "      <td>millionaire</td>\n",
       "    </tr>\n",
       "    <tr>\n",
       "      <th>7</th>\n",
       "      <td>0</td>\n",
       "      <td>-0.418574</td>\n",
       "      <td>50</td>\n",
       "      <td>SECONDARY EDUCATION</td>\n",
       "      <td>1</td>\n",
       "      <td>married</td>\n",
       "      <td>0</td>\n",
       "      <td>M</td>\n",
       "      <td>employee</td>\n",
       "      <td>0</td>\n",
       "      <td>21731.829</td>\n",
       "      <td>education</td>\n",
       "      <td>secondary education</td>\n",
       "      <td>21731.829</td>\n",
       "      <td>middle class</td>\n",
       "    </tr>\n",
       "    <tr>\n",
       "      <th>8</th>\n",
       "      <td>2</td>\n",
       "      <td>-18.985932</td>\n",
       "      <td>35</td>\n",
       "      <td>BACHELOR'S DEGREE</td>\n",
       "      <td>0</td>\n",
       "      <td>civil partnership</td>\n",
       "      <td>1</td>\n",
       "      <td>F</td>\n",
       "      <td>employee</td>\n",
       "      <td>0</td>\n",
       "      <td>15337.093</td>\n",
       "      <td>having a wedding</td>\n",
       "      <td>bachelor's degree</td>\n",
       "      <td>15337.093</td>\n",
       "      <td>poor</td>\n",
       "    </tr>\n",
       "    <tr>\n",
       "      <th>9</th>\n",
       "      <td>0</td>\n",
       "      <td>-5.996593</td>\n",
       "      <td>41</td>\n",
       "      <td>secondary education</td>\n",
       "      <td>1</td>\n",
       "      <td>married</td>\n",
       "      <td>0</td>\n",
       "      <td>M</td>\n",
       "      <td>employee</td>\n",
       "      <td>0</td>\n",
       "      <td>23108.150</td>\n",
       "      <td>purchase of the house for my family</td>\n",
       "      <td>secondary education</td>\n",
       "      <td>23108.150</td>\n",
       "      <td>rich</td>\n",
       "    </tr>\n",
       "  </tbody>\n",
       "</table>\n",
       "</div>"
      ],
      "text/plain": [
       "   children  days_employed  dob_years            education  education_id  \\\n",
       "0         1     -23.116912         42    bachelor's degree             0   \n",
       "1         1     -11.026860         36  secondary education             1   \n",
       "2         0     -15.406637         33  Secondary Education             1   \n",
       "3         3     -11.300677         32  secondary education             1   \n",
       "4         0     932.235814         53  secondary education             1   \n",
       "5         0      -2.537495         27    bachelor's degree             0   \n",
       "6         0      -7.888225         43    bachelor's degree             0   \n",
       "7         0      -0.418574         50  SECONDARY EDUCATION             1   \n",
       "8         2     -18.985932         35    BACHELOR'S DEGREE             0   \n",
       "9         0      -5.996593         41  secondary education             1   \n",
       "\n",
       "       family_status  family_status_id gender income_type  debt  total_income  \\\n",
       "0            married                 0      F    employee     0     40620.102   \n",
       "1            married                 0      F    employee     0     17932.802   \n",
       "2            married                 0      M    employee     0     23341.752   \n",
       "3            married                 0      M    employee     0     42820.568   \n",
       "4  civil partnership                 1      F     retiree     0     25378.572   \n",
       "5  civil partnership                 1      M    business     0     40922.170   \n",
       "6            married                 0      F    business     0     38484.156   \n",
       "7            married                 0      M    employee     0     21731.829   \n",
       "8  civil partnership                 1      F    employee     0     15337.093   \n",
       "9            married                 0      M    employee     0     23108.150   \n",
       "\n",
       "                               purpose      education_clean  clean_income  \\\n",
       "0                purchase of the house    bachelor's degree     40620.102   \n",
       "1                         car purchase  secondary education     17932.802   \n",
       "2                purchase of the house  secondary education     23341.752   \n",
       "3              supplementary education  secondary education     42820.568   \n",
       "4                    to have a wedding  secondary education     25378.572   \n",
       "5                purchase of the house    bachelor's degree     40922.170   \n",
       "6                 housing transactions    bachelor's degree     38484.156   \n",
       "7                            education  secondary education     21731.829   \n",
       "8                     having a wedding    bachelor's degree     15337.093   \n",
       "9  purchase of the house for my family  secondary education     23108.150   \n",
       "\n",
       "  grouped_income  \n",
       "0    millionaire  \n",
       "1   middle class  \n",
       "2           rich  \n",
       "3    millionaire  \n",
       "4           rich  \n",
       "5    millionaire  \n",
       "6    millionaire  \n",
       "7   middle class  \n",
       "8           poor  \n",
       "9           rich  "
      ]
     },
     "execution_count": 24,
     "metadata": {},
     "output_type": "execute_result"
    }
   ],
   "source": [
    "credit_scoring.head(10)"
   ]
  },
  {
   "cell_type": "markdown",
   "metadata": {},
   "source": [
    "Looking great! 🤩 "
   ]
  },
  {
   "cell_type": "markdown",
   "metadata": {},
   "source": [
    "*purpose column*\n",
    "***"
   ]
  },
  {
   "cell_type": "markdown",
   "metadata": {},
   "source": [
    "First, let's check the unique values of the purpose column. we will use the value_counts method to see the values and their quantity."
   ]
  },
  {
   "cell_type": "code",
   "execution_count": 25,
   "metadata": {},
   "outputs": [
    {
     "data": {
      "text/plain": [
       "wedding ceremony                            797\n",
       "having a wedding                            777\n",
       "to have a wedding                           774\n",
       "real estate transactions                    676\n",
       "buy commercial real estate                  664\n",
       "buying property for renting out             653\n",
       "housing transactions                        653\n",
       "transactions with commercial real estate    651\n",
       "purchase of the house                       647\n",
       "housing                                     647\n",
       "purchase of the house for my family         641\n",
       "construction of own property                635\n",
       "property                                    634\n",
       "transactions with my real estate            630\n",
       "building a real estate                      626\n",
       "buy real estate                             624\n",
       "building a property                         620\n",
       "purchase of my own house                    620\n",
       "housing renovation                          612\n",
       "buy residential real estate                 607\n",
       "buying my own car                           505\n",
       "going to university                         496\n",
       "car                                         495\n",
       "second-hand car purchase                    489\n",
       "to own a car                                480\n",
       "buying a second-hand car                    479\n",
       "cars                                        478\n",
       "to buy a car                                472\n",
       "supplementary education                     462\n",
       "car purchase                                462\n",
       "purchase of a car                           455\n",
       "university education                        453\n",
       "education                                   447\n",
       "to get a supplementary education            447\n",
       "getting an education                        443\n",
       "profile education                           436\n",
       "getting higher education                    426\n",
       "to become educated                          412\n",
       "Name: purpose, dtype: int64"
      ]
     },
     "execution_count": 25,
     "metadata": {},
     "output_type": "execute_result"
    }
   ],
   "source": [
    "credit_scoring['purpose'].value_counts()"
   ]
  },
  {
   "cell_type": "markdown",
   "metadata": {},
   "source": [
    "At a glance it is easy to see that there are 4 categories:\n",
    "1. wedding\n",
    "2. housing\n",
    "3. car\n",
    "4. education\n",
    "\n",
    "Because there is a small number of values, we will build the list of the 4 categories manually.\n"
   ]
  },
  {
   "cell_type": "code",
   "execution_count": 26,
   "metadata": {},
   "outputs": [],
   "source": [
    "wedding = ['wedding', 'ceremony']\n",
    "housing = ['real', 'estate', 'property', 'renting', 'housing', 'house', 'residential' ]\n",
    "car = ['car', 'cars', 'second-hand']\n",
    "education = ['university', 'education', 'educated', 'higher education' ]"
   ]
  },
  {
   "cell_type": "markdown",
   "metadata": {},
   "source": [
    "Now we will use stemmy lemmatization technique, build a function and use the apply method to our data."
   ]
  },
  {
   "cell_type": "code",
   "execution_count": 27,
   "metadata": {},
   "outputs": [
    {
     "data": {
      "text/plain": [
       "housing      10840\n",
       "car           4315\n",
       "education     4022\n",
       "wedding       2348\n",
       "Name: grouped_purpose, dtype: int64"
      ]
     },
     "execution_count": 27,
     "metadata": {},
     "output_type": "execute_result"
    }
   ],
   "source": [
    "m = Mystem()\n",
    "\n",
    "#Building the lemmatization function\n",
    "def lemmatization_func(x):\n",
    "    lemmatized = m.lemmatize(x)\n",
    "    lemmatized = [word.lower() for word in lemmatized]\n",
    "    if any(word in lemmatized for word in wedding):\n",
    "        return 'wedding'\n",
    "    elif any(word in lemmatized for word in housing):\n",
    "        return 'housing'\n",
    "    elif any(word in lemmatized for word in car):\n",
    "        return 'car'\n",
    "    elif any(word in lemmatized for word in education):\n",
    "        return 'education'\n",
    "    else:\n",
    "        return 'other'\n",
    "    \n",
    "\n",
    "#Using the apply method:\n",
    "credit_scoring['grouped_purpose'] = credit_scoring['purpose'].apply(lemmatization_func)\n",
    "credit_scoring['grouped_purpose'].value_counts()"
   ]
  },
  {
   "cell_type": "markdown",
   "metadata": {},
   "source": [
    "There's no other category - yay!"
   ]
  },
  {
   "cell_type": "code",
   "execution_count": 28,
   "metadata": {},
   "outputs": [
    {
     "data": {
      "text/html": [
       "<div>\n",
       "<style scoped>\n",
       "    .dataframe tbody tr th:only-of-type {\n",
       "        vertical-align: middle;\n",
       "    }\n",
       "\n",
       "    .dataframe tbody tr th {\n",
       "        vertical-align: top;\n",
       "    }\n",
       "\n",
       "    .dataframe thead th {\n",
       "        text-align: right;\n",
       "    }\n",
       "</style>\n",
       "<table border=\"1\" class=\"dataframe\">\n",
       "  <thead>\n",
       "    <tr style=\"text-align: right;\">\n",
       "      <th></th>\n",
       "      <th>children</th>\n",
       "      <th>days_employed</th>\n",
       "      <th>dob_years</th>\n",
       "      <th>education</th>\n",
       "      <th>education_id</th>\n",
       "      <th>family_status</th>\n",
       "      <th>family_status_id</th>\n",
       "      <th>gender</th>\n",
       "      <th>income_type</th>\n",
       "      <th>debt</th>\n",
       "      <th>total_income</th>\n",
       "      <th>purpose</th>\n",
       "      <th>education_clean</th>\n",
       "      <th>clean_income</th>\n",
       "      <th>grouped_income</th>\n",
       "      <th>grouped_purpose</th>\n",
       "    </tr>\n",
       "  </thead>\n",
       "  <tbody>\n",
       "    <tr>\n",
       "      <th>0</th>\n",
       "      <td>1</td>\n",
       "      <td>-23.116912</td>\n",
       "      <td>42</td>\n",
       "      <td>bachelor's degree</td>\n",
       "      <td>0</td>\n",
       "      <td>married</td>\n",
       "      <td>0</td>\n",
       "      <td>F</td>\n",
       "      <td>employee</td>\n",
       "      <td>0</td>\n",
       "      <td>40620.102</td>\n",
       "      <td>purchase of the house</td>\n",
       "      <td>bachelor's degree</td>\n",
       "      <td>40620.102</td>\n",
       "      <td>millionaire</td>\n",
       "      <td>housing</td>\n",
       "    </tr>\n",
       "    <tr>\n",
       "      <th>1</th>\n",
       "      <td>1</td>\n",
       "      <td>-11.026860</td>\n",
       "      <td>36</td>\n",
       "      <td>secondary education</td>\n",
       "      <td>1</td>\n",
       "      <td>married</td>\n",
       "      <td>0</td>\n",
       "      <td>F</td>\n",
       "      <td>employee</td>\n",
       "      <td>0</td>\n",
       "      <td>17932.802</td>\n",
       "      <td>car purchase</td>\n",
       "      <td>secondary education</td>\n",
       "      <td>17932.802</td>\n",
       "      <td>middle class</td>\n",
       "      <td>car</td>\n",
       "    </tr>\n",
       "    <tr>\n",
       "      <th>2</th>\n",
       "      <td>0</td>\n",
       "      <td>-15.406637</td>\n",
       "      <td>33</td>\n",
       "      <td>Secondary Education</td>\n",
       "      <td>1</td>\n",
       "      <td>married</td>\n",
       "      <td>0</td>\n",
       "      <td>M</td>\n",
       "      <td>employee</td>\n",
       "      <td>0</td>\n",
       "      <td>23341.752</td>\n",
       "      <td>purchase of the house</td>\n",
       "      <td>secondary education</td>\n",
       "      <td>23341.752</td>\n",
       "      <td>rich</td>\n",
       "      <td>housing</td>\n",
       "    </tr>\n",
       "    <tr>\n",
       "      <th>3</th>\n",
       "      <td>3</td>\n",
       "      <td>-11.300677</td>\n",
       "      <td>32</td>\n",
       "      <td>secondary education</td>\n",
       "      <td>1</td>\n",
       "      <td>married</td>\n",
       "      <td>0</td>\n",
       "      <td>M</td>\n",
       "      <td>employee</td>\n",
       "      <td>0</td>\n",
       "      <td>42820.568</td>\n",
       "      <td>supplementary education</td>\n",
       "      <td>secondary education</td>\n",
       "      <td>42820.568</td>\n",
       "      <td>millionaire</td>\n",
       "      <td>education</td>\n",
       "    </tr>\n",
       "    <tr>\n",
       "      <th>4</th>\n",
       "      <td>0</td>\n",
       "      <td>932.235814</td>\n",
       "      <td>53</td>\n",
       "      <td>secondary education</td>\n",
       "      <td>1</td>\n",
       "      <td>civil partnership</td>\n",
       "      <td>1</td>\n",
       "      <td>F</td>\n",
       "      <td>retiree</td>\n",
       "      <td>0</td>\n",
       "      <td>25378.572</td>\n",
       "      <td>to have a wedding</td>\n",
       "      <td>secondary education</td>\n",
       "      <td>25378.572</td>\n",
       "      <td>rich</td>\n",
       "      <td>wedding</td>\n",
       "    </tr>\n",
       "  </tbody>\n",
       "</table>\n",
       "</div>"
      ],
      "text/plain": [
       "   children  days_employed  dob_years            education  education_id  \\\n",
       "0         1     -23.116912         42    bachelor's degree             0   \n",
       "1         1     -11.026860         36  secondary education             1   \n",
       "2         0     -15.406637         33  Secondary Education             1   \n",
       "3         3     -11.300677         32  secondary education             1   \n",
       "4         0     932.235814         53  secondary education             1   \n",
       "\n",
       "       family_status  family_status_id gender income_type  debt  total_income  \\\n",
       "0            married                 0      F    employee     0     40620.102   \n",
       "1            married                 0      F    employee     0     17932.802   \n",
       "2            married                 0      M    employee     0     23341.752   \n",
       "3            married                 0      M    employee     0     42820.568   \n",
       "4  civil partnership                 1      F     retiree     0     25378.572   \n",
       "\n",
       "                   purpose      education_clean  clean_income grouped_income  \\\n",
       "0    purchase of the house    bachelor's degree     40620.102    millionaire   \n",
       "1             car purchase  secondary education     17932.802   middle class   \n",
       "2    purchase of the house  secondary education     23341.752           rich   \n",
       "3  supplementary education  secondary education     42820.568    millionaire   \n",
       "4        to have a wedding  secondary education     25378.572           rich   \n",
       "\n",
       "  grouped_purpose  \n",
       "0         housing  \n",
       "1             car  \n",
       "2         housing  \n",
       "3       education  \n",
       "4         wedding  "
      ]
     },
     "execution_count": 28,
     "metadata": {},
     "output_type": "execute_result"
    }
   ],
   "source": [
    "credit_scoring.head(5)"
   ]
  },
  {
   "cell_type": "markdown",
   "metadata": {},
   "source": [
    "Such beautiful categories!  😍 "
   ]
  },
  {
   "cell_type": "markdown",
   "metadata": {},
   "source": [
    "We categorized the 2 columns that for sure needed to be divided by groups. Now let's check quickly the other variables that are relevant for our analysis:\n",
    "* children\n",
    "* family_status\n"
   ]
  },
  {
   "cell_type": "markdown",
   "metadata": {},
   "source": [
    "*children column*\n",
    "***"
   ]
  },
  {
   "cell_type": "code",
   "execution_count": 29,
   "metadata": {},
   "outputs": [
    {
     "data": {
      "text/plain": [
       "-1        47\n",
       " 0     14149\n",
       " 1      4818\n",
       " 2      2055\n",
       " 3       330\n",
       " 4        41\n",
       " 5         9\n",
       " 20       76\n",
       "Name: children, dtype: int64"
      ]
     },
     "execution_count": 29,
     "metadata": {},
     "output_type": "execute_result"
    }
   ],
   "source": [
    "credit_scoring['children'].value_counts().sort_index()"
   ]
  },
  {
   "cell_type": "markdown",
   "metadata": {},
   "source": [
    "The output shows that there are some strange values: -1 and 20. \n",
    "Logic says that maybe the -1 is actually 1, and there's a typing error, and maybe 20 is actually 2, also due to type error. \n",
    "Let's change those values:\n",
    "* -1 ==> 1\n",
    "* 20 ==> 2"
   ]
  },
  {
   "cell_type": "markdown",
   "metadata": {},
   "source": [
    "Building a function that replaces the values and using the apply method on our data."
   ]
  },
  {
   "cell_type": "code",
   "execution_count": 30,
   "metadata": {},
   "outputs": [
    {
     "data": {
      "text/plain": [
       "0    14149\n",
       "1     4865\n",
       "2     2131\n",
       "3      330\n",
       "4       41\n",
       "5        9\n",
       "Name: clean_children, dtype: int64"
      ]
     },
     "execution_count": 30,
     "metadata": {},
     "output_type": "execute_result"
    }
   ],
   "source": [
    "# Building the function\n",
    "def children_num(x):\n",
    "    if x == -1:\n",
    "        return 1\n",
    "    elif x == 20:\n",
    "        return 2\n",
    "    else:\n",
    "        return x\n",
    "\n",
    "# Use the apply method\n",
    "credit_scoring['clean_children'] = credit_scoring['children'].apply(children_num)\n",
    "credit_scoring['clean_children'].value_counts()"
   ]
  },
  {
   "cell_type": "markdown",
   "metadata": {},
   "source": [
    "There are 6 groups in the children column, which is a pretty small amount so I don't think there is a need to categorize it.\n",
    "But it's a good thing that we checked the values and fixed them!\n"
   ]
  },
  {
   "cell_type": "markdown",
   "metadata": {},
   "source": [
    "*Family_status*\n",
    "***"
   ]
  },
  {
   "cell_type": "code",
   "execution_count": 31,
   "metadata": {},
   "outputs": [
    {
     "data": {
      "text/plain": [
       "married              12380\n",
       "civil partnership     4177\n",
       "unmarried             2813\n",
       "divorced              1195\n",
       "widow / widower        960\n",
       "Name: family_status, dtype: int64"
      ]
     },
     "execution_count": 31,
     "metadata": {},
     "output_type": "execute_result"
    }
   ],
   "source": [
    "credit_scoring['family_status'].value_counts()"
   ]
  },
  {
   "cell_type": "markdown",
   "metadata": {},
   "source": [
    "The values seem excellent, and no trace of strange values. There are 5 categories, which is an acceptable amount of categories. We could to categorized it into people who are in a relationship and not in a relationship, but I am interested to know the difference between each status, so I leave it as is. "
   ]
  },
  {
   "cell_type": "markdown",
   "metadata": {},
   "source": [
    "### Conclusion"
   ]
  },
  {
   "cell_type": "markdown",
   "metadata": {},
   "source": [
    "1. We categorized the income level of the customers to 4 groups:\n",
    "* poor\n",
    "* middle class\n",
    "* rich\n",
    "* millionaire\n",
    "\n",
    "We did the classification according to the 4 percent of the column (25%, 50%, 75%). We used the description method to find the value for each quarterly percentage, built a function that assigns the value to the correct category, and applied it (using the apply method😁 ) to our data.\n",
    "\n",
    "2. We also categorized the different purposes of the customers to 4 categories:\n",
    "* wedding\n",
    "* housing\n",
    "* car\n",
    "* education\n",
    "\n",
    "We used the lemmatization technique:\n",
    "* First we manually created the 4 categories due to the small number of categories. \n",
    "* Then we built a lemmatization function that assigns each given value to the right category. \n",
    "* In the final step we applied the lemmatization function that we built to our data.\n",
    "\n",
    "It seems that the most common reason for taking a loan is housing purposes. Also, buying a car and acquiring education are issues of equal importance for customers. A wedding is the least uncommon cause of taking a loan.\n",
    "\n",
    "Interesting priorities, people are willing to spend more money on a car than on their wedding, and the same amount of money for car and education. It seems that car is a very important feature in the customers of this bank. I suspect this bank is in a \"low love life\" suburban and non-urban area where customers rely on private vehicles rather than public transportation (Bummer 😕). \n",
    "\n",
    "3. We checked the children variable and saw that there are 2 odd values: -1 and 20. We replaced them with 1 and 2 respectively. The changes showed that most of the customers don't have children, and among those who do, most of them have only 1 child. (Kids are fun, start making them!😂)\n",
    "\n",
    "4. We examined the family_status column and saw that the values are perfect with only 5 categories, so it is logically to leave them as it is and not categorizing. \n",
    "\n",
    "It seems that most of the customers are married, so weddings are good for the bank. Maybe the bank should promote better terms for wedding loans (this will repay itself later 😁). "
   ]
  },
  {
   "cell_type": "markdown",
   "metadata": {},
   "source": [
    "## Answering the following questions"
   ]
  },
  {
   "cell_type": "markdown",
   "metadata": {},
   "source": [
    "- Is there a relation between having kids and repaying a loan on time?"
   ]
  },
  {
   "cell_type": "markdown",
   "metadata": {},
   "source": [
    "We will use pivot_table method."
   ]
  },
  {
   "cell_type": "code",
   "execution_count": 32,
   "metadata": {},
   "outputs": [
    {
     "data": {
      "text/html": [
       "<div>\n",
       "<style scoped>\n",
       "    .dataframe tbody tr th:only-of-type {\n",
       "        vertical-align: middle;\n",
       "    }\n",
       "\n",
       "    .dataframe tbody tr th {\n",
       "        vertical-align: top;\n",
       "    }\n",
       "\n",
       "    .dataframe thead th {\n",
       "        text-align: right;\n",
       "    }\n",
       "</style>\n",
       "<table border=\"1\" class=\"dataframe\">\n",
       "  <thead>\n",
       "    <tr style=\"text-align: right;\">\n",
       "      <th>debt</th>\n",
       "      <th>clean_children2</th>\n",
       "      <th>0</th>\n",
       "      <th>1</th>\n",
       "      <th>All</th>\n",
       "    </tr>\n",
       "  </thead>\n",
       "  <tbody>\n",
       "    <tr>\n",
       "      <th>0</th>\n",
       "      <td>0.0</td>\n",
       "      <td>13086.0</td>\n",
       "      <td>1063.0</td>\n",
       "      <td>14149</td>\n",
       "    </tr>\n",
       "    <tr>\n",
       "      <th>1</th>\n",
       "      <td>1.0</td>\n",
       "      <td>4420.0</td>\n",
       "      <td>445.0</td>\n",
       "      <td>4865</td>\n",
       "    </tr>\n",
       "    <tr>\n",
       "      <th>2</th>\n",
       "      <td>2.0</td>\n",
       "      <td>1929.0</td>\n",
       "      <td>202.0</td>\n",
       "      <td>2131</td>\n",
       "    </tr>\n",
       "    <tr>\n",
       "      <th>3</th>\n",
       "      <td>3.0</td>\n",
       "      <td>303.0</td>\n",
       "      <td>27.0</td>\n",
       "      <td>330</td>\n",
       "    </tr>\n",
       "    <tr>\n",
       "      <th>4</th>\n",
       "      <td>4.0</td>\n",
       "      <td>37.0</td>\n",
       "      <td>4.0</td>\n",
       "      <td>41</td>\n",
       "    </tr>\n",
       "    <tr>\n",
       "      <th>5</th>\n",
       "      <td>5.0</td>\n",
       "      <td>9.0</td>\n",
       "      <td>NaN</td>\n",
       "      <td>9</td>\n",
       "    </tr>\n",
       "    <tr>\n",
       "      <th>6</th>\n",
       "      <td>All</td>\n",
       "      <td>19784.0</td>\n",
       "      <td>1741.0</td>\n",
       "      <td>21525</td>\n",
       "    </tr>\n",
       "  </tbody>\n",
       "</table>\n",
       "</div>"
      ],
      "text/plain": [
       "debt clean_children2        0       1    All\n",
       "0                0.0  13086.0  1063.0  14149\n",
       "1                1.0   4420.0   445.0   4865\n",
       "2                2.0   1929.0   202.0   2131\n",
       "3                3.0    303.0    27.0    330\n",
       "4                4.0     37.0     4.0     41\n",
       "5                5.0      9.0     NaN      9\n",
       "6                All  19784.0  1741.0  21525"
      ]
     },
     "execution_count": 32,
     "metadata": {},
     "output_type": "execute_result"
    }
   ],
   "source": [
    "credit_scoring['clean_children2'] = credit_scoring['clean_children'].astype('float')\n",
    "children_pivot = pd.pivot_table(\n",
    "    credit_scoring, index = 'clean_children2', columns = 'debt', values = 'clean_children', aggfunc = 'count', margins = 'True').reset_index()\n",
    "children_pivot"
   ]
  },
  {
   "cell_type": "markdown",
   "metadata": {},
   "source": [
    "We got NaN for customers with 5 children. Let's check it in the data quickly. "
   ]
  },
  {
   "cell_type": "code",
   "execution_count": 33,
   "metadata": {},
   "outputs": [
    {
     "data": {
      "text/html": [
       "<div>\n",
       "<style scoped>\n",
       "    .dataframe tbody tr th:only-of-type {\n",
       "        vertical-align: middle;\n",
       "    }\n",
       "\n",
       "    .dataframe tbody tr th {\n",
       "        vertical-align: top;\n",
       "    }\n",
       "\n",
       "    .dataframe thead th {\n",
       "        text-align: right;\n",
       "    }\n",
       "</style>\n",
       "<table border=\"1\" class=\"dataframe\">\n",
       "  <thead>\n",
       "    <tr style=\"text-align: right;\">\n",
       "      <th></th>\n",
       "      <th>children</th>\n",
       "      <th>days_employed</th>\n",
       "      <th>dob_years</th>\n",
       "      <th>education</th>\n",
       "      <th>education_id</th>\n",
       "      <th>family_status</th>\n",
       "      <th>family_status_id</th>\n",
       "      <th>gender</th>\n",
       "      <th>income_type</th>\n",
       "      <th>debt</th>\n",
       "      <th>total_income</th>\n",
       "      <th>purpose</th>\n",
       "      <th>education_clean</th>\n",
       "      <th>clean_income</th>\n",
       "      <th>grouped_income</th>\n",
       "      <th>grouped_purpose</th>\n",
       "      <th>clean_children</th>\n",
       "      <th>clean_children2</th>\n",
       "    </tr>\n",
       "  </thead>\n",
       "  <tbody>\n",
       "  </tbody>\n",
       "</table>\n",
       "</div>"
      ],
      "text/plain": [
       "Empty DataFrame\n",
       "Columns: [children, days_employed, dob_years, education, education_id, family_status, family_status_id, gender, income_type, debt, total_income, purpose, education_clean, clean_income, grouped_income, grouped_purpose, clean_children, clean_children2]\n",
       "Index: []"
      ]
     },
     "execution_count": 33,
     "metadata": {},
     "output_type": "execute_result"
    }
   ],
   "source": [
    "x = credit_scoring.loc[credit_scoring['debt'] == 1,]\n",
    "x.loc[x['clean_children'] == 5,]"
   ]
  },
  {
   "cell_type": "markdown",
   "metadata": {},
   "source": [
    "We see that there are no such values - great! The NaN value is not a mistake!"
   ]
  },
  {
   "cell_type": "markdown",
   "metadata": {},
   "source": [
    "Now we will add a new column with the percentage of the dafult_rate because absolute numbers don't tell us anything."
   ]
  },
  {
   "cell_type": "code",
   "execution_count": 34,
   "metadata": {},
   "outputs": [
    {
     "data": {
      "text/html": [
       "<div>\n",
       "<style scoped>\n",
       "    .dataframe tbody tr th:only-of-type {\n",
       "        vertical-align: middle;\n",
       "    }\n",
       "\n",
       "    .dataframe tbody tr th {\n",
       "        vertical-align: top;\n",
       "    }\n",
       "\n",
       "    .dataframe thead th {\n",
       "        text-align: right;\n",
       "    }\n",
       "</style>\n",
       "<table border=\"1\" class=\"dataframe\">\n",
       "  <thead>\n",
       "    <tr style=\"text-align: right;\">\n",
       "      <th>debt</th>\n",
       "      <th>clean_children2</th>\n",
       "      <th>0</th>\n",
       "      <th>1</th>\n",
       "      <th>All</th>\n",
       "      <th>default_rate</th>\n",
       "    </tr>\n",
       "  </thead>\n",
       "  <tbody>\n",
       "    <tr>\n",
       "      <th>0</th>\n",
       "      <td>0.0</td>\n",
       "      <td>13086.0</td>\n",
       "      <td>1063.0</td>\n",
       "      <td>14149</td>\n",
       "      <td>7.512898</td>\n",
       "    </tr>\n",
       "    <tr>\n",
       "      <th>1</th>\n",
       "      <td>1.0</td>\n",
       "      <td>4420.0</td>\n",
       "      <td>445.0</td>\n",
       "      <td>4865</td>\n",
       "      <td>9.146968</td>\n",
       "    </tr>\n",
       "    <tr>\n",
       "      <th>2</th>\n",
       "      <td>2.0</td>\n",
       "      <td>1929.0</td>\n",
       "      <td>202.0</td>\n",
       "      <td>2131</td>\n",
       "      <td>9.479118</td>\n",
       "    </tr>\n",
       "    <tr>\n",
       "      <th>3</th>\n",
       "      <td>3.0</td>\n",
       "      <td>303.0</td>\n",
       "      <td>27.0</td>\n",
       "      <td>330</td>\n",
       "      <td>8.181818</td>\n",
       "    </tr>\n",
       "    <tr>\n",
       "      <th>4</th>\n",
       "      <td>4.0</td>\n",
       "      <td>37.0</td>\n",
       "      <td>4.0</td>\n",
       "      <td>41</td>\n",
       "      <td>9.756098</td>\n",
       "    </tr>\n",
       "    <tr>\n",
       "      <th>5</th>\n",
       "      <td>5.0</td>\n",
       "      <td>9.0</td>\n",
       "      <td>NaN</td>\n",
       "      <td>9</td>\n",
       "      <td>NaN</td>\n",
       "    </tr>\n",
       "    <tr>\n",
       "      <th>6</th>\n",
       "      <td>All</td>\n",
       "      <td>19784.0</td>\n",
       "      <td>1741.0</td>\n",
       "      <td>21525</td>\n",
       "      <td>8.088269</td>\n",
       "    </tr>\n",
       "  </tbody>\n",
       "</table>\n",
       "</div>"
      ],
      "text/plain": [
       "debt clean_children2        0       1    All  default_rate\n",
       "0                0.0  13086.0  1063.0  14149      7.512898\n",
       "1                1.0   4420.0   445.0   4865      9.146968\n",
       "2                2.0   1929.0   202.0   2131      9.479118\n",
       "3                3.0    303.0    27.0    330      8.181818\n",
       "4                4.0     37.0     4.0     41      9.756098\n",
       "5                5.0      9.0     NaN      9           NaN\n",
       "6                All  19784.0  1741.0  21525      8.088269"
      ]
     },
     "execution_count": 34,
     "metadata": {},
     "output_type": "execute_result"
    }
   ],
   "source": [
    "children_pivot['default_rate'] = (children_pivot[1] / children_pivot['All']) *100\n",
    "children_pivot\n"
   ]
  },
  {
   "cell_type": "markdown",
   "metadata": {},
   "source": [
    "### Conclusion"
   ]
  },
  {
   "cell_type": "markdown",
   "metadata": {},
   "source": [
    "Customers with no children are the safest in terms of repaying a loan. After that customers with 3 children, and surprisingly, customers with 1 child or 2 children are in the most untrusted customers among with costumers with 4 children. But generally, the more children a customer has, the bigger chance he will default a loan. . "
   ]
  },
  {
   "cell_type": "markdown",
   "metadata": {},
   "source": [
    "- Is there a relation between marital status and repaying a loan on time?"
   ]
  },
  {
   "cell_type": "markdown",
   "metadata": {},
   "source": [
    "We will use pivot_table method."
   ]
  },
  {
   "cell_type": "code",
   "execution_count": 35,
   "metadata": {},
   "outputs": [
    {
     "data": {
      "text/html": [
       "<div>\n",
       "<style scoped>\n",
       "    .dataframe tbody tr th:only-of-type {\n",
       "        vertical-align: middle;\n",
       "    }\n",
       "\n",
       "    .dataframe tbody tr th {\n",
       "        vertical-align: top;\n",
       "    }\n",
       "\n",
       "    .dataframe thead th {\n",
       "        text-align: right;\n",
       "    }\n",
       "</style>\n",
       "<table border=\"1\" class=\"dataframe\">\n",
       "  <thead>\n",
       "    <tr style=\"text-align: right;\">\n",
       "      <th>debt</th>\n",
       "      <th>family_status</th>\n",
       "      <th>0</th>\n",
       "      <th>1</th>\n",
       "      <th>All</th>\n",
       "    </tr>\n",
       "  </thead>\n",
       "  <tbody>\n",
       "    <tr>\n",
       "      <th>0</th>\n",
       "      <td>civil partnership</td>\n",
       "      <td>3789</td>\n",
       "      <td>388</td>\n",
       "      <td>4177</td>\n",
       "    </tr>\n",
       "    <tr>\n",
       "      <th>1</th>\n",
       "      <td>divorced</td>\n",
       "      <td>1110</td>\n",
       "      <td>85</td>\n",
       "      <td>1195</td>\n",
       "    </tr>\n",
       "    <tr>\n",
       "      <th>2</th>\n",
       "      <td>married</td>\n",
       "      <td>11449</td>\n",
       "      <td>931</td>\n",
       "      <td>12380</td>\n",
       "    </tr>\n",
       "    <tr>\n",
       "      <th>3</th>\n",
       "      <td>unmarried</td>\n",
       "      <td>2539</td>\n",
       "      <td>274</td>\n",
       "      <td>2813</td>\n",
       "    </tr>\n",
       "    <tr>\n",
       "      <th>4</th>\n",
       "      <td>widow / widower</td>\n",
       "      <td>897</td>\n",
       "      <td>63</td>\n",
       "      <td>960</td>\n",
       "    </tr>\n",
       "    <tr>\n",
       "      <th>5</th>\n",
       "      <td>All</td>\n",
       "      <td>19784</td>\n",
       "      <td>1741</td>\n",
       "      <td>21525</td>\n",
       "    </tr>\n",
       "  </tbody>\n",
       "</table>\n",
       "</div>"
      ],
      "text/plain": [
       "debt      family_status      0     1    All\n",
       "0     civil partnership   3789   388   4177\n",
       "1              divorced   1110    85   1195\n",
       "2               married  11449   931  12380\n",
       "3             unmarried   2539   274   2813\n",
       "4       widow / widower    897    63    960\n",
       "5                   All  19784  1741  21525"
      ]
     },
     "execution_count": 35,
     "metadata": {},
     "output_type": "execute_result"
    }
   ],
   "source": [
    "family_status_pivot = pd.pivot_table(\n",
    "    credit_scoring, index = 'family_status', columns = 'debt', values = 'family_status_id', aggfunc = 'count', margins = 'True').reset_index()\n",
    "family_status_pivot"
   ]
  },
  {
   "cell_type": "markdown",
   "metadata": {},
   "source": [
    "Now we will add a new column with the percentage of the dafult_rate because absolute numbers don't tell us anything."
   ]
  },
  {
   "cell_type": "code",
   "execution_count": 36,
   "metadata": {},
   "outputs": [
    {
     "data": {
      "text/html": [
       "<div>\n",
       "<style scoped>\n",
       "    .dataframe tbody tr th:only-of-type {\n",
       "        vertical-align: middle;\n",
       "    }\n",
       "\n",
       "    .dataframe tbody tr th {\n",
       "        vertical-align: top;\n",
       "    }\n",
       "\n",
       "    .dataframe thead th {\n",
       "        text-align: right;\n",
       "    }\n",
       "</style>\n",
       "<table border=\"1\" class=\"dataframe\">\n",
       "  <thead>\n",
       "    <tr style=\"text-align: right;\">\n",
       "      <th>debt</th>\n",
       "      <th>family_status</th>\n",
       "      <th>0</th>\n",
       "      <th>1</th>\n",
       "      <th>All</th>\n",
       "      <th>default_rate</th>\n",
       "    </tr>\n",
       "  </thead>\n",
       "  <tbody>\n",
       "    <tr>\n",
       "      <th>0</th>\n",
       "      <td>civil partnership</td>\n",
       "      <td>3789</td>\n",
       "      <td>388</td>\n",
       "      <td>4177</td>\n",
       "      <td>9.288963</td>\n",
       "    </tr>\n",
       "    <tr>\n",
       "      <th>1</th>\n",
       "      <td>divorced</td>\n",
       "      <td>1110</td>\n",
       "      <td>85</td>\n",
       "      <td>1195</td>\n",
       "      <td>7.112971</td>\n",
       "    </tr>\n",
       "    <tr>\n",
       "      <th>2</th>\n",
       "      <td>married</td>\n",
       "      <td>11449</td>\n",
       "      <td>931</td>\n",
       "      <td>12380</td>\n",
       "      <td>7.520194</td>\n",
       "    </tr>\n",
       "    <tr>\n",
       "      <th>3</th>\n",
       "      <td>unmarried</td>\n",
       "      <td>2539</td>\n",
       "      <td>274</td>\n",
       "      <td>2813</td>\n",
       "      <td>9.740491</td>\n",
       "    </tr>\n",
       "    <tr>\n",
       "      <th>4</th>\n",
       "      <td>widow / widower</td>\n",
       "      <td>897</td>\n",
       "      <td>63</td>\n",
       "      <td>960</td>\n",
       "      <td>6.562500</td>\n",
       "    </tr>\n",
       "    <tr>\n",
       "      <th>5</th>\n",
       "      <td>All</td>\n",
       "      <td>19784</td>\n",
       "      <td>1741</td>\n",
       "      <td>21525</td>\n",
       "      <td>8.088269</td>\n",
       "    </tr>\n",
       "  </tbody>\n",
       "</table>\n",
       "</div>"
      ],
      "text/plain": [
       "debt      family_status      0     1    All  default_rate\n",
       "0     civil partnership   3789   388   4177      9.288963\n",
       "1              divorced   1110    85   1195      7.112971\n",
       "2               married  11449   931  12380      7.520194\n",
       "3             unmarried   2539   274   2813      9.740491\n",
       "4       widow / widower    897    63    960      6.562500\n",
       "5                   All  19784  1741  21525      8.088269"
      ]
     },
     "execution_count": 36,
     "metadata": {},
     "output_type": "execute_result"
    }
   ],
   "source": [
    "family_status_pivot['default_rate'] = (family_status_pivot[1] / family_status_pivot['All']) *100\n",
    "family_status_pivot"
   ]
  },
  {
   "cell_type": "markdown",
   "metadata": {},
   "source": [
    "### Conclusion"
   ]
  },
  {
   "cell_type": "markdown",
   "metadata": {},
   "source": [
    "It seems that unmarried customers have the highest rate of loan default. It's also interesting to see that divorced and married people have the almost the same ranking. \n",
    "The unmarried category needs clarification because divorced people are also unmarried, so in the real-world we would ask the bank to clarify that. \n",
    "In general, it seems that married and divorced people default their loans in the same percentage, and that unmarried and the ones who are in a civil partnership are with the highest chance to default a loan. \n",
    "a widow or widower is the safest customer among the groups that we examined. "
   ]
  },
  {
   "cell_type": "markdown",
   "metadata": {},
   "source": [
    "- Is there a relation between income level and repaying a loan on time?"
   ]
  },
  {
   "cell_type": "code",
   "execution_count": 37,
   "metadata": {},
   "outputs": [
    {
     "data": {
      "text/html": [
       "<div>\n",
       "<style scoped>\n",
       "    .dataframe tbody tr th:only-of-type {\n",
       "        vertical-align: middle;\n",
       "    }\n",
       "\n",
       "    .dataframe tbody tr th {\n",
       "        vertical-align: top;\n",
       "    }\n",
       "\n",
       "    .dataframe thead th {\n",
       "        text-align: right;\n",
       "    }\n",
       "</style>\n",
       "<table border=\"1\" class=\"dataframe\">\n",
       "  <thead>\n",
       "    <tr style=\"text-align: right;\">\n",
       "      <th>debt</th>\n",
       "      <th>grouped_income</th>\n",
       "      <th>0</th>\n",
       "      <th>1</th>\n",
       "      <th>All</th>\n",
       "    </tr>\n",
       "  </thead>\n",
       "  <tbody>\n",
       "    <tr>\n",
       "      <th>0</th>\n",
       "      <td>middle class</td>\n",
       "      <td>5040</td>\n",
       "      <td>483</td>\n",
       "      <td>5523</td>\n",
       "    </tr>\n",
       "    <tr>\n",
       "      <th>1</th>\n",
       "      <td>millionaire</td>\n",
       "      <td>4995</td>\n",
       "      <td>386</td>\n",
       "      <td>5381</td>\n",
       "    </tr>\n",
       "    <tr>\n",
       "      <th>2</th>\n",
       "      <td>poor</td>\n",
       "      <td>4955</td>\n",
       "      <td>427</td>\n",
       "      <td>5382</td>\n",
       "    </tr>\n",
       "    <tr>\n",
       "      <th>3</th>\n",
       "      <td>rich</td>\n",
       "      <td>4794</td>\n",
       "      <td>445</td>\n",
       "      <td>5239</td>\n",
       "    </tr>\n",
       "    <tr>\n",
       "      <th>4</th>\n",
       "      <td>All</td>\n",
       "      <td>19784</td>\n",
       "      <td>1741</td>\n",
       "      <td>21525</td>\n",
       "    </tr>\n",
       "  </tbody>\n",
       "</table>\n",
       "</div>"
      ],
      "text/plain": [
       "debt grouped_income      0     1    All\n",
       "0      middle class   5040   483   5523\n",
       "1       millionaire   4995   386   5381\n",
       "2              poor   4955   427   5382\n",
       "3              rich   4794   445   5239\n",
       "4               All  19784  1741  21525"
      ]
     },
     "execution_count": 37,
     "metadata": {},
     "output_type": "execute_result"
    }
   ],
   "source": [
    "clean_income_pivot = pd.pivot_table(\n",
    "    credit_scoring, index = 'grouped_income', columns = 'debt', values = 'clean_income', aggfunc = 'count', margins = 'True').reset_index()\n",
    "clean_income_pivot"
   ]
  },
  {
   "cell_type": "markdown",
   "metadata": {},
   "source": [
    "Now we will add a new column with the percentage of the dafult_rate because absolute numbers don't tell us anything."
   ]
  },
  {
   "cell_type": "code",
   "execution_count": 38,
   "metadata": {},
   "outputs": [
    {
     "data": {
      "text/html": [
       "<div>\n",
       "<style scoped>\n",
       "    .dataframe tbody tr th:only-of-type {\n",
       "        vertical-align: middle;\n",
       "    }\n",
       "\n",
       "    .dataframe tbody tr th {\n",
       "        vertical-align: top;\n",
       "    }\n",
       "\n",
       "    .dataframe thead th {\n",
       "        text-align: right;\n",
       "    }\n",
       "</style>\n",
       "<table border=\"1\" class=\"dataframe\">\n",
       "  <thead>\n",
       "    <tr style=\"text-align: right;\">\n",
       "      <th>debt</th>\n",
       "      <th>grouped_income</th>\n",
       "      <th>0</th>\n",
       "      <th>1</th>\n",
       "      <th>All</th>\n",
       "      <th>default_rate</th>\n",
       "    </tr>\n",
       "  </thead>\n",
       "  <tbody>\n",
       "    <tr>\n",
       "      <th>0</th>\n",
       "      <td>middle class</td>\n",
       "      <td>5040</td>\n",
       "      <td>483</td>\n",
       "      <td>5523</td>\n",
       "      <td>8.745247</td>\n",
       "    </tr>\n",
       "    <tr>\n",
       "      <th>1</th>\n",
       "      <td>millionaire</td>\n",
       "      <td>4995</td>\n",
       "      <td>386</td>\n",
       "      <td>5381</td>\n",
       "      <td>7.173388</td>\n",
       "    </tr>\n",
       "    <tr>\n",
       "      <th>2</th>\n",
       "      <td>poor</td>\n",
       "      <td>4955</td>\n",
       "      <td>427</td>\n",
       "      <td>5382</td>\n",
       "      <td>7.933854</td>\n",
       "    </tr>\n",
       "    <tr>\n",
       "      <th>3</th>\n",
       "      <td>rich</td>\n",
       "      <td>4794</td>\n",
       "      <td>445</td>\n",
       "      <td>5239</td>\n",
       "      <td>8.493987</td>\n",
       "    </tr>\n",
       "    <tr>\n",
       "      <th>4</th>\n",
       "      <td>All</td>\n",
       "      <td>19784</td>\n",
       "      <td>1741</td>\n",
       "      <td>21525</td>\n",
       "      <td>8.088269</td>\n",
       "    </tr>\n",
       "  </tbody>\n",
       "</table>\n",
       "</div>"
      ],
      "text/plain": [
       "debt grouped_income      0     1    All  default_rate\n",
       "0      middle class   5040   483   5523      8.745247\n",
       "1       millionaire   4995   386   5381      7.173388\n",
       "2              poor   4955   427   5382      7.933854\n",
       "3              rich   4794   445   5239      8.493987\n",
       "4               All  19784  1741  21525      8.088269"
      ]
     },
     "execution_count": 38,
     "metadata": {},
     "output_type": "execute_result"
    }
   ],
   "source": [
    "clean_income_pivot['default_rate'] = (clean_income_pivot[1] / clean_income_pivot['All']) *100\n",
    "clean_income_pivot"
   ]
  },
  {
   "cell_type": "markdown",
   "metadata": {},
   "source": [
    "### Conclusion"
   ]
  },
  {
   "cell_type": "markdown",
   "metadata": {},
   "source": [
    "Here we see that poor and millionaire people are the safest customers in terms of repaying a loan, while the middle class and the rich are the most untrusted. Nevertheless, the gap between the values is 1.57% at its top, so roughly speaking we don't have such a big difference between the income types. "
   ]
  },
  {
   "cell_type": "markdown",
   "metadata": {},
   "source": [
    "- How do different loan purposes affect on-time repayment of the loan?"
   ]
  },
  {
   "cell_type": "code",
   "execution_count": 39,
   "metadata": {},
   "outputs": [
    {
     "data": {
      "text/html": [
       "<div>\n",
       "<style scoped>\n",
       "    .dataframe tbody tr th:only-of-type {\n",
       "        vertical-align: middle;\n",
       "    }\n",
       "\n",
       "    .dataframe tbody tr th {\n",
       "        vertical-align: top;\n",
       "    }\n",
       "\n",
       "    .dataframe thead th {\n",
       "        text-align: right;\n",
       "    }\n",
       "</style>\n",
       "<table border=\"1\" class=\"dataframe\">\n",
       "  <thead>\n",
       "    <tr style=\"text-align: right;\">\n",
       "      <th>debt</th>\n",
       "      <th>grouped_purpose</th>\n",
       "      <th>0</th>\n",
       "      <th>1</th>\n",
       "      <th>All</th>\n",
       "    </tr>\n",
       "  </thead>\n",
       "  <tbody>\n",
       "    <tr>\n",
       "      <th>0</th>\n",
       "      <td>car</td>\n",
       "      <td>3912</td>\n",
       "      <td>403</td>\n",
       "      <td>4315</td>\n",
       "    </tr>\n",
       "    <tr>\n",
       "      <th>1</th>\n",
       "      <td>education</td>\n",
       "      <td>3652</td>\n",
       "      <td>370</td>\n",
       "      <td>4022</td>\n",
       "    </tr>\n",
       "    <tr>\n",
       "      <th>2</th>\n",
       "      <td>housing</td>\n",
       "      <td>10058</td>\n",
       "      <td>782</td>\n",
       "      <td>10840</td>\n",
       "    </tr>\n",
       "    <tr>\n",
       "      <th>3</th>\n",
       "      <td>wedding</td>\n",
       "      <td>2162</td>\n",
       "      <td>186</td>\n",
       "      <td>2348</td>\n",
       "    </tr>\n",
       "    <tr>\n",
       "      <th>4</th>\n",
       "      <td>All</td>\n",
       "      <td>19784</td>\n",
       "      <td>1741</td>\n",
       "      <td>21525</td>\n",
       "    </tr>\n",
       "  </tbody>\n",
       "</table>\n",
       "</div>"
      ],
      "text/plain": [
       "debt grouped_purpose      0     1    All\n",
       "0                car   3912   403   4315\n",
       "1          education   3652   370   4022\n",
       "2            housing  10058   782  10840\n",
       "3            wedding   2162   186   2348\n",
       "4                All  19784  1741  21525"
      ]
     },
     "execution_count": 39,
     "metadata": {},
     "output_type": "execute_result"
    }
   ],
   "source": [
    "purpose_pivot = pd.pivot_table(\n",
    "    credit_scoring, index = 'grouped_purpose', columns = 'debt', values = 'purpose', aggfunc = 'count', margins = 'True').reset_index()\n",
    "purpose_pivot"
   ]
  },
  {
   "cell_type": "markdown",
   "metadata": {},
   "source": [
    "Now we will add a new column with the percentage of the dafult_rate because absolute numbers don't tell us anything."
   ]
  },
  {
   "cell_type": "code",
   "execution_count": 40,
   "metadata": {},
   "outputs": [
    {
     "data": {
      "text/html": [
       "<div>\n",
       "<style scoped>\n",
       "    .dataframe tbody tr th:only-of-type {\n",
       "        vertical-align: middle;\n",
       "    }\n",
       "\n",
       "    .dataframe tbody tr th {\n",
       "        vertical-align: top;\n",
       "    }\n",
       "\n",
       "    .dataframe thead th {\n",
       "        text-align: right;\n",
       "    }\n",
       "</style>\n",
       "<table border=\"1\" class=\"dataframe\">\n",
       "  <thead>\n",
       "    <tr style=\"text-align: right;\">\n",
       "      <th>debt</th>\n",
       "      <th>grouped_purpose</th>\n",
       "      <th>0</th>\n",
       "      <th>1</th>\n",
       "      <th>All</th>\n",
       "      <th>default_rate</th>\n",
       "    </tr>\n",
       "  </thead>\n",
       "  <tbody>\n",
       "    <tr>\n",
       "      <th>0</th>\n",
       "      <td>car</td>\n",
       "      <td>3912</td>\n",
       "      <td>403</td>\n",
       "      <td>4315</td>\n",
       "      <td>9.339513</td>\n",
       "    </tr>\n",
       "    <tr>\n",
       "      <th>1</th>\n",
       "      <td>education</td>\n",
       "      <td>3652</td>\n",
       "      <td>370</td>\n",
       "      <td>4022</td>\n",
       "      <td>9.199403</td>\n",
       "    </tr>\n",
       "    <tr>\n",
       "      <th>2</th>\n",
       "      <td>housing</td>\n",
       "      <td>10058</td>\n",
       "      <td>782</td>\n",
       "      <td>10840</td>\n",
       "      <td>7.214022</td>\n",
       "    </tr>\n",
       "    <tr>\n",
       "      <th>3</th>\n",
       "      <td>wedding</td>\n",
       "      <td>2162</td>\n",
       "      <td>186</td>\n",
       "      <td>2348</td>\n",
       "      <td>7.921635</td>\n",
       "    </tr>\n",
       "    <tr>\n",
       "      <th>4</th>\n",
       "      <td>All</td>\n",
       "      <td>19784</td>\n",
       "      <td>1741</td>\n",
       "      <td>21525</td>\n",
       "      <td>8.088269</td>\n",
       "    </tr>\n",
       "  </tbody>\n",
       "</table>\n",
       "</div>"
      ],
      "text/plain": [
       "debt grouped_purpose      0     1    All  default_rate\n",
       "0                car   3912   403   4315      9.339513\n",
       "1          education   3652   370   4022      9.199403\n",
       "2            housing  10058   782  10840      7.214022\n",
       "3            wedding   2162   186   2348      7.921635\n",
       "4                All  19784  1741  21525      8.088269"
      ]
     },
     "execution_count": 40,
     "metadata": {},
     "output_type": "execute_result"
    }
   ],
   "source": [
    "purpose_pivot['default_rate'] = (purpose_pivot[1] / purpose_pivot['All']) *100\n",
    "purpose_pivot"
   ]
  },
  {
   "cell_type": "markdown",
   "metadata": {},
   "source": [
    "### Conclusion"
   ]
  },
  {
   "cell_type": "markdown",
   "metadata": {},
   "source": [
    "Customers that take a loan for buying a house or to fund a wedding, are the most trustable, while customers that took a loan for a car or education are the riskiest."
   ]
  },
  {
   "cell_type": "markdown",
   "metadata": {},
   "source": [
    "## General conclusion"
   ]
  },
  {
   "cell_type": "markdown",
   "metadata": {},
   "source": [
    "After answering all of the questions, we figured out that the best categories in terms of a loan replying are a number of children, family_status, and purpose. Customers with no children, a widow or a widower that buying a house are the best loaners for the bank (such a sad customer  😅 ).\n",
    "\n",
    "Also, there is no difference between married and divorced in they ability to repay a loan - it's important data also from sociological point of view. Many people are afraid of divorce due to financial constraints on the part of the financial entities and continue to live together. So a bank that has such a figure, can give the same conditions to both groups, and on the way to being social and fair. This way, the bank's image will also rise among society. \n",
    "\n",
    "\n",
    "The worst customer for the bank is someone with 4 kids, unmarried who wants to buy a car. Education is also a category with high rick to default a loan. \n",
    "\n",
    "So we could highly reccomand to the bank to lower condition for a wedding puprpose loan from 2 reasons:\n",
    "1. Loans for wedding purposes are at the lower group of risk for defaulting a loan. \n",
    "2. Married costomers are also at the lower group of risk for defaulting a loan.\n",
    "\n",
    "**Meaning:** The loan for wedding purpose are most likely to be repyed, so it's beneficial from economical point of view. \n",
    "\n",
    "On the other hand, we would recommend putting costumers with kids, costumers that taking a loan for a car or education or customers that are in uninstitutionalized relationship (unmarried and civil partnership)  in a \"risky folder\" and monitor them closely. \n",
    " "
   ]
  }
 ],
 "metadata": {
  "ExecuteTimeLog": [
   {
    "duration": 1270,
    "start_time": "2021-10-10T15:45:14.581Z"
   },
   {
    "duration": -774,
    "start_time": "2021-10-10T15:46:01.789Z"
   },
   {
    "duration": 2578,
    "start_time": "2021-10-10T15:46:07.705Z"
   },
   {
    "duration": 2487,
    "start_time": "2021-10-10T15:46:41.054Z"
   },
   {
    "duration": 2442,
    "start_time": "2021-10-10T15:46:51.391Z"
   },
   {
    "duration": 388,
    "start_time": "2021-10-10T15:47:51.445Z"
   },
   {
    "duration": 66,
    "start_time": "2021-10-10T15:48:04.754Z"
   },
   {
    "duration": 21,
    "start_time": "2021-10-10T16:49:54.467Z"
   },
   {
    "duration": 15,
    "start_time": "2021-10-10T16:52:33.893Z"
   },
   {
    "duration": 29,
    "start_time": "2021-10-10T16:53:02.455Z"
   },
   {
    "duration": 375,
    "start_time": "2021-10-10T16:55:54.344Z"
   },
   {
    "duration": 17,
    "start_time": "2021-10-10T16:56:25.329Z"
   },
   {
    "duration": 16,
    "start_time": "2021-10-10T16:57:18.422Z"
   },
   {
    "duration": 363,
    "start_time": "2021-10-10T16:57:56.316Z"
   },
   {
    "duration": 103,
    "start_time": "2021-10-10T16:58:08.435Z"
   },
   {
    "duration": 14,
    "start_time": "2021-10-10T16:58:18.746Z"
   },
   {
    "duration": 359,
    "start_time": "2021-10-10T16:58:30.277Z"
   },
   {
    "duration": 16,
    "start_time": "2021-10-10T16:58:44.418Z"
   },
   {
    "duration": 19,
    "start_time": "2021-10-10T16:59:01.503Z"
   },
   {
    "duration": 14,
    "start_time": "2021-10-10T16:59:19.255Z"
   },
   {
    "duration": -735,
    "start_time": "2021-10-10T17:00:10.712Z"
   },
   {
    "duration": 17,
    "start_time": "2021-10-10T17:00:17.569Z"
   },
   {
    "duration": 16,
    "start_time": "2021-10-10T17:01:15.560Z"
   },
   {
    "duration": 15,
    "start_time": "2021-10-10T17:01:34.728Z"
   },
   {
    "duration": 17,
    "start_time": "2021-10-10T17:02:02.695Z"
   },
   {
    "duration": -1859,
    "start_time": "2021-10-10T17:02:27.821Z"
   },
   {
    "duration": 19,
    "start_time": "2021-10-10T17:02:30.950Z"
   },
   {
    "duration": 17,
    "start_time": "2021-10-10T17:02:52.212Z"
   },
   {
    "duration": 14,
    "start_time": "2021-10-10T17:03:21.830Z"
   },
   {
    "duration": 17,
    "start_time": "2021-10-10T17:03:36.975Z"
   },
   {
    "duration": 16,
    "start_time": "2021-10-10T17:03:47.444Z"
   },
   {
    "duration": 13,
    "start_time": "2021-10-10T17:12:12.944Z"
   },
   {
    "duration": 17,
    "start_time": "2021-10-10T17:25:23.464Z"
   },
   {
    "duration": 10,
    "start_time": "2021-10-10T17:25:27.970Z"
   },
   {
    "duration": 13,
    "start_time": "2021-10-10T17:26:02.936Z"
   },
   {
    "duration": 10,
    "start_time": "2021-10-10T17:27:51.609Z"
   },
   {
    "duration": -707,
    "start_time": "2021-10-10T17:28:10.846Z"
   },
   {
    "duration": 10,
    "start_time": "2021-10-10T17:28:22.689Z"
   },
   {
    "duration": 20,
    "start_time": "2021-10-10T18:14:18.706Z"
   },
   {
    "duration": 657,
    "start_time": "2021-10-10T19:49:05.483Z"
   },
   {
    "duration": 11,
    "start_time": "2021-10-10T19:49:13.003Z"
   },
   {
    "duration": 10,
    "start_time": "2021-10-10T19:49:32.556Z"
   },
   {
    "duration": 6,
    "start_time": "2021-10-10T19:49:39.484Z"
   },
   {
    "duration": 6,
    "start_time": "2021-10-10T19:49:46.540Z"
   },
   {
    "duration": 7,
    "start_time": "2021-10-10T19:50:12.554Z"
   },
   {
    "duration": 7,
    "start_time": "2021-10-10T19:50:37.395Z"
   },
   {
    "duration": 8,
    "start_time": "2021-10-10T19:50:44.126Z"
   },
   {
    "duration": 46,
    "start_time": "2021-10-10T19:55:06.871Z"
   },
   {
    "duration": 39,
    "start_time": "2021-10-10T19:55:16.926Z"
   },
   {
    "duration": 11,
    "start_time": "2021-10-10T19:56:00.614Z"
   },
   {
    "duration": 67,
    "start_time": "2021-10-10T20:23:12.875Z"
   },
   {
    "duration": 19,
    "start_time": "2021-10-10T20:23:12.949Z"
   },
   {
    "duration": 13,
    "start_time": "2021-10-10T20:23:12.971Z"
   },
   {
    "duration": 9,
    "start_time": "2021-10-10T20:23:12.987Z"
   },
   {
    "duration": 349,
    "start_time": "2021-10-11T09:07:03.734Z"
   },
   {
    "duration": 714,
    "start_time": "2021-10-11T09:07:16.248Z"
   },
   {
    "duration": 19,
    "start_time": "2021-10-11T09:07:16.964Z"
   },
   {
    "duration": 23,
    "start_time": "2021-10-11T09:07:16.985Z"
   },
   {
    "duration": 11,
    "start_time": "2021-10-11T09:07:17.010Z"
   },
   {
    "duration": -255,
    "start_time": "2021-10-11T09:09:52.517Z"
   },
   {
    "duration": 8140,
    "start_time": "2021-10-11T09:09:59.421Z"
   },
   {
    "duration": 52,
    "start_time": "2021-10-11T09:10:31.062Z"
   },
   {
    "duration": 13,
    "start_time": "2021-10-11T09:10:31.117Z"
   },
   {
    "duration": 12,
    "start_time": "2021-10-11T09:10:31.133Z"
   },
   {
    "duration": 36,
    "start_time": "2021-10-11T09:10:31.147Z"
   },
   {
    "duration": 11985,
    "start_time": "2021-10-11T09:10:31.185Z"
   },
   {
    "duration": 7520,
    "start_time": "2021-10-11T09:12:19.335Z"
   },
   {
    "duration": 7874,
    "start_time": "2021-10-11T09:12:37.150Z"
   },
   {
    "duration": 7885,
    "start_time": "2021-10-11T09:13:19.759Z"
   },
   {
    "duration": 7,
    "start_time": "2021-10-11T09:14:21.894Z"
   },
   {
    "duration": 52,
    "start_time": "2021-10-11T09:52:39.201Z"
   },
   {
    "duration": 14,
    "start_time": "2021-10-11T09:52:39.255Z"
   },
   {
    "duration": 13,
    "start_time": "2021-10-11T09:52:39.272Z"
   },
   {
    "duration": 8,
    "start_time": "2021-10-11T09:52:39.287Z"
   },
   {
    "duration": 7,
    "start_time": "2021-10-11T09:52:39.330Z"
   },
   {
    "duration": 5,
    "start_time": "2021-10-11T10:02:16.409Z"
   },
   {
    "duration": 10,
    "start_time": "2021-10-11T10:03:43.292Z"
   },
   {
    "duration": 6,
    "start_time": "2021-10-11T10:04:28.053Z"
   },
   {
    "duration": 4,
    "start_time": "2021-10-11T10:04:44.705Z"
   },
   {
    "duration": 5,
    "start_time": "2021-10-11T10:09:54.592Z"
   },
   {
    "duration": 8,
    "start_time": "2021-10-11T11:05:35.194Z"
   },
   {
    "duration": 8,
    "start_time": "2021-10-11T11:06:14.998Z"
   },
   {
    "duration": 7,
    "start_time": "2021-10-11T11:15:57.044Z"
   },
   {
    "duration": 4,
    "start_time": "2021-10-11T11:19:11.675Z"
   },
   {
    "duration": 8,
    "start_time": "2021-10-11T11:19:25.905Z"
   },
   {
    "duration": 51,
    "start_time": "2021-10-11T11:20:51.816Z"
   },
   {
    "duration": 12,
    "start_time": "2021-10-11T11:20:51.869Z"
   },
   {
    "duration": 9,
    "start_time": "2021-10-11T11:20:51.884Z"
   },
   {
    "duration": 6,
    "start_time": "2021-10-11T11:20:51.895Z"
   },
   {
    "duration": 6,
    "start_time": "2021-10-11T11:20:51.903Z"
   },
   {
    "duration": 5,
    "start_time": "2021-10-11T11:20:51.911Z"
   },
   {
    "duration": 8,
    "start_time": "2021-10-11T11:20:51.953Z"
   },
   {
    "duration": 7,
    "start_time": "2021-10-11T11:23:06.005Z"
   },
   {
    "duration": 52,
    "start_time": "2021-10-11T11:23:15.306Z"
   },
   {
    "duration": 13,
    "start_time": "2021-10-11T11:23:15.360Z"
   },
   {
    "duration": 26,
    "start_time": "2021-10-11T11:23:15.375Z"
   },
   {
    "duration": 18,
    "start_time": "2021-10-11T11:23:15.403Z"
   },
   {
    "duration": 21,
    "start_time": "2021-10-11T11:23:15.423Z"
   },
   {
    "duration": 31,
    "start_time": "2021-10-11T11:23:15.445Z"
   },
   {
    "duration": 26,
    "start_time": "2021-10-11T11:23:15.478Z"
   },
   {
    "duration": 7,
    "start_time": "2021-10-11T11:24:01.989Z"
   },
   {
    "duration": 99,
    "start_time": "2021-10-11T11:24:37.735Z"
   },
   {
    "duration": 7,
    "start_time": "2021-10-11T11:24:43.828Z"
   },
   {
    "duration": 8,
    "start_time": "2021-10-11T11:25:39.956Z"
   },
   {
    "duration": 52,
    "start_time": "2021-10-11T11:25:44.299Z"
   },
   {
    "duration": 12,
    "start_time": "2021-10-11T11:25:44.353Z"
   },
   {
    "duration": 17,
    "start_time": "2021-10-11T11:25:44.367Z"
   },
   {
    "duration": 6,
    "start_time": "2021-10-11T11:25:44.387Z"
   },
   {
    "duration": 16,
    "start_time": "2021-10-11T11:25:44.395Z"
   },
   {
    "duration": 6,
    "start_time": "2021-10-11T11:25:44.412Z"
   },
   {
    "duration": 11,
    "start_time": "2021-10-11T11:25:44.419Z"
   },
   {
    "duration": 9,
    "start_time": "2021-10-11T11:25:44.432Z"
   },
   {
    "duration": 7,
    "start_time": "2021-10-11T11:31:45.977Z"
   },
   {
    "duration": 8,
    "start_time": "2021-10-11T11:32:10.381Z"
   },
   {
    "duration": 52,
    "start_time": "2021-10-11T11:33:45.387Z"
   },
   {
    "duration": 12,
    "start_time": "2021-10-11T11:33:45.440Z"
   },
   {
    "duration": 11,
    "start_time": "2021-10-11T11:33:45.454Z"
   },
   {
    "duration": 6,
    "start_time": "2021-10-11T11:33:45.467Z"
   },
   {
    "duration": 6,
    "start_time": "2021-10-11T11:33:45.477Z"
   },
   {
    "duration": 5,
    "start_time": "2021-10-11T11:33:45.484Z"
   },
   {
    "duration": 7,
    "start_time": "2021-10-11T11:33:45.491Z"
   },
   {
    "duration": 329,
    "start_time": "2021-10-11T11:33:45.501Z"
   },
   {
    "duration": 50,
    "start_time": "2021-10-11T11:35:12.811Z"
   },
   {
    "duration": 13,
    "start_time": "2021-10-11T11:35:12.863Z"
   },
   {
    "duration": 9,
    "start_time": "2021-10-11T11:35:12.879Z"
   },
   {
    "duration": 7,
    "start_time": "2021-10-11T11:35:12.891Z"
   },
   {
    "duration": 9,
    "start_time": "2021-10-11T11:35:12.900Z"
   },
   {
    "duration": 6,
    "start_time": "2021-10-11T11:35:12.911Z"
   },
   {
    "duration": 11,
    "start_time": "2021-10-11T11:35:12.919Z"
   },
   {
    "duration": 48,
    "start_time": "2021-10-11T11:35:12.932Z"
   },
   {
    "duration": 304,
    "start_time": "2021-10-11T12:04:33.557Z"
   },
   {
    "duration": 8,
    "start_time": "2021-10-11T12:04:45.123Z"
   },
   {
    "duration": 8,
    "start_time": "2021-10-11T12:04:55.793Z"
   },
   {
    "duration": 8,
    "start_time": "2021-10-11T12:05:29.325Z"
   },
   {
    "duration": 8,
    "start_time": "2021-10-11T12:12:11.137Z"
   },
   {
    "duration": 50,
    "start_time": "2021-10-11T12:26:54.543Z"
   },
   {
    "duration": 12,
    "start_time": "2021-10-11T12:26:54.595Z"
   },
   {
    "duration": 20,
    "start_time": "2021-10-11T12:26:54.609Z"
   },
   {
    "duration": 16,
    "start_time": "2021-10-11T12:26:54.631Z"
   },
   {
    "duration": 23,
    "start_time": "2021-10-11T12:26:54.649Z"
   },
   {
    "duration": 16,
    "start_time": "2021-10-11T12:26:54.674Z"
   },
   {
    "duration": 26,
    "start_time": "2021-10-11T12:26:54.691Z"
   },
   {
    "duration": 21,
    "start_time": "2021-10-11T12:26:54.719Z"
   },
   {
    "duration": 43,
    "start_time": "2021-10-11T12:26:54.742Z"
   },
   {
    "duration": 6,
    "start_time": "2021-10-11T13:17:28.764Z"
   },
   {
    "duration": 7,
    "start_time": "2021-10-11T13:17:48.391Z"
   },
   {
    "duration": 318,
    "start_time": "2021-10-11T13:18:54.915Z"
   },
   {
    "duration": 292,
    "start_time": "2021-10-11T13:19:08.917Z"
   },
   {
    "duration": 9,
    "start_time": "2021-10-11T13:19:13.411Z"
   },
   {
    "duration": 11,
    "start_time": "2021-10-11T13:20:16.084Z"
   },
   {
    "duration": 16,
    "start_time": "2021-10-11T13:21:13.997Z"
   },
   {
    "duration": 104,
    "start_time": "2021-10-11T13:22:00.128Z"
   },
   {
    "duration": 98,
    "start_time": "2021-10-11T13:22:31.359Z"
   },
   {
    "duration": 108,
    "start_time": "2021-10-11T13:23:02.661Z"
   },
   {
    "duration": 13,
    "start_time": "2021-10-11T13:23:39.939Z"
   },
   {
    "duration": 17,
    "start_time": "2021-10-11T13:24:29.194Z"
   },
   {
    "duration": 15,
    "start_time": "2021-10-11T13:25:22.214Z"
   },
   {
    "duration": 1000,
    "start_time": "2021-10-11T13:58:49.330Z"
   },
   {
    "duration": 315,
    "start_time": "2021-10-11T14:00:52.052Z"
   },
   {
    "duration": 72,
    "start_time": "2021-10-11T14:02:16.440Z"
   },
   {
    "duration": 83,
    "start_time": "2021-10-11T14:03:45.429Z"
   },
   {
    "duration": 79,
    "start_time": "2021-10-11T14:04:57.331Z"
   },
   {
    "duration": 81,
    "start_time": "2021-10-11T14:05:31.740Z"
   },
   {
    "duration": 82,
    "start_time": "2021-10-11T14:07:18.127Z"
   },
   {
    "duration": 80,
    "start_time": "2021-10-11T14:07:44.550Z"
   },
   {
    "duration": 554,
    "start_time": "2021-10-11T14:19:29.322Z"
   },
   {
    "duration": 82,
    "start_time": "2021-10-11T14:19:56.488Z"
   },
   {
    "duration": 138,
    "start_time": "2021-10-11T14:21:05.574Z"
   },
   {
    "duration": 82,
    "start_time": "2021-10-11T14:49:47.531Z"
   },
   {
    "duration": 13,
    "start_time": "2021-10-11T15:15:16.252Z"
   },
   {
    "duration": 52,
    "start_time": "2021-10-11T15:16:27.092Z"
   },
   {
    "duration": 12,
    "start_time": "2021-10-11T15:16:27.146Z"
   },
   {
    "duration": 17,
    "start_time": "2021-10-11T15:16:27.160Z"
   },
   {
    "duration": 10,
    "start_time": "2021-10-11T15:16:27.180Z"
   },
   {
    "duration": 7,
    "start_time": "2021-10-11T15:16:27.192Z"
   },
   {
    "duration": 5,
    "start_time": "2021-10-11T15:16:27.201Z"
   },
   {
    "duration": 11,
    "start_time": "2021-10-11T15:16:27.208Z"
   },
   {
    "duration": 11,
    "start_time": "2021-10-11T15:16:27.221Z"
   },
   {
    "duration": 46,
    "start_time": "2021-10-11T15:16:27.235Z"
   },
   {
    "duration": 12,
    "start_time": "2021-10-11T15:16:27.283Z"
   },
   {
    "duration": 22,
    "start_time": "2021-10-11T15:17:24.590Z"
   },
   {
    "duration": 19,
    "start_time": "2021-10-11T15:21:18.527Z"
   },
   {
    "duration": 8,
    "start_time": "2021-10-11T15:22:04.165Z"
   },
   {
    "duration": 53,
    "start_time": "2021-10-11T15:22:17.623Z"
   },
   {
    "duration": 13,
    "start_time": "2021-10-11T15:22:17.677Z"
   },
   {
    "duration": 11,
    "start_time": "2021-10-11T15:22:17.692Z"
   },
   {
    "duration": 6,
    "start_time": "2021-10-11T15:22:17.705Z"
   },
   {
    "duration": 7,
    "start_time": "2021-10-11T15:22:17.713Z"
   },
   {
    "duration": 6,
    "start_time": "2021-10-11T15:22:17.722Z"
   },
   {
    "duration": 51,
    "start_time": "2021-10-11T15:22:17.730Z"
   },
   {
    "duration": 10,
    "start_time": "2021-10-11T15:22:17.784Z"
   },
   {
    "duration": 7,
    "start_time": "2021-10-11T15:22:17.797Z"
   },
   {
    "duration": 21,
    "start_time": "2021-10-11T15:22:17.806Z"
   },
   {
    "duration": 8,
    "start_time": "2021-10-11T15:22:17.829Z"
   },
   {
    "duration": 20,
    "start_time": "2021-10-11T15:27:57.015Z"
   },
   {
    "duration": 21,
    "start_time": "2021-10-11T15:29:11.044Z"
   },
   {
    "duration": 76,
    "start_time": "2021-10-11T15:29:20.145Z"
   },
   {
    "duration": 21,
    "start_time": "2021-10-11T15:29:27.326Z"
   },
   {
    "duration": 15,
    "start_time": "2021-10-11T15:31:32.406Z"
   },
   {
    "duration": 10,
    "start_time": "2021-10-11T15:32:38.229Z"
   },
   {
    "duration": 167,
    "start_time": "2021-10-11T20:22:27.779Z"
   },
   {
    "duration": 576,
    "start_time": "2021-10-11T20:22:37.423Z"
   },
   {
    "duration": 19,
    "start_time": "2021-10-11T20:22:38.001Z"
   },
   {
    "duration": 10,
    "start_time": "2021-10-11T20:22:38.022Z"
   },
   {
    "duration": 8,
    "start_time": "2021-10-11T20:22:38.034Z"
   },
   {
    "duration": 7,
    "start_time": "2021-10-11T20:22:38.043Z"
   },
   {
    "duration": 5,
    "start_time": "2021-10-11T20:22:38.051Z"
   },
   {
    "duration": 47,
    "start_time": "2021-10-11T20:22:38.058Z"
   },
   {
    "duration": 8,
    "start_time": "2021-10-11T20:22:38.108Z"
   },
   {
    "duration": 7,
    "start_time": "2021-10-11T20:22:38.118Z"
   },
   {
    "duration": 14,
    "start_time": "2021-10-11T20:22:38.127Z"
   },
   {
    "duration": 10,
    "start_time": "2021-10-11T20:22:38.142Z"
   },
   {
    "duration": 152,
    "start_time": "2021-10-11T20:22:38.154Z"
   },
   {
    "duration": 12,
    "start_time": "2021-10-11T20:23:03.788Z"
   },
   {
    "duration": 426,
    "start_time": "2021-10-11T20:25:00.166Z"
   },
   {
    "duration": 11,
    "start_time": "2021-10-11T20:26:01.597Z"
   },
   {
    "duration": 15,
    "start_time": "2021-10-11T20:27:05.592Z"
   },
   {
    "duration": 47,
    "start_time": "2021-10-11T20:28:05.753Z"
   },
   {
    "duration": 12,
    "start_time": "2021-10-11T20:28:05.802Z"
   },
   {
    "duration": 15,
    "start_time": "2021-10-11T20:28:05.816Z"
   },
   {
    "duration": 20,
    "start_time": "2021-10-11T20:28:05.833Z"
   },
   {
    "duration": 7,
    "start_time": "2021-10-11T20:28:05.855Z"
   },
   {
    "duration": 20,
    "start_time": "2021-10-11T20:28:05.864Z"
   },
   {
    "duration": 19,
    "start_time": "2021-10-11T20:28:05.886Z"
   },
   {
    "duration": 8,
    "start_time": "2021-10-11T20:28:05.909Z"
   },
   {
    "duration": 17,
    "start_time": "2021-10-11T20:28:05.919Z"
   },
   {
    "duration": 14,
    "start_time": "2021-10-11T20:28:05.938Z"
   },
   {
    "duration": 10,
    "start_time": "2021-10-11T20:28:05.954Z"
   },
   {
    "duration": 47,
    "start_time": "2021-10-11T20:28:05.965Z"
   },
   {
    "duration": 49,
    "start_time": "2021-10-11T20:32:05.237Z"
   },
   {
    "duration": 12,
    "start_time": "2021-10-11T20:32:05.288Z"
   },
   {
    "duration": 24,
    "start_time": "2021-10-11T20:32:05.302Z"
   },
   {
    "duration": 26,
    "start_time": "2021-10-11T20:32:05.328Z"
   },
   {
    "duration": 15,
    "start_time": "2021-10-11T20:32:05.356Z"
   },
   {
    "duration": 11,
    "start_time": "2021-10-11T20:32:05.373Z"
   },
   {
    "duration": 20,
    "start_time": "2021-10-11T20:32:05.386Z"
   },
   {
    "duration": 9,
    "start_time": "2021-10-11T20:32:05.408Z"
   },
   {
    "duration": 9,
    "start_time": "2021-10-11T20:32:05.419Z"
   },
   {
    "duration": 16,
    "start_time": "2021-10-11T20:32:05.430Z"
   },
   {
    "duration": 8,
    "start_time": "2021-10-11T20:32:05.448Z"
   },
   {
    "duration": 20,
    "start_time": "2021-10-11T20:32:05.457Z"
   },
   {
    "duration": 135,
    "start_time": "2021-10-11T20:37:32.601Z"
   },
   {
    "duration": 6,
    "start_time": "2021-10-11T20:37:39.412Z"
   },
   {
    "duration": 6,
    "start_time": "2021-10-11T20:38:03.736Z"
   },
   {
    "duration": 6,
    "start_time": "2021-10-11T20:38:16.578Z"
   },
   {
    "duration": 6,
    "start_time": "2021-10-11T20:38:28.882Z"
   },
   {
    "duration": 5,
    "start_time": "2021-10-11T20:39:12.652Z"
   },
   {
    "duration": 134,
    "start_time": "2021-10-11T21:22:31.253Z"
   },
   {
    "duration": 8,
    "start_time": "2021-10-11T21:23:23.769Z"
   },
   {
    "duration": 131,
    "start_time": "2021-10-11T21:23:43.134Z"
   },
   {
    "duration": 10,
    "start_time": "2021-10-11T21:24:05.765Z"
   },
   {
    "duration": 9,
    "start_time": "2021-10-11T21:24:32.496Z"
   },
   {
    "duration": 5,
    "start_time": "2021-10-11T21:25:01.659Z"
   },
   {
    "duration": 4,
    "start_time": "2021-10-11T21:25:10.930Z"
   },
   {
    "duration": 6,
    "start_time": "2021-10-11T21:25:57.406Z"
   },
   {
    "duration": 7,
    "start_time": "2021-10-11T21:27:42.134Z"
   },
   {
    "duration": 7,
    "start_time": "2021-10-11T21:28:29.702Z"
   },
   {
    "duration": 7,
    "start_time": "2021-10-11T21:28:57.278Z"
   },
   {
    "duration": 805,
    "start_time": "2021-10-12T18:49:17.560Z"
   },
   {
    "duration": 31,
    "start_time": "2021-10-12T18:49:18.367Z"
   },
   {
    "duration": 13,
    "start_time": "2021-10-12T18:49:18.401Z"
   },
   {
    "duration": 45,
    "start_time": "2021-10-12T18:49:18.417Z"
   },
   {
    "duration": 8,
    "start_time": "2021-10-12T18:49:18.464Z"
   },
   {
    "duration": 8,
    "start_time": "2021-10-12T18:49:18.474Z"
   },
   {
    "duration": 11,
    "start_time": "2021-10-12T18:49:18.485Z"
   },
   {
    "duration": 10,
    "start_time": "2021-10-12T18:49:18.499Z"
   },
   {
    "duration": 59,
    "start_time": "2021-10-12T18:49:18.512Z"
   },
   {
    "duration": 522,
    "start_time": "2021-10-12T18:49:18.573Z"
   },
   {
    "duration": -552,
    "start_time": "2021-10-12T18:49:19.649Z"
   },
   {
    "duration": -566,
    "start_time": "2021-10-12T18:49:19.665Z"
   },
   {
    "duration": 66,
    "start_time": "2021-10-12T18:49:41.097Z"
   },
   {
    "duration": 18,
    "start_time": "2021-10-12T18:49:41.166Z"
   },
   {
    "duration": 17,
    "start_time": "2021-10-12T18:49:41.187Z"
   },
   {
    "duration": 12,
    "start_time": "2021-10-12T18:49:41.208Z"
   },
   {
    "duration": 43,
    "start_time": "2021-10-12T18:49:41.223Z"
   },
   {
    "duration": 5,
    "start_time": "2021-10-12T18:49:41.268Z"
   },
   {
    "duration": 13,
    "start_time": "2021-10-12T18:49:41.275Z"
   },
   {
    "duration": 11,
    "start_time": "2021-10-12T18:49:41.292Z"
   },
   {
    "duration": 10,
    "start_time": "2021-10-12T18:49:41.305Z"
   },
   {
    "duration": 10,
    "start_time": "2021-10-12T18:49:41.362Z"
   },
   {
    "duration": 12,
    "start_time": "2021-10-12T18:49:41.374Z"
   },
   {
    "duration": 19,
    "start_time": "2021-10-12T18:49:41.389Z"
   },
   {
    "duration": 41,
    "start_time": "2021-10-12T18:52:41.034Z"
   },
   {
    "duration": 9,
    "start_time": "2021-10-12T18:54:14.031Z"
   },
   {
    "duration": 9,
    "start_time": "2021-10-12T18:54:16.721Z"
   },
   {
    "duration": 55,
    "start_time": "2021-10-12T19:00:43.504Z"
   },
   {
    "duration": 38,
    "start_time": "2021-10-12T19:02:11.730Z"
   },
   {
    "duration": 10,
    "start_time": "2021-10-12T19:04:44.126Z"
   },
   {
    "duration": -3448,
    "start_time": "2021-10-12T19:07:43.847Z"
   },
   {
    "duration": 7797,
    "start_time": "2021-10-12T19:07:46.539Z"
   },
   {
    "duration": 10702,
    "start_time": "2021-10-12T19:08:07.028Z"
   },
   {
    "duration": 78,
    "start_time": "2021-10-12T19:08:38.028Z"
   },
   {
    "duration": 20,
    "start_time": "2021-10-12T19:08:38.108Z"
   },
   {
    "duration": 35,
    "start_time": "2021-10-12T19:08:38.131Z"
   },
   {
    "duration": 11,
    "start_time": "2021-10-12T19:08:38.169Z"
   },
   {
    "duration": 20,
    "start_time": "2021-10-12T19:08:38.183Z"
   },
   {
    "duration": 12,
    "start_time": "2021-10-12T19:08:38.205Z"
   },
   {
    "duration": 15,
    "start_time": "2021-10-12T19:08:38.220Z"
   },
   {
    "duration": 17,
    "start_time": "2021-10-12T19:08:38.263Z"
   },
   {
    "duration": 11,
    "start_time": "2021-10-12T19:08:38.283Z"
   },
   {
    "duration": 84,
    "start_time": "2021-10-12T19:08:38.296Z"
   },
   {
    "duration": 14,
    "start_time": "2021-10-12T19:08:38.383Z"
   },
   {
    "duration": 12527,
    "start_time": "2021-10-12T19:08:38.400Z"
   },
   {
    "duration": -1257,
    "start_time": "2021-10-12T19:08:52.187Z"
   },
   {
    "duration": -1566,
    "start_time": "2021-10-12T19:08:52.498Z"
   },
   {
    "duration": 8148,
    "start_time": "2021-10-12T19:09:15.571Z"
   },
   {
    "duration": 11,
    "start_time": "2021-10-12T19:09:53.663Z"
   },
   {
    "duration": 6,
    "start_time": "2021-10-12T19:10:05.504Z"
   },
   {
    "duration": 8,
    "start_time": "2021-10-12T19:10:16.586Z"
   },
   {
    "duration": 21,
    "start_time": "2021-10-12T19:10:54.566Z"
   },
   {
    "duration": 71,
    "start_time": "2021-10-12T19:38:49.659Z"
   },
   {
    "duration": 21,
    "start_time": "2021-10-12T19:38:49.733Z"
   },
   {
    "duration": 16,
    "start_time": "2021-10-12T19:38:49.768Z"
   },
   {
    "duration": 9,
    "start_time": "2021-10-12T19:38:49.786Z"
   },
   {
    "duration": 8,
    "start_time": "2021-10-12T19:38:49.798Z"
   },
   {
    "duration": 6,
    "start_time": "2021-10-12T19:38:49.826Z"
   },
   {
    "duration": 19,
    "start_time": "2021-10-12T19:38:49.867Z"
   },
   {
    "duration": 11,
    "start_time": "2021-10-12T19:38:49.888Z"
   },
   {
    "duration": 10,
    "start_time": "2021-10-12T19:38:49.902Z"
   },
   {
    "duration": 84,
    "start_time": "2021-10-12T19:38:49.915Z"
   },
   {
    "duration": 15,
    "start_time": "2021-10-12T19:38:50.069Z"
   },
   {
    "duration": 21,
    "start_time": "2021-10-12T19:38:50.086Z"
   },
   {
    "duration": 13,
    "start_time": "2021-10-12T19:38:50.110Z"
   },
   {
    "duration": 55,
    "start_time": "2021-10-12T19:38:50.125Z"
   },
   {
    "duration": 38,
    "start_time": "2021-10-12T19:48:10.504Z"
   },
   {
    "duration": 9813,
    "start_time": "2021-10-12T19:49:12.524Z"
   },
   {
    "duration": 37,
    "start_time": "2021-10-12T19:50:05.716Z"
   },
   {
    "duration": 9,
    "start_time": "2021-10-12T19:50:40.961Z"
   },
   {
    "duration": 336,
    "start_time": "2021-10-12T19:50:58.516Z"
   },
   {
    "duration": 11,
    "start_time": "2021-10-12T19:51:04.363Z"
   },
   {
    "duration": 37,
    "start_time": "2021-10-12T19:51:52.719Z"
   },
   {
    "duration": 310,
    "start_time": "2021-10-12T19:59:08.056Z"
   },
   {
    "duration": 291,
    "start_time": "2021-10-12T19:59:44.105Z"
   },
   {
    "duration": 344,
    "start_time": "2021-10-12T20:04:00.086Z"
   },
   {
    "duration": 17,
    "start_time": "2021-10-12T20:04:16.168Z"
   },
   {
    "duration": 63,
    "start_time": "2021-10-12T20:06:31.105Z"
   },
   {
    "duration": 21,
    "start_time": "2021-10-12T20:06:31.171Z"
   },
   {
    "duration": 37,
    "start_time": "2021-10-12T20:06:31.195Z"
   },
   {
    "duration": 16,
    "start_time": "2021-10-12T20:06:31.234Z"
   },
   {
    "duration": 11,
    "start_time": "2021-10-12T20:06:31.262Z"
   },
   {
    "duration": 37,
    "start_time": "2021-10-12T20:06:31.275Z"
   },
   {
    "duration": 8,
    "start_time": "2021-10-12T20:06:31.314Z"
   },
   {
    "duration": 42,
    "start_time": "2021-10-12T20:06:31.326Z"
   },
   {
    "duration": 16,
    "start_time": "2021-10-12T20:06:31.370Z"
   },
   {
    "duration": 21,
    "start_time": "2021-10-12T20:06:31.388Z"
   },
   {
    "duration": 10,
    "start_time": "2021-10-12T20:06:31.411Z"
   },
   {
    "duration": 70,
    "start_time": "2021-10-12T20:06:31.423Z"
   },
   {
    "duration": 9,
    "start_time": "2021-10-12T20:06:31.496Z"
   },
   {
    "duration": 20,
    "start_time": "2021-10-12T20:06:31.507Z"
   },
   {
    "duration": 42,
    "start_time": "2021-10-12T20:06:31.529Z"
   },
   {
    "duration": 19,
    "start_time": "2021-10-12T20:06:31.575Z"
   },
   {
    "duration": 63,
    "start_time": "2021-10-12T20:07:37.859Z"
   },
   {
    "duration": 19,
    "start_time": "2021-10-12T20:07:37.925Z"
   },
   {
    "duration": 27,
    "start_time": "2021-10-12T20:07:37.946Z"
   },
   {
    "duration": 24,
    "start_time": "2021-10-12T20:07:37.976Z"
   },
   {
    "duration": 8,
    "start_time": "2021-10-12T20:07:38.003Z"
   },
   {
    "duration": 57,
    "start_time": "2021-10-12T20:07:38.013Z"
   },
   {
    "duration": 7,
    "start_time": "2021-10-12T20:07:38.072Z"
   },
   {
    "duration": 11,
    "start_time": "2021-10-12T20:07:38.082Z"
   },
   {
    "duration": 11,
    "start_time": "2021-10-12T20:07:38.096Z"
   },
   {
    "duration": 56,
    "start_time": "2021-10-12T20:07:38.110Z"
   },
   {
    "duration": 10,
    "start_time": "2021-10-12T20:07:38.168Z"
   },
   {
    "duration": 50,
    "start_time": "2021-10-12T20:07:38.180Z"
   },
   {
    "duration": 36,
    "start_time": "2021-10-12T20:07:38.232Z"
   },
   {
    "duration": 20,
    "start_time": "2021-10-12T20:07:38.270Z"
   },
   {
    "duration": 14,
    "start_time": "2021-10-12T20:07:38.292Z"
   },
   {
    "duration": 56,
    "start_time": "2021-10-12T20:07:38.308Z"
   },
   {
    "duration": 66,
    "start_time": "2021-10-12T20:08:06.312Z"
   },
   {
    "duration": 20,
    "start_time": "2021-10-12T20:08:06.381Z"
   },
   {
    "duration": 21,
    "start_time": "2021-10-12T20:08:06.405Z"
   },
   {
    "duration": 48,
    "start_time": "2021-10-12T20:08:06.429Z"
   },
   {
    "duration": 12,
    "start_time": "2021-10-12T20:08:06.480Z"
   },
   {
    "duration": 83,
    "start_time": "2021-10-12T20:08:06.495Z"
   },
   {
    "duration": 10,
    "start_time": "2021-10-12T20:08:06.581Z"
   },
   {
    "duration": 8,
    "start_time": "2021-10-12T20:08:06.597Z"
   },
   {
    "duration": 17,
    "start_time": "2021-10-12T20:08:06.608Z"
   },
   {
    "duration": 12,
    "start_time": "2021-10-12T20:08:06.663Z"
   },
   {
    "duration": 10,
    "start_time": "2021-10-12T20:08:06.678Z"
   },
   {
    "duration": 77,
    "start_time": "2021-10-12T20:08:06.691Z"
   },
   {
    "duration": 13,
    "start_time": "2021-10-12T20:08:06.771Z"
   },
   {
    "duration": 22,
    "start_time": "2021-10-12T20:08:06.786Z"
   },
   {
    "duration": 52,
    "start_time": "2021-10-12T20:08:06.811Z"
   },
   {
    "duration": 22,
    "start_time": "2021-10-12T20:08:06.867Z"
   },
   {
    "duration": 371,
    "start_time": "2021-10-12T20:10:00.457Z"
   },
   {
    "duration": 11,
    "start_time": "2021-10-12T20:10:14.217Z"
   },
   {
    "duration": 39,
    "start_time": "2021-10-12T20:15:35.834Z"
   },
   {
    "duration": 15,
    "start_time": "2021-10-12T20:19:33.331Z"
   },
   {
    "duration": 111,
    "start_time": "2021-10-12T20:37:38.815Z"
   },
   {
    "duration": 13,
    "start_time": "2021-10-12T20:42:44.496Z"
   },
   {
    "duration": 4,
    "start_time": "2021-10-12T20:54:12.951Z"
   },
   {
    "duration": 5,
    "start_time": "2021-10-12T20:55:12.238Z"
   },
   {
    "duration": 20,
    "start_time": "2021-10-12T20:57:53.199Z"
   },
   {
    "duration": 22,
    "start_time": "2021-10-12T20:58:25.091Z"
   },
   {
    "duration": 21,
    "start_time": "2021-10-12T21:00:05.306Z"
   },
   {
    "duration": 1469,
    "start_time": "2021-10-12T21:01:34.552Z"
   },
   {
    "duration": 1202,
    "start_time": "2021-10-12T21:01:56.340Z"
   },
   {
    "duration": 303,
    "start_time": "2021-10-12T21:02:26.872Z"
   },
   {
    "duration": 33,
    "start_time": "2021-10-12T21:03:09.295Z"
   },
   {
    "duration": 79,
    "start_time": "2021-10-13T07:35:35.825Z"
   },
   {
    "duration": 251,
    "start_time": "2021-10-13T07:35:40.584Z"
   },
   {
    "duration": 709,
    "start_time": "2021-10-13T07:35:46.384Z"
   },
   {
    "duration": 19,
    "start_time": "2021-10-13T07:35:47.094Z"
   },
   {
    "duration": 13,
    "start_time": "2021-10-13T07:35:47.115Z"
   },
   {
    "duration": 22,
    "start_time": "2021-10-13T07:35:47.130Z"
   },
   {
    "duration": 8,
    "start_time": "2021-10-13T07:35:47.154Z"
   },
   {
    "duration": 22,
    "start_time": "2021-10-13T07:35:47.163Z"
   },
   {
    "duration": 8,
    "start_time": "2021-10-13T07:35:47.187Z"
   },
   {
    "duration": 22,
    "start_time": "2021-10-13T07:35:47.196Z"
   },
   {
    "duration": 9,
    "start_time": "2021-10-13T07:35:47.251Z"
   },
   {
    "duration": 7,
    "start_time": "2021-10-13T07:35:47.262Z"
   },
   {
    "duration": 5,
    "start_time": "2021-10-13T07:35:47.270Z"
   },
   {
    "duration": 10,
    "start_time": "2021-10-13T07:35:47.276Z"
   },
   {
    "duration": 8,
    "start_time": "2021-10-13T07:35:47.287Z"
   },
   {
    "duration": 7,
    "start_time": "2021-10-13T07:35:47.297Z"
   },
   {
    "duration": 21,
    "start_time": "2021-10-13T07:35:47.350Z"
   },
   {
    "duration": 7,
    "start_time": "2021-10-13T07:35:47.372Z"
   },
   {
    "duration": 12,
    "start_time": "2021-10-13T07:35:47.381Z"
   },
   {
    "duration": 10,
    "start_time": "2021-10-13T07:35:47.394Z"
   },
   {
    "duration": 47,
    "start_time": "2021-10-13T07:35:47.406Z"
   },
   {
    "duration": 8,
    "start_time": "2021-10-13T07:35:47.455Z"
   },
   {
    "duration": 23,
    "start_time": "2021-10-13T07:35:47.464Z"
   },
   {
    "duration": 20,
    "start_time": "2021-10-13T07:36:03.124Z"
   },
   {
    "duration": 35,
    "start_time": "2021-10-13T07:36:22.354Z"
   },
   {
    "duration": 297,
    "start_time": "2021-10-13T07:39:34.272Z"
   },
   {
    "duration": 399,
    "start_time": "2021-10-13T07:40:21.262Z"
   },
   {
    "duration": 216,
    "start_time": "2021-10-13T07:40:56.132Z"
   },
   {
    "duration": 227,
    "start_time": "2021-10-13T07:41:04.881Z"
   },
   {
    "duration": 224,
    "start_time": "2021-10-13T07:41:22.543Z"
   },
   {
    "duration": 210,
    "start_time": "2021-10-13T07:41:39.151Z"
   },
   {
    "duration": 34,
    "start_time": "2021-10-13T07:41:59.592Z"
   },
   {
    "duration": 19,
    "start_time": "2021-10-13T07:42:33.221Z"
   },
   {
    "duration": 15,
    "start_time": "2021-10-13T07:46:18.585Z"
   },
   {
    "duration": 8,
    "start_time": "2021-10-13T07:51:29.494Z"
   },
   {
    "duration": 3,
    "start_time": "2021-10-13T08:00:52.411Z"
   },
   {
    "duration": 3,
    "start_time": "2021-10-13T08:06:41.534Z"
   },
   {
    "duration": 1244,
    "start_time": "2021-10-13T08:28:39.902Z"
   },
   {
    "duration": 1837,
    "start_time": "2021-10-13T08:28:50.726Z"
   },
   {
    "duration": 2496,
    "start_time": "2021-10-13T08:29:18.552Z"
   },
   {
    "duration": 2540,
    "start_time": "2021-10-13T08:29:59.049Z"
   },
   {
    "duration": 2209,
    "start_time": "2021-10-13T08:30:08.390Z"
   },
   {
    "duration": 2330,
    "start_time": "2021-10-13T08:30:55.940Z"
   },
   {
    "duration": 4,
    "start_time": "2021-10-13T08:31:58.187Z"
   },
   {
    "duration": 2204,
    "start_time": "2021-10-13T08:32:00.898Z"
   },
   {
    "duration": 2213,
    "start_time": "2021-10-13T08:32:23.057Z"
   },
   {
    "duration": 16,
    "start_time": "2021-10-13T08:33:26.931Z"
   },
   {
    "duration": 14,
    "start_time": "2021-10-13T08:35:06.598Z"
   },
   {
    "duration": 7,
    "start_time": "2021-10-13T08:41:35.647Z"
   },
   {
    "duration": 7,
    "start_time": "2021-10-13T08:41:50.729Z"
   },
   {
    "duration": 6,
    "start_time": "2021-10-13T08:41:57.678Z"
   },
   {
    "duration": 76,
    "start_time": "2021-10-13T08:52:31.835Z"
   },
   {
    "duration": 13,
    "start_time": "2021-10-13T08:52:39.383Z"
   },
   {
    "duration": 66,
    "start_time": "2021-10-13T08:53:38.876Z"
   },
   {
    "duration": 68,
    "start_time": "2021-10-13T08:55:29.125Z"
   },
   {
    "duration": 80,
    "start_time": "2021-10-13T08:55:40.813Z"
   },
   {
    "duration": 14,
    "start_time": "2021-10-13T08:56:04.933Z"
   },
   {
    "duration": 7,
    "start_time": "2021-10-13T09:01:56.765Z"
   },
   {
    "duration": 824,
    "start_time": "2021-10-13T13:02:47.443Z"
   },
   {
    "duration": 789,
    "start_time": "2021-10-13T13:02:57.416Z"
   },
   {
    "duration": 31,
    "start_time": "2021-10-13T13:02:58.207Z"
   },
   {
    "duration": 32,
    "start_time": "2021-10-13T13:02:58.241Z"
   },
   {
    "duration": 19,
    "start_time": "2021-10-13T13:02:58.276Z"
   },
   {
    "duration": 11,
    "start_time": "2021-10-13T13:02:58.298Z"
   },
   {
    "duration": 71,
    "start_time": "2021-10-13T13:02:58.311Z"
   },
   {
    "duration": 11,
    "start_time": "2021-10-13T13:02:58.384Z"
   },
   {
    "duration": 65,
    "start_time": "2021-10-13T13:02:58.397Z"
   },
   {
    "duration": 12,
    "start_time": "2021-10-13T13:02:58.468Z"
   },
   {
    "duration": 9,
    "start_time": "2021-10-13T13:02:58.484Z"
   },
   {
    "duration": 8,
    "start_time": "2021-10-13T13:02:58.496Z"
   },
   {
    "duration": 65,
    "start_time": "2021-10-13T13:02:58.507Z"
   },
   {
    "duration": 14,
    "start_time": "2021-10-13T13:02:58.576Z"
   },
   {
    "duration": 12,
    "start_time": "2021-10-13T13:02:58.593Z"
   },
   {
    "duration": 76,
    "start_time": "2021-10-13T13:02:58.609Z"
   },
   {
    "duration": 10,
    "start_time": "2021-10-13T13:02:58.688Z"
   },
   {
    "duration": 28,
    "start_time": "2021-10-13T13:02:58.700Z"
   },
   {
    "duration": 15,
    "start_time": "2021-10-13T13:02:58.762Z"
   },
   {
    "duration": 20,
    "start_time": "2021-10-13T13:02:58.780Z"
   },
   {
    "duration": 12,
    "start_time": "2021-10-13T13:02:58.803Z"
   },
   {
    "duration": 55,
    "start_time": "2021-10-13T13:02:58.818Z"
   },
   {
    "duration": 22,
    "start_time": "2021-10-13T13:02:58.876Z"
   },
   {
    "duration": 13,
    "start_time": "2021-10-13T13:02:58.901Z"
   },
   {
    "duration": 6,
    "start_time": "2021-10-13T13:02:58.916Z"
   },
   {
    "duration": 3189,
    "start_time": "2021-10-13T13:02:58.925Z"
   },
   {
    "duration": 28,
    "start_time": "2021-10-13T13:03:02.116Z"
   },
   {
    "duration": 8,
    "start_time": "2021-10-13T13:03:02.165Z"
   },
   {
    "duration": 24,
    "start_time": "2021-10-13T13:03:02.177Z"
   },
   {
    "duration": 26,
    "start_time": "2021-10-13T13:03:02.204Z"
   },
   {
    "duration": 398,
    "start_time": "2021-10-13T13:03:02.232Z"
   },
   {
    "duration": 331,
    "start_time": "2021-10-13T13:03:42.873Z"
   },
   {
    "duration": 307,
    "start_time": "2021-10-13T13:03:49.284Z"
   },
   {
    "duration": 712,
    "start_time": "2021-10-13T13:05:00.564Z"
   },
   {
    "duration": 311,
    "start_time": "2021-10-13T13:05:10.713Z"
   },
   {
    "duration": 65,
    "start_time": "2021-10-13T13:05:28.594Z"
   },
   {
    "duration": 59,
    "start_time": "2021-10-13T13:12:15.385Z"
   },
   {
    "duration": 12,
    "start_time": "2021-10-13T13:13:10.924Z"
   },
   {
    "duration": 60,
    "start_time": "2021-10-13T13:13:49.968Z"
   },
   {
    "duration": 8375,
    "start_time": "2021-10-13T13:19:18.525Z"
   },
   {
    "duration": 8536,
    "start_time": "2021-10-13T13:19:30.716Z"
   },
   {
    "duration": 10102,
    "start_time": "2021-10-13T13:19:43.126Z"
   },
   {
    "duration": 9262,
    "start_time": "2021-10-13T13:20:10.847Z"
   },
   {
    "duration": 8363,
    "start_time": "2021-10-13T13:21:11.944Z"
   },
   {
    "duration": 14,
    "start_time": "2021-10-13T13:21:27.757Z"
   },
   {
    "duration": 14,
    "start_time": "2021-10-13T13:26:45.749Z"
   },
   {
    "duration": 324,
    "start_time": "2021-10-13T13:27:10.639Z"
   },
   {
    "duration": 13,
    "start_time": "2021-10-13T13:27:21.883Z"
   },
   {
    "duration": 351,
    "start_time": "2021-10-13T13:44:47.812Z"
   },
   {
    "duration": 19,
    "start_time": "2021-10-13T13:46:30.251Z"
   },
   {
    "duration": 347,
    "start_time": "2021-10-13T13:47:51.401Z"
   },
   {
    "duration": 26,
    "start_time": "2021-10-13T13:49:05.741Z"
   },
   {
    "duration": 325,
    "start_time": "2021-10-13T13:50:02.571Z"
   },
   {
    "duration": 68,
    "start_time": "2021-10-13T13:52:57.042Z"
   },
   {
    "duration": 154,
    "start_time": "2021-10-13T13:54:48.251Z"
   },
   {
    "duration": 300,
    "start_time": "2021-10-13T13:54:55.273Z"
   },
   {
    "duration": 67,
    "start_time": "2021-10-13T13:55:31.512Z"
   },
   {
    "duration": 14,
    "start_time": "2021-10-13T13:56:31.391Z"
   },
   {
    "duration": 14,
    "start_time": "2021-10-13T13:58:12.433Z"
   },
   {
    "duration": 21,
    "start_time": "2021-10-13T13:59:34.334Z"
   },
   {
    "duration": 16,
    "start_time": "2021-10-13T13:59:46.341Z"
   },
   {
    "duration": 15,
    "start_time": "2021-10-13T13:59:55.283Z"
   },
   {
    "duration": 8778,
    "start_time": "2021-10-13T14:01:25.166Z"
   },
   {
    "duration": 333,
    "start_time": "2021-10-13T14:01:42.702Z"
   },
   {
    "duration": 13,
    "start_time": "2021-10-13T14:02:02.173Z"
   },
   {
    "duration": 51,
    "start_time": "2021-10-13T14:02:12.039Z"
   },
   {
    "duration": 8429,
    "start_time": "2021-10-13T14:02:43.273Z"
   },
   {
    "duration": 122,
    "start_time": "2021-10-13T14:03:21.379Z"
   },
   {
    "duration": 116,
    "start_time": "2021-10-13T14:03:29.066Z"
   },
   {
    "duration": 8526,
    "start_time": "2021-10-13T14:03:41.058Z"
   },
   {
    "duration": 50,
    "start_time": "2021-10-13T14:04:09.648Z"
   },
   {
    "duration": 19,
    "start_time": "2021-10-13T14:04:59.759Z"
   },
   {
    "duration": 18,
    "start_time": "2021-10-13T14:07:04.020Z"
   },
   {
    "duration": 13,
    "start_time": "2021-10-13T14:08:33.679Z"
   },
   {
    "duration": 12,
    "start_time": "2021-10-13T14:08:43.769Z"
   },
   {
    "duration": 12,
    "start_time": "2021-10-13T14:14:43.566Z"
   },
   {
    "duration": 68,
    "start_time": "2021-10-13T14:20:53.794Z"
   },
   {
    "duration": 68,
    "start_time": "2021-10-13T14:21:05.174Z"
   },
   {
    "duration": 13,
    "start_time": "2021-10-13T14:22:29.711Z"
   },
   {
    "duration": 835,
    "start_time": "2021-10-13T17:44:31.682Z"
   },
   {
    "duration": 29,
    "start_time": "2021-10-13T17:44:32.520Z"
   },
   {
    "duration": 18,
    "start_time": "2021-10-13T17:44:32.551Z"
   },
   {
    "duration": 34,
    "start_time": "2021-10-13T17:44:32.571Z"
   },
   {
    "duration": 19,
    "start_time": "2021-10-13T17:44:32.608Z"
   },
   {
    "duration": 42,
    "start_time": "2021-10-13T17:44:32.629Z"
   },
   {
    "duration": 10,
    "start_time": "2021-10-13T17:44:32.674Z"
   },
   {
    "duration": 62,
    "start_time": "2021-10-13T17:44:32.688Z"
   },
   {
    "duration": 32,
    "start_time": "2021-10-13T17:44:32.755Z"
   },
   {
    "duration": 10,
    "start_time": "2021-10-13T17:44:32.790Z"
   },
   {
    "duration": 26,
    "start_time": "2021-10-13T17:44:32.803Z"
   },
   {
    "duration": 21,
    "start_time": "2021-10-13T17:44:32.831Z"
   },
   {
    "duration": 19,
    "start_time": "2021-10-13T17:44:32.856Z"
   },
   {
    "duration": 19,
    "start_time": "2021-10-13T17:44:32.878Z"
   },
   {
    "duration": 36,
    "start_time": "2021-10-13T17:44:32.924Z"
   },
   {
    "duration": 13,
    "start_time": "2021-10-13T17:44:32.963Z"
   },
   {
    "duration": 56,
    "start_time": "2021-10-13T17:44:32.979Z"
   },
   {
    "duration": 14,
    "start_time": "2021-10-13T17:44:33.037Z"
   },
   {
    "duration": 20,
    "start_time": "2021-10-13T17:44:33.054Z"
   },
   {
    "duration": 52,
    "start_time": "2021-10-13T17:44:33.076Z"
   },
   {
    "duration": 22,
    "start_time": "2021-10-13T17:44:33.131Z"
   },
   {
    "duration": 23,
    "start_time": "2021-10-13T17:44:33.155Z"
   },
   {
    "duration": 42,
    "start_time": "2021-10-13T17:44:33.182Z"
   },
   {
    "duration": 8,
    "start_time": "2021-10-13T17:44:33.227Z"
   },
   {
    "duration": 2830,
    "start_time": "2021-10-13T17:44:33.237Z"
   },
   {
    "duration": 24,
    "start_time": "2021-10-13T17:44:36.070Z"
   },
   {
    "duration": 42,
    "start_time": "2021-10-13T17:44:36.098Z"
   },
   {
    "duration": 28,
    "start_time": "2021-10-13T17:44:36.143Z"
   },
   {
    "duration": 34,
    "start_time": "2021-10-13T17:44:36.174Z"
   },
   {
    "duration": 102,
    "start_time": "2021-10-13T17:44:36.211Z"
   },
   {
    "duration": 16,
    "start_time": "2021-10-13T17:44:36.315Z"
   },
   {
    "duration": 22,
    "start_time": "2021-10-13T17:44:36.333Z"
   },
   {
    "duration": 74,
    "start_time": "2021-10-13T17:44:36.358Z"
   },
   {
    "duration": 13,
    "start_time": "2021-10-13T17:44:36.435Z"
   },
   {
    "duration": 87,
    "start_time": "2021-10-13T17:44:36.450Z"
   },
   {
    "duration": 12,
    "start_time": "2021-10-13T17:44:36.540Z"
   },
   {
    "duration": 83,
    "start_time": "2021-10-13T17:44:36.555Z"
   },
   {
    "duration": 12,
    "start_time": "2021-10-13T17:44:36.640Z"
   },
   {
    "duration": 66,
    "start_time": "2021-10-13T17:44:39.172Z"
   },
   {
    "duration": 19,
    "start_time": "2021-10-13T17:44:39.240Z"
   },
   {
    "duration": 31,
    "start_time": "2021-10-13T17:44:39.263Z"
   },
   {
    "duration": 15,
    "start_time": "2021-10-13T17:44:39.323Z"
   },
   {
    "duration": 18,
    "start_time": "2021-10-13T17:44:39.340Z"
   },
   {
    "duration": 44,
    "start_time": "2021-10-13T17:44:39.360Z"
   },
   {
    "duration": 22,
    "start_time": "2021-10-13T17:44:39.407Z"
   },
   {
    "duration": 53,
    "start_time": "2021-10-13T17:44:39.431Z"
   },
   {
    "duration": 10,
    "start_time": "2021-10-13T17:44:39.488Z"
   },
   {
    "duration": 24,
    "start_time": "2021-10-13T17:44:39.501Z"
   },
   {
    "duration": 24,
    "start_time": "2021-10-13T17:44:39.527Z"
   },
   {
    "duration": 18,
    "start_time": "2021-10-13T17:44:39.553Z"
   },
   {
    "duration": 29,
    "start_time": "2021-10-13T17:44:39.573Z"
   },
   {
    "duration": 19,
    "start_time": "2021-10-13T17:44:39.605Z"
   },
   {
    "duration": 37,
    "start_time": "2021-10-13T17:44:39.626Z"
   },
   {
    "duration": 8,
    "start_time": "2021-10-13T17:44:39.666Z"
   },
   {
    "duration": 45,
    "start_time": "2021-10-13T17:44:39.677Z"
   },
   {
    "duration": 17,
    "start_time": "2021-10-13T17:44:39.724Z"
   },
   {
    "duration": 30,
    "start_time": "2021-10-13T17:44:39.744Z"
   },
   {
    "duration": 21,
    "start_time": "2021-10-13T17:44:39.777Z"
   },
   {
    "duration": 30,
    "start_time": "2021-10-13T17:44:39.801Z"
   },
   {
    "duration": 64,
    "start_time": "2021-10-13T17:44:39.833Z"
   },
   {
    "duration": 39,
    "start_time": "2021-10-13T17:44:39.899Z"
   },
   {
    "duration": 13,
    "start_time": "2021-10-13T17:44:39.941Z"
   },
   {
    "duration": 2921,
    "start_time": "2021-10-13T17:44:39.956Z"
   },
   {
    "duration": 24,
    "start_time": "2021-10-13T17:44:42.880Z"
   },
   {
    "duration": 25,
    "start_time": "2021-10-13T17:44:42.908Z"
   },
   {
    "duration": 22,
    "start_time": "2021-10-13T17:44:42.936Z"
   },
   {
    "duration": 9,
    "start_time": "2021-10-13T17:44:42.960Z"
   },
   {
    "duration": 117,
    "start_time": "2021-10-13T17:44:42.972Z"
   },
   {
    "duration": 16,
    "start_time": "2021-10-13T17:44:43.091Z"
   },
   {
    "duration": 27,
    "start_time": "2021-10-13T17:44:43.123Z"
   },
   {
    "duration": 79,
    "start_time": "2021-10-13T17:44:43.153Z"
   },
   {
    "duration": 13,
    "start_time": "2021-10-13T17:44:43.234Z"
   },
   {
    "duration": 78,
    "start_time": "2021-10-13T17:44:43.249Z"
   },
   {
    "duration": 12,
    "start_time": "2021-10-13T17:44:43.330Z"
   },
   {
    "duration": 90,
    "start_time": "2021-10-13T17:44:43.344Z"
   },
   {
    "duration": 13,
    "start_time": "2021-10-13T17:44:43.437Z"
   },
   {
    "duration": 64,
    "start_time": "2021-10-13T17:45:52.369Z"
   },
   {
    "duration": 19,
    "start_time": "2021-10-13T17:45:52.436Z"
   },
   {
    "duration": 20,
    "start_time": "2021-10-13T17:45:52.458Z"
   },
   {
    "duration": 50,
    "start_time": "2021-10-13T17:45:52.480Z"
   },
   {
    "duration": 13,
    "start_time": "2021-10-13T17:45:52.532Z"
   },
   {
    "duration": 39,
    "start_time": "2021-10-13T17:45:52.548Z"
   },
   {
    "duration": 43,
    "start_time": "2021-10-13T17:45:52.589Z"
   },
   {
    "duration": 36,
    "start_time": "2021-10-13T17:45:52.635Z"
   },
   {
    "duration": 13,
    "start_time": "2021-10-13T17:45:52.674Z"
   },
   {
    "duration": 38,
    "start_time": "2021-10-13T17:45:52.690Z"
   },
   {
    "duration": 11,
    "start_time": "2021-10-13T17:45:52.730Z"
   },
   {
    "duration": 13,
    "start_time": "2021-10-13T17:45:52.743Z"
   },
   {
    "duration": 12,
    "start_time": "2021-10-13T17:45:52.758Z"
   },
   {
    "duration": 52,
    "start_time": "2021-10-13T17:45:52.773Z"
   },
   {
    "duration": 36,
    "start_time": "2021-10-13T17:45:52.828Z"
   },
   {
    "duration": 10,
    "start_time": "2021-10-13T17:45:52.867Z"
   },
   {
    "duration": 59,
    "start_time": "2021-10-13T17:45:52.879Z"
   },
   {
    "duration": 13,
    "start_time": "2021-10-13T17:45:52.940Z"
   },
   {
    "duration": 20,
    "start_time": "2021-10-13T17:45:52.955Z"
   },
   {
    "duration": 11,
    "start_time": "2021-10-13T17:45:52.977Z"
   },
   {
    "duration": 22,
    "start_time": "2021-10-13T17:45:53.022Z"
   },
   {
    "duration": 24,
    "start_time": "2021-10-13T17:45:53.047Z"
   },
   {
    "duration": 10,
    "start_time": "2021-10-13T17:45:53.076Z"
   },
   {
    "duration": 36,
    "start_time": "2021-10-13T17:45:53.089Z"
   },
   {
    "duration": 2850,
    "start_time": "2021-10-13T17:45:53.128Z"
   },
   {
    "duration": 42,
    "start_time": "2021-10-13T17:45:55.982Z"
   },
   {
    "duration": 11,
    "start_time": "2021-10-13T17:45:56.028Z"
   },
   {
    "duration": 29,
    "start_time": "2021-10-13T17:45:56.041Z"
   },
   {
    "duration": 11,
    "start_time": "2021-10-13T17:45:56.073Z"
   },
   {
    "duration": 75,
    "start_time": "2021-10-13T17:45:56.123Z"
   },
   {
    "duration": 34,
    "start_time": "2021-10-13T17:45:56.200Z"
   },
   {
    "duration": 13,
    "start_time": "2021-10-13T17:45:56.237Z"
   },
   {
    "duration": 87,
    "start_time": "2021-10-13T17:45:56.252Z"
   },
   {
    "duration": 13,
    "start_time": "2021-10-13T17:45:56.342Z"
   },
   {
    "duration": 80,
    "start_time": "2021-10-13T17:45:56.357Z"
   },
   {
    "duration": 12,
    "start_time": "2021-10-13T17:45:56.440Z"
   },
   {
    "duration": 85,
    "start_time": "2021-10-13T17:45:56.454Z"
   },
   {
    "duration": 12,
    "start_time": "2021-10-13T17:45:56.541Z"
   },
   {
    "duration": 64,
    "start_time": "2021-10-13T17:46:23.316Z"
   },
   {
    "duration": 38,
    "start_time": "2021-10-13T17:46:23.384Z"
   },
   {
    "duration": 17,
    "start_time": "2021-10-13T17:46:23.425Z"
   },
   {
    "duration": 17,
    "start_time": "2021-10-13T17:46:23.445Z"
   },
   {
    "duration": 9,
    "start_time": "2021-10-13T17:46:23.464Z"
   },
   {
    "duration": 68,
    "start_time": "2021-10-13T17:46:23.475Z"
   },
   {
    "duration": 11,
    "start_time": "2021-10-13T17:46:23.545Z"
   },
   {
    "duration": 71,
    "start_time": "2021-10-13T17:46:23.560Z"
   },
   {
    "duration": 11,
    "start_time": "2021-10-13T17:46:23.633Z"
   },
   {
    "duration": 11,
    "start_time": "2021-10-13T17:46:23.646Z"
   },
   {
    "duration": 8,
    "start_time": "2021-10-13T17:46:23.660Z"
   },
   {
    "duration": 12,
    "start_time": "2021-10-13T17:46:23.670Z"
   },
   {
    "duration": 11,
    "start_time": "2021-10-13T17:46:23.722Z"
   },
   {
    "duration": 12,
    "start_time": "2021-10-13T17:46:23.736Z"
   },
   {
    "duration": 73,
    "start_time": "2021-10-13T17:46:23.751Z"
   },
   {
    "duration": 10,
    "start_time": "2021-10-13T17:46:23.826Z"
   },
   {
    "duration": 18,
    "start_time": "2021-10-13T17:46:23.839Z"
   },
   {
    "duration": 14,
    "start_time": "2021-10-13T17:46:23.860Z"
   },
   {
    "duration": 60,
    "start_time": "2021-10-13T17:46:23.876Z"
   },
   {
    "duration": 11,
    "start_time": "2021-10-13T17:46:23.938Z"
   },
   {
    "duration": 23,
    "start_time": "2021-10-13T17:46:23.952Z"
   },
   {
    "duration": 52,
    "start_time": "2021-10-13T17:46:23.977Z"
   },
   {
    "duration": 11,
    "start_time": "2021-10-13T17:46:24.034Z"
   },
   {
    "duration": 6,
    "start_time": "2021-10-13T17:46:24.047Z"
   },
   {
    "duration": 2900,
    "start_time": "2021-10-13T17:46:24.055Z"
   },
   {
    "duration": 24,
    "start_time": "2021-10-13T17:46:26.958Z"
   },
   {
    "duration": 9,
    "start_time": "2021-10-13T17:46:26.984Z"
   },
   {
    "duration": 46,
    "start_time": "2021-10-13T17:46:26.995Z"
   },
   {
    "duration": 9,
    "start_time": "2021-10-13T17:46:27.043Z"
   },
   {
    "duration": 103,
    "start_time": "2021-10-13T17:46:27.054Z"
   },
   {
    "duration": 16,
    "start_time": "2021-10-13T17:46:27.159Z"
   },
   {
    "duration": 14,
    "start_time": "2021-10-13T17:46:27.178Z"
   },
   {
    "duration": 83,
    "start_time": "2021-10-13T17:46:27.194Z"
   },
   {
    "duration": 12,
    "start_time": "2021-10-13T17:46:27.279Z"
   },
   {
    "duration": 83,
    "start_time": "2021-10-13T17:46:27.293Z"
   },
   {
    "duration": 12,
    "start_time": "2021-10-13T17:46:27.378Z"
   },
   {
    "duration": 82,
    "start_time": "2021-10-13T17:46:27.393Z"
   },
   {
    "duration": 14,
    "start_time": "2021-10-13T17:46:27.478Z"
   },
   {
    "duration": 66,
    "start_time": "2021-10-13T17:46:48.816Z"
   },
   {
    "duration": 38,
    "start_time": "2021-10-13T17:46:48.884Z"
   },
   {
    "duration": 18,
    "start_time": "2021-10-13T17:46:48.924Z"
   },
   {
    "duration": 25,
    "start_time": "2021-10-13T17:46:48.945Z"
   },
   {
    "duration": 11,
    "start_time": "2021-10-13T17:46:48.973Z"
   },
   {
    "duration": 69,
    "start_time": "2021-10-13T17:46:48.986Z"
   },
   {
    "duration": 10,
    "start_time": "2021-10-13T17:46:49.058Z"
   },
   {
    "duration": 76,
    "start_time": "2021-10-13T17:46:49.071Z"
   },
   {
    "duration": 30,
    "start_time": "2021-10-13T17:46:49.151Z"
   },
   {
    "duration": 18,
    "start_time": "2021-10-13T17:46:49.183Z"
   },
   {
    "duration": 19,
    "start_time": "2021-10-13T17:46:49.203Z"
   },
   {
    "duration": 20,
    "start_time": "2021-10-13T17:46:49.224Z"
   },
   {
    "duration": 10,
    "start_time": "2021-10-13T17:46:49.247Z"
   },
   {
    "duration": 20,
    "start_time": "2021-10-13T17:46:49.260Z"
   },
   {
    "duration": 56,
    "start_time": "2021-10-13T17:46:49.282Z"
   },
   {
    "duration": 9,
    "start_time": "2021-10-13T17:46:49.340Z"
   },
   {
    "duration": 34,
    "start_time": "2021-10-13T17:46:49.351Z"
   },
   {
    "duration": 15,
    "start_time": "2021-10-13T17:46:49.387Z"
   },
   {
    "duration": 38,
    "start_time": "2021-10-13T17:46:49.404Z"
   },
   {
    "duration": 12,
    "start_time": "2021-10-13T17:46:49.444Z"
   },
   {
    "duration": 36,
    "start_time": "2021-10-13T17:46:49.459Z"
   },
   {
    "duration": 43,
    "start_time": "2021-10-13T17:46:49.497Z"
   },
   {
    "duration": 24,
    "start_time": "2021-10-13T17:46:49.545Z"
   },
   {
    "duration": 18,
    "start_time": "2021-10-13T17:46:49.572Z"
   },
   {
    "duration": 2971,
    "start_time": "2021-10-13T17:46:49.592Z"
   },
   {
    "duration": 25,
    "start_time": "2021-10-13T17:46:52.565Z"
   },
   {
    "duration": 31,
    "start_time": "2021-10-13T17:46:52.593Z"
   },
   {
    "duration": 21,
    "start_time": "2021-10-13T17:46:52.626Z"
   },
   {
    "duration": 14,
    "start_time": "2021-10-13T17:46:52.650Z"
   },
   {
    "duration": 113,
    "start_time": "2021-10-13T17:46:52.667Z"
   },
   {
    "duration": 19,
    "start_time": "2021-10-13T17:46:52.783Z"
   },
   {
    "duration": 34,
    "start_time": "2021-10-13T17:46:52.804Z"
   },
   {
    "duration": 83,
    "start_time": "2021-10-13T17:46:52.841Z"
   },
   {
    "duration": 14,
    "start_time": "2021-10-13T17:46:52.926Z"
   },
   {
    "duration": 81,
    "start_time": "2021-10-13T17:46:52.942Z"
   },
   {
    "duration": 13,
    "start_time": "2021-10-13T17:46:53.026Z"
   },
   {
    "duration": 82,
    "start_time": "2021-10-13T17:46:53.041Z"
   },
   {
    "duration": 13,
    "start_time": "2021-10-13T17:46:53.126Z"
   },
   {
    "duration": 12,
    "start_time": "2021-10-13T17:48:47.032Z"
   },
   {
    "duration": 62,
    "start_time": "2021-10-13T17:49:25.349Z"
   },
   {
    "duration": 21,
    "start_time": "2021-10-13T17:49:25.414Z"
   },
   {
    "duration": 18,
    "start_time": "2021-10-13T17:49:25.438Z"
   },
   {
    "duration": 16,
    "start_time": "2021-10-13T17:49:25.458Z"
   },
   {
    "duration": 48,
    "start_time": "2021-10-13T17:49:25.476Z"
   },
   {
    "duration": 34,
    "start_time": "2021-10-13T17:49:25.526Z"
   },
   {
    "duration": 11,
    "start_time": "2021-10-13T17:49:25.562Z"
   },
   {
    "duration": 66,
    "start_time": "2021-10-13T17:49:25.577Z"
   },
   {
    "duration": 10,
    "start_time": "2021-10-13T17:49:25.646Z"
   },
   {
    "duration": 16,
    "start_time": "2021-10-13T17:49:25.659Z"
   },
   {
    "duration": 9,
    "start_time": "2021-10-13T17:49:25.678Z"
   },
   {
    "duration": 41,
    "start_time": "2021-10-13T17:49:25.689Z"
   },
   {
    "duration": 11,
    "start_time": "2021-10-13T17:49:25.732Z"
   },
   {
    "duration": 9,
    "start_time": "2021-10-13T17:49:25.746Z"
   },
   {
    "duration": 71,
    "start_time": "2021-10-13T17:49:25.757Z"
   },
   {
    "duration": 10,
    "start_time": "2021-10-13T17:49:25.830Z"
   },
   {
    "duration": 21,
    "start_time": "2021-10-13T17:49:25.842Z"
   },
   {
    "duration": 14,
    "start_time": "2021-10-13T17:49:25.865Z"
   },
   {
    "duration": 52,
    "start_time": "2021-10-13T17:49:25.881Z"
   },
   {
    "duration": 11,
    "start_time": "2021-10-13T17:49:25.936Z"
   },
   {
    "duration": 27,
    "start_time": "2021-10-13T17:49:25.949Z"
   },
   {
    "duration": 57,
    "start_time": "2021-10-13T17:49:25.979Z"
   },
   {
    "duration": 14,
    "start_time": "2021-10-13T17:49:26.043Z"
   },
   {
    "duration": 5,
    "start_time": "2021-10-13T17:49:26.061Z"
   },
   {
    "duration": 3026,
    "start_time": "2021-10-13T17:49:26.069Z"
   },
   {
    "duration": 41,
    "start_time": "2021-10-13T17:49:29.097Z"
   },
   {
    "duration": 8,
    "start_time": "2021-10-13T17:49:29.141Z"
   },
   {
    "duration": 20,
    "start_time": "2021-10-13T17:49:29.152Z"
   },
   {
    "duration": 12,
    "start_time": "2021-10-13T17:49:29.174Z"
   },
   {
    "duration": 76,
    "start_time": "2021-10-13T17:49:29.223Z"
   },
   {
    "duration": 36,
    "start_time": "2021-10-13T17:49:29.302Z"
   },
   {
    "duration": 15,
    "start_time": "2021-10-13T17:49:29.341Z"
   },
   {
    "duration": 95,
    "start_time": "2021-10-13T17:49:29.359Z"
   },
   {
    "duration": 14,
    "start_time": "2021-10-13T17:49:29.457Z"
   },
   {
    "duration": 81,
    "start_time": "2021-10-13T17:49:29.474Z"
   },
   {
    "duration": 14,
    "start_time": "2021-10-13T17:49:29.558Z"
   },
   {
    "duration": 91,
    "start_time": "2021-10-13T17:49:29.575Z"
   },
   {
    "duration": 14,
    "start_time": "2021-10-13T17:49:29.669Z"
   },
   {
    "duration": 63,
    "start_time": "2021-10-13T17:50:02.378Z"
   },
   {
    "duration": 19,
    "start_time": "2021-10-13T17:50:02.444Z"
   },
   {
    "duration": 31,
    "start_time": "2021-10-13T17:50:02.466Z"
   },
   {
    "duration": 16,
    "start_time": "2021-10-13T17:50:02.523Z"
   },
   {
    "duration": 14,
    "start_time": "2021-10-13T17:50:02.542Z"
   },
   {
    "duration": 40,
    "start_time": "2021-10-13T17:50:02.559Z"
   },
   {
    "duration": 13,
    "start_time": "2021-10-13T17:50:02.623Z"
   },
   {
    "duration": 42,
    "start_time": "2021-10-13T17:50:02.642Z"
   },
   {
    "duration": 40,
    "start_time": "2021-10-13T17:50:02.688Z"
   },
   {
    "duration": 25,
    "start_time": "2021-10-13T17:50:02.731Z"
   },
   {
    "duration": 17,
    "start_time": "2021-10-13T17:50:02.759Z"
   },
   {
    "duration": 28,
    "start_time": "2021-10-13T17:50:02.779Z"
   },
   {
    "duration": 29,
    "start_time": "2021-10-13T17:50:02.810Z"
   },
   {
    "duration": 38,
    "start_time": "2021-10-13T17:50:02.842Z"
   },
   {
    "duration": 55,
    "start_time": "2021-10-13T17:50:02.883Z"
   },
   {
    "duration": 11,
    "start_time": "2021-10-13T17:50:02.942Z"
   },
   {
    "duration": 48,
    "start_time": "2021-10-13T17:50:02.956Z"
   },
   {
    "duration": 19,
    "start_time": "2021-10-13T17:50:03.007Z"
   },
   {
    "duration": 37,
    "start_time": "2021-10-13T17:50:03.030Z"
   },
   {
    "duration": 14,
    "start_time": "2021-10-13T17:50:03.071Z"
   },
   {
    "duration": 40,
    "start_time": "2021-10-13T17:50:03.087Z"
   },
   {
    "duration": 64,
    "start_time": "2021-10-13T17:50:03.130Z"
   },
   {
    "duration": 12,
    "start_time": "2021-10-13T17:50:03.198Z"
   },
   {
    "duration": 18,
    "start_time": "2021-10-13T17:50:03.212Z"
   },
   {
    "duration": 2861,
    "start_time": "2021-10-13T17:50:03.233Z"
   },
   {
    "duration": 36,
    "start_time": "2021-10-13T17:50:06.097Z"
   },
   {
    "duration": 40,
    "start_time": "2021-10-13T17:50:06.136Z"
   },
   {
    "duration": 46,
    "start_time": "2021-10-13T17:50:06.178Z"
   },
   {
    "duration": 29,
    "start_time": "2021-10-13T17:50:06.227Z"
   },
   {
    "duration": 115,
    "start_time": "2021-10-13T17:50:06.258Z"
   },
   {
    "duration": 18,
    "start_time": "2021-10-13T17:50:06.375Z"
   },
   {
    "duration": 36,
    "start_time": "2021-10-13T17:50:06.396Z"
   },
   {
    "duration": 61,
    "start_time": "2021-10-13T17:50:06.435Z"
   },
   {
    "duration": 26,
    "start_time": "2021-10-13T17:50:06.498Z"
   },
   {
    "duration": 62,
    "start_time": "2021-10-13T17:50:06.526Z"
   },
   {
    "duration": 12,
    "start_time": "2021-10-13T17:50:06.591Z"
   },
   {
    "duration": 64,
    "start_time": "2021-10-13T17:50:06.623Z"
   },
   {
    "duration": 33,
    "start_time": "2021-10-13T17:50:06.689Z"
   },
   {
    "duration": 637,
    "start_time": "2021-10-14T10:27:53.279Z"
   },
   {
    "duration": 20,
    "start_time": "2021-10-14T10:27:53.918Z"
   },
   {
    "duration": 23,
    "start_time": "2021-10-14T10:27:53.941Z"
   },
   {
    "duration": 15,
    "start_time": "2021-10-14T10:27:53.966Z"
   },
   {
    "duration": 8,
    "start_time": "2021-10-14T10:27:53.982Z"
   },
   {
    "duration": 24,
    "start_time": "2021-10-14T10:27:53.992Z"
   },
   {
    "duration": 8,
    "start_time": "2021-10-14T10:27:54.017Z"
   },
   {
    "duration": 43,
    "start_time": "2021-10-14T10:27:54.027Z"
   },
   {
    "duration": 8,
    "start_time": "2021-10-14T10:27:54.072Z"
   },
   {
    "duration": 7,
    "start_time": "2021-10-14T10:27:54.082Z"
   },
   {
    "duration": 6,
    "start_time": "2021-10-14T10:27:54.091Z"
   },
   {
    "duration": 10,
    "start_time": "2021-10-14T10:27:54.098Z"
   },
   {
    "duration": 11,
    "start_time": "2021-10-14T10:27:54.150Z"
   },
   {
    "duration": 9,
    "start_time": "2021-10-14T10:27:54.163Z"
   },
   {
    "duration": 22,
    "start_time": "2021-10-14T10:27:54.174Z"
   },
   {
    "duration": 9,
    "start_time": "2021-10-14T10:27:54.198Z"
   },
   {
    "duration": 52,
    "start_time": "2021-10-14T10:27:54.208Z"
   },
   {
    "duration": 12,
    "start_time": "2021-10-14T10:27:54.262Z"
   },
   {
    "duration": 15,
    "start_time": "2021-10-14T10:27:54.276Z"
   },
   {
    "duration": 10,
    "start_time": "2021-10-14T10:27:54.293Z"
   },
   {
    "duration": 54,
    "start_time": "2021-10-14T10:27:54.305Z"
   },
   {
    "duration": 16,
    "start_time": "2021-10-14T10:27:54.361Z"
   },
   {
    "duration": 8,
    "start_time": "2021-10-14T10:27:54.381Z"
   },
   {
    "duration": 3,
    "start_time": "2021-10-14T10:27:54.392Z"
   },
   {
    "duration": 2254,
    "start_time": "2021-10-14T10:27:54.397Z"
   },
   {
    "duration": 19,
    "start_time": "2021-10-14T10:27:56.653Z"
   },
   {
    "duration": 10,
    "start_time": "2021-10-14T10:27:56.674Z"
   },
   {
    "duration": 16,
    "start_time": "2021-10-14T10:27:56.686Z"
   },
   {
    "duration": 9,
    "start_time": "2021-10-14T10:27:56.704Z"
   },
   {
    "duration": 88,
    "start_time": "2021-10-14T10:27:56.714Z"
   },
   {
    "duration": 12,
    "start_time": "2021-10-14T10:27:56.804Z"
   },
   {
    "duration": 35,
    "start_time": "2021-10-14T10:27:56.818Z"
   },
   {
    "duration": 48,
    "start_time": "2021-10-14T10:27:56.855Z"
   },
   {
    "duration": 10,
    "start_time": "2021-10-14T10:27:56.905Z"
   },
   {
    "duration": 54,
    "start_time": "2021-10-14T10:27:56.918Z"
   },
   {
    "duration": 10,
    "start_time": "2021-10-14T10:27:56.974Z"
   },
   {
    "duration": 44,
    "start_time": "2021-10-14T10:27:56.986Z"
   },
   {
    "duration": 26,
    "start_time": "2021-10-14T10:27:57.032Z"
   },
   {
    "duration": 58,
    "start_time": "2021-10-14T11:04:48.051Z"
   },
   {
    "duration": 15,
    "start_time": "2021-10-14T11:04:48.111Z"
   },
   {
    "duration": 34,
    "start_time": "2021-10-14T11:04:48.129Z"
   },
   {
    "duration": 19,
    "start_time": "2021-10-14T11:04:48.166Z"
   },
   {
    "duration": 9,
    "start_time": "2021-10-14T11:04:48.188Z"
   },
   {
    "duration": 65,
    "start_time": "2021-10-14T11:04:48.200Z"
   },
   {
    "duration": 11,
    "start_time": "2021-10-14T11:04:48.267Z"
   },
   {
    "duration": 31,
    "start_time": "2021-10-14T11:04:48.280Z"
   },
   {
    "duration": 9,
    "start_time": "2021-10-14T11:04:48.314Z"
   },
   {
    "duration": 31,
    "start_time": "2021-10-14T11:04:48.326Z"
   },
   {
    "duration": 5,
    "start_time": "2021-10-14T11:04:48.359Z"
   },
   {
    "duration": 10,
    "start_time": "2021-10-14T11:04:48.366Z"
   },
   {
    "duration": 8,
    "start_time": "2021-10-14T11:04:48.377Z"
   },
   {
    "duration": 6,
    "start_time": "2021-10-14T11:04:48.386Z"
   },
   {
    "duration": 59,
    "start_time": "2021-10-14T11:04:48.394Z"
   },
   {
    "duration": 8,
    "start_time": "2021-10-14T11:04:48.454Z"
   },
   {
    "duration": 13,
    "start_time": "2021-10-14T11:04:48.464Z"
   },
   {
    "duration": 12,
    "start_time": "2021-10-14T11:04:48.479Z"
   },
   {
    "duration": 14,
    "start_time": "2021-10-14T11:04:48.493Z"
   },
   {
    "duration": 8,
    "start_time": "2021-10-14T11:04:48.509Z"
   },
   {
    "duration": 16,
    "start_time": "2021-10-14T11:04:48.550Z"
   },
   {
    "duration": 18,
    "start_time": "2021-10-14T11:04:48.568Z"
   },
   {
    "duration": 10,
    "start_time": "2021-10-14T11:04:48.589Z"
   },
   {
    "duration": 4,
    "start_time": "2021-10-14T11:04:48.601Z"
   },
   {
    "duration": 2466,
    "start_time": "2021-10-14T11:04:48.607Z"
   },
   {
    "duration": 15,
    "start_time": "2021-10-14T11:04:51.075Z"
   },
   {
    "duration": 10,
    "start_time": "2021-10-14T11:04:51.096Z"
   },
   {
    "duration": 40,
    "start_time": "2021-10-14T11:04:51.109Z"
   },
   {
    "duration": 9,
    "start_time": "2021-10-14T11:04:51.151Z"
   },
   {
    "duration": 72,
    "start_time": "2021-10-14T11:04:51.162Z"
   },
   {
    "duration": 19,
    "start_time": "2021-10-14T11:04:51.236Z"
   },
   {
    "duration": 10,
    "start_time": "2021-10-14T11:04:51.257Z"
   },
   {
    "duration": 83,
    "start_time": "2021-10-14T11:04:51.270Z"
   },
   {
    "duration": 9,
    "start_time": "2021-10-14T11:04:51.354Z"
   },
   {
    "duration": 52,
    "start_time": "2021-10-14T11:04:51.365Z"
   },
   {
    "duration": 9,
    "start_time": "2021-10-14T11:04:51.418Z"
   },
   {
    "duration": 76,
    "start_time": "2021-10-14T11:04:51.428Z"
   },
   {
    "duration": 9,
    "start_time": "2021-10-14T11:04:51.506Z"
   },
   {
    "duration": 102,
    "start_time": "2021-10-14T14:24:30.299Z"
   }
  ],
  "kernelspec": {
   "display_name": "Python 3 (ipykernel)",
   "language": "python",
   "name": "python3"
  },
  "language_info": {
   "codemirror_mode": {
    "name": "ipython",
    "version": 3
   },
   "file_extension": ".py",
   "mimetype": "text/x-python",
   "name": "python",
   "nbconvert_exporter": "python",
   "pygments_lexer": "ipython3",
   "version": "3.9.7"
  },
  "toc": {
   "base_numbering": 1,
   "nav_menu": {},
   "number_sections": true,
   "sideBar": true,
   "skip_h1_title": true,
   "title_cell": "Table of Contents",
   "title_sidebar": "Contents",
   "toc_cell": false,
   "toc_position": {},
   "toc_section_display": true,
   "toc_window_display": false
  }
 },
 "nbformat": 4,
 "nbformat_minor": 2
}
